{
    "metadata": {
        "kernelspec": {
            "name": "SQL",
            "display_name": "SQL",
            "language": "sql"
        },
        "language_info": {
            "name": "sql",
            "version": ""
        }
    },
    "nbformat_minor": 2,
    "nbformat": 4,
    "cells": [
        {
            "cell_type": "code",
            "source": [
                "-- 2. feladat\r\n",
                "\r\n",
                "SELECT sz.SZOBA_ID, \r\n",
                "       foglalas_pk, \r\n",
                "       DATEDIFF(day, f.mettol, f.meddig)\r\n",
                "       LAG(DATEDIFF(day, f.mettol, f.meddig), 1, 0) \r\n",
                "       OVER(PARTITION BY sz.SZOBA_ID, foglalas_pk ORDER BY  )\r\n",
                "FROM Szoba sz JOIN Foglalas f ON sz.SZOBA_ID = f.SZOBA_FK"
            ],
            "metadata": {
                "azdata_cell_guid": "c4db965c-1467-4b23-873a-8586c06f33ed",
                "language": "sql",
                "tags": []
            },
            "outputs": [
                {
                    "output_type": "error",
                    "evalue": "Msg 102, Level 15, State 1, Line 6\r\nIncorrect syntax near 'DATEDIFF'.",
                    "ename": "",
                    "traceback": []
                },
                {
                    "output_type": "display_data",
                    "data": {
                        "text/html": "Total execution time: 00:00:00.003"
                    },
                    "metadata": {}
                }
            ],
            "execution_count": 6
        },
        {
            "cell_type": "code",
            "source": [
                "-- 3. feladat\r\n",
                "\r\n",
                "SELECT v.NEV,\r\n",
                "       LAG(v.NEV, 3, '-') OVER(PARTITION AS 'Előző három foglalás átlagosan'\r\n",
                "FROM Foglalas f JOIN Vendeg v ON f.UGYFEL_FK = v.USERNEV\r\n",
                "WHERE GYERMEK_SZAM + FELNOTT_SZAM < (\r\n",
                "    SELECT AVG(GYERMEK_SZAM + FELNOTT_SZAM)\r\n",
                "    FROM Foglalas\r\n",
                ")\r\n",
                "OR NOT IN (\r\n",
                "    SELECT v.NEV\r\n",
                "    FROM Foglalas f JOIN Vendeg v ON f.UGYFEL_FK = v.USERNEV\r\n",
                "    WHERE \r\n",
                ")\r\n",
                ""
            ],
            "metadata": {
                "azdata_cell_guid": "1fbd43a1-d26e-4405-8f13-09d2b81b9320",
                "language": "sql"
            },
            "outputs": [
                {
                    "output_type": "display_data",
                    "data": {
                        "text/html": "(147 rows affected)"
                    },
                    "metadata": {}
                },
                {
                    "output_type": "display_data",
                    "data": {
                        "text/html": "Total execution time: 00:00:00.017"
                    },
                    "metadata": {}
                },
                {
                    "output_type": "execute_result",
                    "metadata": {},
                    "execution_count": 9,
                    "data": {
                        "application/vnd.dataresource+json": {
                            "schema": {
                                "fields": [
                                    {
                                        "name": "NEV"
                                    }
                                ]
                            },
                            "data": [
                                {
                                    "NEV": "Kiss Ádám"
                                },
                                {
                                    "NEV": "Barkóci Ádám"
                                },
                                {
                                    "NEV": "Lengyel Ágnes"
                                },
                                {
                                    "NEV": "Hartyánszky Ágnes"
                                },
                                {
                                    "NEV": "Horváth Ágnes"
                                },
                                {
                                    "NEV": "Horváth Ágnes"
                                },
                                {
                                    "NEV": "Bíró Ákos"
                                },
                                {
                                    "NEV": "Bíró Ákos"
                                },
                                {
                                    "NEV": "Dunai Aladár"
                                },
                                {
                                    "NEV": "Dunai Aladár"
                                },
                                {
                                    "NEV": "Bagóczki Alexandra"
                                },
                                {
                                    "NEV": "Maródi Andrea"
                                },
                                {
                                    "NEV": "Tóth András"
                                },
                                {
                                    "NEV": "Molnár András"
                                },
                                {
                                    "NEV": "Vígh András"
                                },
                                {
                                    "NEV": "Vígh András"
                                },
                                {
                                    "NEV": "Komjáti András"
                                },
                                {
                                    "NEV": "Komjáti András"
                                },
                                {
                                    "NEV": "Komjáti András"
                                },
                                {
                                    "NEV": "Erdei András"
                                },
                                {
                                    "NEV": "Neizer Andrea"
                                },
                                {
                                    "NEV": "Pivarcsi Anett"
                                },
                                {
                                    "NEV": "Pivarcsi Anett"
                                },
                                {
                                    "NEV": "Böröcz Anikó"
                                },
                                {
                                    "NEV": "Simon Anikó"
                                },
                                {
                                    "NEV": "Regős Annamária"
                                },
                                {
                                    "NEV": "Horváth Árpád"
                                },
                                {
                                    "NEV": "Horváth Árpád"
                                },
                                {
                                    "NEV": "Horváth Árpád"
                                },
                                {
                                    "NEV": "Móricz Árpád"
                                },
                                {
                                    "NEV": "Csóti Attila"
                                },
                                {
                                    "NEV": "Gulyás Attila"
                                },
                                {
                                    "NEV": "Szűcs Balázs"
                                },
                                {
                                    "NEV": "Molnár Bálint"
                                },
                                {
                                    "NEV": "Molnár Bálint"
                                },
                                {
                                    "NEV": "Vukasinovity Bálint"
                                },
                                {
                                    "NEV": "Bagi Beáta"
                                },
                                {
                                    "NEV": "Bagi Beáta"
                                },
                                {
                                    "NEV": "Szekendi Beatrix"
                                },
                                {
                                    "NEV": "Farkas Béla"
                                },
                                {
                                    "NEV": "Győrffy Bence"
                                },
                                {
                                    "NEV": "Simon Bernadett"
                                },
                                {
                                    "NEV": "Kovács Bernadett"
                                },
                                {
                                    "NEV": "Csiger Bertalan"
                                },
                                {
                                    "NEV": "Székely Brigitta"
                                },
                                {
                                    "NEV": "Vörös Dániel"
                                },
                                {
                                    "NEV": "Vörös Dániel"
                                },
                                {
                                    "NEV": "Rácz Dániel"
                                },
                                {
                                    "NEV": "Ambrus Dávid"
                                },
                                {
                                    "NEV": "Kuruc Emese"
                                },
                                {
                                    "NEV": "Balogh Eszter"
                                },
                                {
                                    "NEV": "Balogh Eszter"
                                },
                                {
                                    "NEV": "Balogh Eszter"
                                },
                                {
                                    "NEV": "Balogh Eszter"
                                },
                                {
                                    "NEV": "Balogh Eszter"
                                },
                                {
                                    "NEV": "Balogh Eszter"
                                },
                                {
                                    "NEV": "Perlinger Éva"
                                },
                                {
                                    "NEV": "Frank Fruzsina"
                                },
                                {
                                    "NEV": "Köves Gábor"
                                },
                                {
                                    "NEV": "Köves Gábor"
                                },
                                {
                                    "NEV": "Telek Gábor"
                                },
                                {
                                    "NEV": "Kornseé Gyöngyi"
                                },
                                {
                                    "NEV": "Oroszi György"
                                },
                                {
                                    "NEV": "Nádudvari Henrik"
                                },
                                {
                                    "NEV": "Vizi István"
                                },
                                {
                                    "NEV": "Harangozó János"
                                },
                                {
                                    "NEV": "Harangozó János"
                                },
                                {
                                    "NEV": "Giliga János"
                                },
                                {
                                    "NEV": "Gyuris József"
                                },
                                {
                                    "NEV": "Gyuris József"
                                },
                                {
                                    "NEV": "Hídasi Judit"
                                },
                                {
                                    "NEV": "Tóth Júlia"
                                },
                                {
                                    "NEV": "Nagy Júlia"
                                },
                                {
                                    "NEV": "Gondos Katalin"
                                },
                                {
                                    "NEV": "Gondos Katalin"
                                },
                                {
                                    "NEV": "Horváth Katalin"
                                },
                                {
                                    "NEV": "Horváth Katalin"
                                },
                                {
                                    "NEV": "Horváth Katalin"
                                },
                                {
                                    "NEV": "Horváth Katalin"
                                },
                                {
                                    "NEV": "Kertész Katalin"
                                },
                                {
                                    "NEV": "Kovács Katalin"
                                },
                                {
                                    "NEV": "Czérna Krisztián"
                                },
                                {
                                    "NEV": "Czérna Krisztián"
                                },
                                {
                                    "NEV": "Czérna Krisztián"
                                },
                                {
                                    "NEV": "Mogyródi Krisztián"
                                },
                                {
                                    "NEV": "Szedlár Krisztina"
                                },
                                {
                                    "NEV": "Szedlár Krisztina"
                                },
                                {
                                    "NEV": "Bori Krisztina"
                                },
                                {
                                    "NEV": "Gyárfás Krisztina"
                                },
                                {
                                    "NEV": "Gyárfás Krisztina"
                                },
                                {
                                    "NEV": "Kiss Lajos"
                                },
                                {
                                    "NEV": "Antal László"
                                },
                                {
                                    "NEV": "Nagy László"
                                },
                                {
                                    "NEV": "Nagy László"
                                },
                                {
                                    "NEV": "Nagy László"
                                },
                                {
                                    "NEV": "Baráth Mária"
                                },
                                {
                                    "NEV": "Baráth Mária"
                                },
                                {
                                    "NEV": "Baráth Mária"
                                },
                                {
                                    "NEV": "Kispál Márk"
                                },
                                {
                                    "NEV": "Kalacsi Márton"
                                },
                                {
                                    "NEV": "Szilágyi Mátyás"
                                },
                                {
                                    "NEV": "Szilágyi Mátyás"
                                },
                                {
                                    "NEV": "Juhász Mihály"
                                },
                                {
                                    "NEV": "Juhász Mihály"
                                },
                                {
                                    "NEV": "Gondos Miklós"
                                },
                                {
                                    "NEV": "Mohos Mónika"
                                },
                                {
                                    "NEV": "Mohos Mónika"
                                },
                                {
                                    "NEV": "Horváth Nikolett"
                                },
                                {
                                    "NEV": "Horváth Nikolett"
                                },
                                {
                                    "NEV": "Szűcs Norbert"
                                },
                                {
                                    "NEV": "Szűcs Norbert"
                                },
                                {
                                    "NEV": "Hegedűs Norbert"
                                },
                                {
                                    "NEV": "Hegedűs Norbert"
                                },
                                {
                                    "NEV": "Mile Norbert"
                                },
                                {
                                    "NEV": "Béres Norbert"
                                },
                                {
                                    "NEV": "Szalai Péter"
                                },
                                {
                                    "NEV": "Szalai Péter"
                                },
                                {
                                    "NEV": "Berendi Péter"
                                },
                                {
                                    "NEV": "Berendi Péter"
                                },
                                {
                                    "NEV": "Kardos Renáta"
                                },
                                {
                                    "NEV": "Kardos Renáta"
                                },
                                {
                                    "NEV": "Kardos Renáta"
                                },
                                {
                                    "NEV": "Kardos Renáta"
                                },
                                {
                                    "NEV": "Szirmai Renáta"
                                },
                                {
                                    "NEV": "Patay Róbert"
                                },
                                {
                                    "NEV": "Iván Róbert"
                                },
                                {
                                    "NEV": "Ferencz Roland"
                                },
                                {
                                    "NEV": "Farkas Sándor"
                                },
                                {
                                    "NEV": "Nagy Sándor"
                                },
                                {
                                    "NEV": "Nagy Sándor"
                                },
                                {
                                    "NEV": "Farkas Sára"
                                },
                                {
                                    "NEV": "Szalai Szilárd"
                                },
                                {
                                    "NEV": "Fényes Tamás"
                                },
                                {
                                    "NEV": "Gombos Tibor"
                                },
                                {
                                    "NEV": "Kazy Tihamér"
                                },
                                {
                                    "NEV": "Turcsik Tünde"
                                },
                                {
                                    "NEV": "Feró Valentin"
                                },
                                {
                                    "NEV": "Tankó Veronika"
                                },
                                {
                                    "NEV": "Urbán Viktoria"
                                },
                                {
                                    "NEV": "Boros Vivien"
                                },
                                {
                                    "NEV": "Barna Zoltán"
                                },
                                {
                                    "NEV": "Barna Zoltán"
                                },
                                {
                                    "NEV": "Barna Zoltán"
                                },
                                {
                                    "NEV": "Barna Zoltán"
                                },
                                {
                                    "NEV": "Józsa Zsolt"
                                },
                                {
                                    "NEV": "Barta Zsuzsanna"
                                },
                                {
                                    "NEV": "Vajda Zsuzsa"
                                }
                            ]
                        },
                        "text/html": [
                            "<table>",
                            "<tr><th>NEV</th></tr>",
                            "<tr><td>Kiss Ádám</td></tr>",
                            "<tr><td>Barkóci Ádám</td></tr>",
                            "<tr><td>Lengyel Ágnes</td></tr>",
                            "<tr><td>Hartyánszky Ágnes</td></tr>",
                            "<tr><td>Horváth Ágnes</td></tr>",
                            "<tr><td>Horváth Ágnes</td></tr>",
                            "<tr><td>Bíró Ákos</td></tr>",
                            "<tr><td>Bíró Ákos</td></tr>",
                            "<tr><td>Dunai Aladár</td></tr>",
                            "<tr><td>Dunai Aladár</td></tr>",
                            "<tr><td>Bagóczki Alexandra</td></tr>",
                            "<tr><td>Maródi Andrea</td></tr>",
                            "<tr><td>Tóth András</td></tr>",
                            "<tr><td>Molnár András</td></tr>",
                            "<tr><td>Vígh András</td></tr>",
                            "<tr><td>Vígh András</td></tr>",
                            "<tr><td>Komjáti András</td></tr>",
                            "<tr><td>Komjáti András</td></tr>",
                            "<tr><td>Komjáti András</td></tr>",
                            "<tr><td>Erdei András</td></tr>",
                            "<tr><td>Neizer Andrea</td></tr>",
                            "<tr><td>Pivarcsi Anett</td></tr>",
                            "<tr><td>Pivarcsi Anett</td></tr>",
                            "<tr><td>Böröcz Anikó</td></tr>",
                            "<tr><td>Simon Anikó</td></tr>",
                            "<tr><td>Regős Annamária</td></tr>",
                            "<tr><td>Horváth Árpád</td></tr>",
                            "<tr><td>Horváth Árpád</td></tr>",
                            "<tr><td>Horváth Árpád</td></tr>",
                            "<tr><td>Móricz Árpád</td></tr>",
                            "<tr><td>Csóti Attila</td></tr>",
                            "<tr><td>Gulyás Attila</td></tr>",
                            "<tr><td>Szűcs Balázs</td></tr>",
                            "<tr><td>Molnár Bálint</td></tr>",
                            "<tr><td>Molnár Bálint</td></tr>",
                            "<tr><td>Vukasinovity Bálint</td></tr>",
                            "<tr><td>Bagi Beáta</td></tr>",
                            "<tr><td>Bagi Beáta</td></tr>",
                            "<tr><td>Szekendi Beatrix</td></tr>",
                            "<tr><td>Farkas Béla</td></tr>",
                            "<tr><td>Győrffy Bence</td></tr>",
                            "<tr><td>Simon Bernadett</td></tr>",
                            "<tr><td>Kovács Bernadett</td></tr>",
                            "<tr><td>Csiger Bertalan</td></tr>",
                            "<tr><td>Székely Brigitta</td></tr>",
                            "<tr><td>Vörös Dániel</td></tr>",
                            "<tr><td>Vörös Dániel</td></tr>",
                            "<tr><td>Rácz Dániel</td></tr>",
                            "<tr><td>Ambrus Dávid</td></tr>",
                            "<tr><td>Kuruc Emese</td></tr>",
                            "<tr><td>Balogh Eszter</td></tr>",
                            "<tr><td>Balogh Eszter</td></tr>",
                            "<tr><td>Balogh Eszter</td></tr>",
                            "<tr><td>Balogh Eszter</td></tr>",
                            "<tr><td>Balogh Eszter</td></tr>",
                            "<tr><td>Balogh Eszter</td></tr>",
                            "<tr><td>Perlinger Éva</td></tr>",
                            "<tr><td>Frank Fruzsina</td></tr>",
                            "<tr><td>Köves Gábor</td></tr>",
                            "<tr><td>Köves Gábor</td></tr>",
                            "<tr><td>Telek Gábor</td></tr>",
                            "<tr><td>Kornseé Gyöngyi</td></tr>",
                            "<tr><td>Oroszi György</td></tr>",
                            "<tr><td>Nádudvari Henrik</td></tr>",
                            "<tr><td>Vizi István</td></tr>",
                            "<tr><td>Harangozó János</td></tr>",
                            "<tr><td>Harangozó János</td></tr>",
                            "<tr><td>Giliga János</td></tr>",
                            "<tr><td>Gyuris József</td></tr>",
                            "<tr><td>Gyuris József</td></tr>",
                            "<tr><td>Hídasi Judit</td></tr>",
                            "<tr><td>Tóth Júlia</td></tr>",
                            "<tr><td>Nagy Júlia</td></tr>",
                            "<tr><td>Gondos Katalin</td></tr>",
                            "<tr><td>Gondos Katalin</td></tr>",
                            "<tr><td>Horváth Katalin</td></tr>",
                            "<tr><td>Horváth Katalin</td></tr>",
                            "<tr><td>Horváth Katalin</td></tr>",
                            "<tr><td>Horváth Katalin</td></tr>",
                            "<tr><td>Kertész Katalin</td></tr>",
                            "<tr><td>Kovács Katalin</td></tr>",
                            "<tr><td>Czérna Krisztián</td></tr>",
                            "<tr><td>Czérna Krisztián</td></tr>",
                            "<tr><td>Czérna Krisztián</td></tr>",
                            "<tr><td>Mogyródi Krisztián</td></tr>",
                            "<tr><td>Szedlár Krisztina</td></tr>",
                            "<tr><td>Szedlár Krisztina</td></tr>",
                            "<tr><td>Bori Krisztina</td></tr>",
                            "<tr><td>Gyárfás Krisztina</td></tr>",
                            "<tr><td>Gyárfás Krisztina</td></tr>",
                            "<tr><td>Kiss Lajos</td></tr>",
                            "<tr><td>Antal László</td></tr>",
                            "<tr><td>Nagy László</td></tr>",
                            "<tr><td>Nagy László</td></tr>",
                            "<tr><td>Nagy László</td></tr>",
                            "<tr><td>Baráth Mária</td></tr>",
                            "<tr><td>Baráth Mária</td></tr>",
                            "<tr><td>Baráth Mária</td></tr>",
                            "<tr><td>Kispál Márk</td></tr>",
                            "<tr><td>Kalacsi Márton</td></tr>",
                            "<tr><td>Szilágyi Mátyás</td></tr>",
                            "<tr><td>Szilágyi Mátyás</td></tr>",
                            "<tr><td>Juhász Mihály</td></tr>",
                            "<tr><td>Juhász Mihály</td></tr>",
                            "<tr><td>Gondos Miklós</td></tr>",
                            "<tr><td>Mohos Mónika</td></tr>",
                            "<tr><td>Mohos Mónika</td></tr>",
                            "<tr><td>Horváth Nikolett</td></tr>",
                            "<tr><td>Horváth Nikolett</td></tr>",
                            "<tr><td>Szűcs Norbert</td></tr>",
                            "<tr><td>Szűcs Norbert</td></tr>",
                            "<tr><td>Hegedűs Norbert</td></tr>",
                            "<tr><td>Hegedűs Norbert</td></tr>",
                            "<tr><td>Mile Norbert</td></tr>",
                            "<tr><td>Béres Norbert</td></tr>",
                            "<tr><td>Szalai Péter</td></tr>",
                            "<tr><td>Szalai Péter</td></tr>",
                            "<tr><td>Berendi Péter</td></tr>",
                            "<tr><td>Berendi Péter</td></tr>",
                            "<tr><td>Kardos Renáta</td></tr>",
                            "<tr><td>Kardos Renáta</td></tr>",
                            "<tr><td>Kardos Renáta</td></tr>",
                            "<tr><td>Kardos Renáta</td></tr>",
                            "<tr><td>Szirmai Renáta</td></tr>",
                            "<tr><td>Patay Róbert</td></tr>",
                            "<tr><td>Iván Róbert</td></tr>",
                            "<tr><td>Ferencz Roland</td></tr>",
                            "<tr><td>Farkas Sándor</td></tr>",
                            "<tr><td>Nagy Sándor</td></tr>",
                            "<tr><td>Nagy Sándor</td></tr>",
                            "<tr><td>Farkas Sára</td></tr>",
                            "<tr><td>Szalai Szilárd</td></tr>",
                            "<tr><td>Fényes Tamás</td></tr>",
                            "<tr><td>Gombos Tibor</td></tr>",
                            "<tr><td>Kazy Tihamér</td></tr>",
                            "<tr><td>Turcsik Tünde</td></tr>",
                            "<tr><td>Feró Valentin</td></tr>",
                            "<tr><td>Tankó Veronika</td></tr>",
                            "<tr><td>Urbán Viktoria</td></tr>",
                            "<tr><td>Boros Vivien</td></tr>",
                            "<tr><td>Barna Zoltán</td></tr>",
                            "<tr><td>Barna Zoltán</td></tr>",
                            "<tr><td>Barna Zoltán</td></tr>",
                            "<tr><td>Barna Zoltán</td></tr>",
                            "<tr><td>Józsa Zsolt</td></tr>",
                            "<tr><td>Barta Zsuzsanna</td></tr>",
                            "<tr><td>Vajda Zsuzsa</td></tr>",
                            "</table>"
                        ]
                    }
                }
            ],
            "execution_count": 9
        }
    ]
}
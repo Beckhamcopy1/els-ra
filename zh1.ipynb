{
    "metadata": {
        "kernelspec": {
            "name": "SQL",
            "display_name": "SQL",
            "language": "sql"
        },
        "language_info": {
            "name": "sql",
            "version": ""
        }
    },
    "nbformat_minor": 2,
    "nbformat": 4,
    "cells": [
        {
            "cell_type": "code",
            "source": [
                "-- feladat 1\r\n",
                "\r\n",
                "SELECT SZOBA_FK AS 'Szobák', \r\n",
                "       COUNT(*) AS 'Foglalások száma'\r\n",
                "\r\n",
                "FROM Szoba szo JOIN Foglalas f ON f.SZOBA_FK = szo.SZOBA_ID\r\n",
                "WHERE FELNOTT_SZAM > GYERMEK_SZAM\r\n",
                "GROUP BY f.SZOBA_FK\r\n",
                "HAVING COUNT(*) > 2\r\n",
                "ORDER BY COUNT(*) ASC"
            ],
            "metadata": {
                "azdata_cell_guid": "d6ea2871-d089-41b7-928b-792018f7670b",
                "language": "sql",
                "tags": []
            },
            "outputs": [
                {
                    "output_type": "display_data",
                    "data": {
                        "text/html": "(130 rows affected)"
                    },
                    "metadata": {}
                },
                {
                    "output_type": "display_data",
                    "data": {
                        "text/html": "Total execution time: 00:00:00.011"
                    },
                    "metadata": {}
                },
                {
                    "output_type": "execute_result",
                    "metadata": {},
                    "execution_count": 12,
                    "data": {
                        "application/vnd.dataresource+json": {
                            "schema": {
                                "fields": [
                                    {
                                        "name": "Szobák"
                                    },
                                    {
                                        "name": "Foglalások száma"
                                    }
                                ]
                            },
                            "data": [
                                {
                                    "Szobák": "3",
                                    "Foglalások száma": "3"
                                },
                                {
                                    "Szobák": "14",
                                    "Foglalások száma": "3"
                                },
                                {
                                    "Szobák": "23",
                                    "Foglalások száma": "3"
                                },
                                {
                                    "Szobák": "24",
                                    "Foglalások száma": "3"
                                },
                                {
                                    "Szobák": "29",
                                    "Foglalások száma": "3"
                                },
                                {
                                    "Szobák": "33",
                                    "Foglalások száma": "3"
                                },
                                {
                                    "Szobák": "34",
                                    "Foglalások száma": "3"
                                },
                                {
                                    "Szobák": "18",
                                    "Foglalások száma": "3"
                                },
                                {
                                    "Szobák": "40",
                                    "Foglalások száma": "3"
                                },
                                {
                                    "Szobák": "46",
                                    "Foglalások száma": "3"
                                },
                                {
                                    "Szobák": "50",
                                    "Foglalások száma": "3"
                                },
                                {
                                    "Szobák": "51",
                                    "Foglalások száma": "3"
                                },
                                {
                                    "Szobák": "55",
                                    "Foglalások száma": "3"
                                },
                                {
                                    "Szobák": "57",
                                    "Foglalások száma": "3"
                                },
                                {
                                    "Szobák": "62",
                                    "Foglalások száma": "3"
                                },
                                {
                                    "Szobák": "63",
                                    "Foglalások száma": "3"
                                },
                                {
                                    "Szobák": "66",
                                    "Foglalások száma": "3"
                                },
                                {
                                    "Szobák": "77",
                                    "Foglalások száma": "3"
                                },
                                {
                                    "Szobák": "78",
                                    "Foglalások száma": "3"
                                },
                                {
                                    "Szobák": "81",
                                    "Foglalások száma": "3"
                                },
                                {
                                    "Szobák": "84",
                                    "Foglalások száma": "3"
                                },
                                {
                                    "Szobák": "90",
                                    "Foglalások száma": "3"
                                },
                                {
                                    "Szobák": "93",
                                    "Foglalások száma": "3"
                                },
                                {
                                    "Szobák": "95",
                                    "Foglalások száma": "3"
                                },
                                {
                                    "Szobák": "104",
                                    "Foglalások száma": "3"
                                },
                                {
                                    "Szobák": "122",
                                    "Foglalások száma": "3"
                                },
                                {
                                    "Szobák": "129",
                                    "Foglalások száma": "3"
                                },
                                {
                                    "Szobák": "135",
                                    "Foglalások száma": "3"
                                },
                                {
                                    "Szobák": "146",
                                    "Foglalások száma": "3"
                                },
                                {
                                    "Szobák": "154",
                                    "Foglalások száma": "3"
                                },
                                {
                                    "Szobák": "155",
                                    "Foglalások száma": "3"
                                },
                                {
                                    "Szobák": "158",
                                    "Foglalások száma": "3"
                                },
                                {
                                    "Szobák": "161",
                                    "Foglalások száma": "3"
                                },
                                {
                                    "Szobák": "152",
                                    "Foglalások száma": "3"
                                },
                                {
                                    "Szobák": "166",
                                    "Foglalások száma": "3"
                                },
                                {
                                    "Szobák": "169",
                                    "Foglalások száma": "3"
                                },
                                {
                                    "Szobák": "170",
                                    "Foglalások száma": "3"
                                },
                                {
                                    "Szobák": "173",
                                    "Foglalások száma": "3"
                                },
                                {
                                    "Szobák": "175",
                                    "Foglalások száma": "3"
                                },
                                {
                                    "Szobák": "183",
                                    "Foglalások száma": "3"
                                },
                                {
                                    "Szobák": "191",
                                    "Foglalások száma": "3"
                                },
                                {
                                    "Szobák": "184",
                                    "Foglalások száma": "4"
                                },
                                {
                                    "Szobák": "174",
                                    "Foglalások száma": "4"
                                },
                                {
                                    "Szobák": "153",
                                    "Foglalások száma": "4"
                                },
                                {
                                    "Szobák": "164",
                                    "Foglalások száma": "4"
                                },
                                {
                                    "Szobák": "141",
                                    "Foglalások száma": "4"
                                },
                                {
                                    "Szobák": "131",
                                    "Foglalások száma": "4"
                                },
                                {
                                    "Szobák": "132",
                                    "Foglalások száma": "4"
                                },
                                {
                                    "Szobák": "133",
                                    "Foglalások száma": "4"
                                },
                                {
                                    "Szobák": "134",
                                    "Foglalások száma": "4"
                                },
                                {
                                    "Szobák": "124",
                                    "Foglalások száma": "4"
                                },
                                {
                                    "Szobák": "126",
                                    "Foglalások száma": "4"
                                },
                                {
                                    "Szobák": "117",
                                    "Foglalások száma": "4"
                                },
                                {
                                    "Szobák": "119",
                                    "Foglalások száma": "4"
                                },
                                {
                                    "Szobák": "106",
                                    "Foglalások száma": "4"
                                },
                                {
                                    "Szobák": "107",
                                    "Foglalások száma": "4"
                                },
                                {
                                    "Szobák": "98",
                                    "Foglalások száma": "4"
                                },
                                {
                                    "Szobák": "99",
                                    "Foglalások száma": "4"
                                },
                                {
                                    "Szobák": "112",
                                    "Foglalások száma": "4"
                                },
                                {
                                    "Szobák": "54",
                                    "Foglalások száma": "4"
                                },
                                {
                                    "Szobák": "86",
                                    "Foglalások száma": "4"
                                },
                                {
                                    "Szobák": "73",
                                    "Foglalások száma": "4"
                                },
                                {
                                    "Szobák": "79",
                                    "Foglalások száma": "4"
                                },
                                {
                                    "Szobák": "59",
                                    "Foglalások száma": "4"
                                },
                                {
                                    "Szobák": "61",
                                    "Foglalások száma": "4"
                                },
                                {
                                    "Szobák": "45",
                                    "Foglalások száma": "4"
                                },
                                {
                                    "Szobák": "43",
                                    "Foglalások száma": "4"
                                },
                                {
                                    "Szobák": "13",
                                    "Foglalások száma": "4"
                                },
                                {
                                    "Szobák": "39",
                                    "Foglalások száma": "4"
                                },
                                {
                                    "Szobák": "19",
                                    "Foglalások száma": "4"
                                },
                                {
                                    "Szobák": "36",
                                    "Foglalások száma": "4"
                                },
                                {
                                    "Szobák": "15",
                                    "Foglalások száma": "4"
                                },
                                {
                                    "Szobák": "9",
                                    "Foglalások száma": "4"
                                },
                                {
                                    "Szobák": "10",
                                    "Foglalások száma": "4"
                                },
                                {
                                    "Szobák": "11",
                                    "Foglalások száma": "4"
                                },
                                {
                                    "Szobák": "4",
                                    "Foglalások száma": "5"
                                },
                                {
                                    "Szobák": "6",
                                    "Foglalások száma": "5"
                                },
                                {
                                    "Szobák": "8",
                                    "Foglalások száma": "5"
                                },
                                {
                                    "Szobák": "27",
                                    "Foglalások száma": "5"
                                },
                                {
                                    "Szobák": "28",
                                    "Foglalások száma": "5"
                                },
                                {
                                    "Szobák": "38",
                                    "Foglalások száma": "5"
                                },
                                {
                                    "Szobák": "20",
                                    "Foglalások száma": "5"
                                },
                                {
                                    "Szobák": "42",
                                    "Foglalások száma": "5"
                                },
                                {
                                    "Szobák": "49",
                                    "Foglalások száma": "5"
                                },
                                {
                                    "Szobák": "52",
                                    "Foglalások száma": "5"
                                },
                                {
                                    "Szobák": "80",
                                    "Foglalások száma": "5"
                                },
                                {
                                    "Szobák": "64",
                                    "Foglalások száma": "5"
                                },
                                {
                                    "Szobák": "82",
                                    "Foglalások száma": "5"
                                },
                                {
                                    "Szobák": "83",
                                    "Foglalások száma": "5"
                                },
                                {
                                    "Szobák": "87",
                                    "Foglalások száma": "5"
                                },
                                {
                                    "Szobák": "88",
                                    "Foglalások száma": "5"
                                },
                                {
                                    "Szobák": "97",
                                    "Foglalások száma": "5"
                                },
                                {
                                    "Szobák": "92",
                                    "Foglalások száma": "5"
                                },
                                {
                                    "Szobák": "115",
                                    "Foglalások száma": "5"
                                },
                                {
                                    "Szobák": "110",
                                    "Foglalások száma": "5"
                                },
                                {
                                    "Szobák": "121",
                                    "Foglalások száma": "5"
                                },
                                {
                                    "Szobák": "123",
                                    "Foglalások száma": "5"
                                },
                                {
                                    "Szobák": "127",
                                    "Foglalások száma": "5"
                                },
                                {
                                    "Szobák": "130",
                                    "Foglalások száma": "5"
                                },
                                {
                                    "Szobák": "143",
                                    "Foglalások száma": "5"
                                },
                                {
                                    "Szobák": "138",
                                    "Foglalások száma": "5"
                                },
                                {
                                    "Szobák": "163",
                                    "Foglalások száma": "5"
                                },
                                {
                                    "Szobák": "148",
                                    "Foglalások száma": "5"
                                },
                                {
                                    "Szobák": "149",
                                    "Foglalások száma": "5"
                                },
                                {
                                    "Szobák": "165",
                                    "Foglalások száma": "5"
                                },
                                {
                                    "Szobák": "171",
                                    "Foglalások száma": "5"
                                },
                                {
                                    "Szobák": "181",
                                    "Foglalások száma": "5"
                                },
                                {
                                    "Szobák": "140",
                                    "Foglalások száma": "5"
                                },
                                {
                                    "Szobák": "195",
                                    "Foglalások száma": "5"
                                },
                                {
                                    "Szobák": "190",
                                    "Foglalások száma": "5"
                                },
                                {
                                    "Szobák": "197",
                                    "Foglalások száma": "6"
                                },
                                {
                                    "Szobák": "187",
                                    "Foglalások száma": "6"
                                },
                                {
                                    "Szobák": "172",
                                    "Foglalások száma": "6"
                                },
                                {
                                    "Szobák": "150",
                                    "Foglalások száma": "6"
                                },
                                {
                                    "Szobák": "139",
                                    "Foglalások száma": "6"
                                },
                                {
                                    "Szobák": "94",
                                    "Foglalások száma": "6"
                                },
                                {
                                    "Szobák": "96",
                                    "Foglalások száma": "6"
                                },
                                {
                                    "Szobák": "44",
                                    "Foglalások száma": "6"
                                },
                                {
                                    "Szobák": "48",
                                    "Foglalások száma": "6"
                                },
                                {
                                    "Szobák": "35",
                                    "Foglalások száma": "6"
                                },
                                {
                                    "Szobák": "7",
                                    "Foglalások száma": "6"
                                },
                                {
                                    "Szobák": "12",
                                    "Foglalások száma": "7"
                                },
                                {
                                    "Szobák": "1",
                                    "Foglalások száma": "7"
                                },
                                {
                                    "Szobák": "198",
                                    "Foglalások száma": "7"
                                },
                                {
                                    "Szobák": "89",
                                    "Foglalások száma": "8"
                                },
                                {
                                    "Szobák": "74",
                                    "Foglalások száma": "8"
                                },
                                {
                                    "Szobák": "70",
                                    "Foglalások száma": "8"
                                },
                                {
                                    "Szobák": "58",
                                    "Foglalások száma": "8"
                                },
                                {
                                    "Szobák": "185",
                                    "Foglalások száma": "10"
                                },
                                {
                                    "Szobák": "182",
                                    "Foglalások száma": "11"
                                }
                            ]
                        },
                        "text/html": [
                            "<table>",
                            "<tr><th>Szobák</th><th>Foglalások száma</th></tr>",
                            "<tr><td>3</td><td>3</td></tr>",
                            "<tr><td>14</td><td>3</td></tr>",
                            "<tr><td>23</td><td>3</td></tr>",
                            "<tr><td>24</td><td>3</td></tr>",
                            "<tr><td>29</td><td>3</td></tr>",
                            "<tr><td>33</td><td>3</td></tr>",
                            "<tr><td>34</td><td>3</td></tr>",
                            "<tr><td>18</td><td>3</td></tr>",
                            "<tr><td>40</td><td>3</td></tr>",
                            "<tr><td>46</td><td>3</td></tr>",
                            "<tr><td>50</td><td>3</td></tr>",
                            "<tr><td>51</td><td>3</td></tr>",
                            "<tr><td>55</td><td>3</td></tr>",
                            "<tr><td>57</td><td>3</td></tr>",
                            "<tr><td>62</td><td>3</td></tr>",
                            "<tr><td>63</td><td>3</td></tr>",
                            "<tr><td>66</td><td>3</td></tr>",
                            "<tr><td>77</td><td>3</td></tr>",
                            "<tr><td>78</td><td>3</td></tr>",
                            "<tr><td>81</td><td>3</td></tr>",
                            "<tr><td>84</td><td>3</td></tr>",
                            "<tr><td>90</td><td>3</td></tr>",
                            "<tr><td>93</td><td>3</td></tr>",
                            "<tr><td>95</td><td>3</td></tr>",
                            "<tr><td>104</td><td>3</td></tr>",
                            "<tr><td>122</td><td>3</td></tr>",
                            "<tr><td>129</td><td>3</td></tr>",
                            "<tr><td>135</td><td>3</td></tr>",
                            "<tr><td>146</td><td>3</td></tr>",
                            "<tr><td>154</td><td>3</td></tr>",
                            "<tr><td>155</td><td>3</td></tr>",
                            "<tr><td>158</td><td>3</td></tr>",
                            "<tr><td>161</td><td>3</td></tr>",
                            "<tr><td>152</td><td>3</td></tr>",
                            "<tr><td>166</td><td>3</td></tr>",
                            "<tr><td>169</td><td>3</td></tr>",
                            "<tr><td>170</td><td>3</td></tr>",
                            "<tr><td>173</td><td>3</td></tr>",
                            "<tr><td>175</td><td>3</td></tr>",
                            "<tr><td>183</td><td>3</td></tr>",
                            "<tr><td>191</td><td>3</td></tr>",
                            "<tr><td>184</td><td>4</td></tr>",
                            "<tr><td>174</td><td>4</td></tr>",
                            "<tr><td>153</td><td>4</td></tr>",
                            "<tr><td>164</td><td>4</td></tr>",
                            "<tr><td>141</td><td>4</td></tr>",
                            "<tr><td>131</td><td>4</td></tr>",
                            "<tr><td>132</td><td>4</td></tr>",
                            "<tr><td>133</td><td>4</td></tr>",
                            "<tr><td>134</td><td>4</td></tr>",
                            "<tr><td>124</td><td>4</td></tr>",
                            "<tr><td>126</td><td>4</td></tr>",
                            "<tr><td>117</td><td>4</td></tr>",
                            "<tr><td>119</td><td>4</td></tr>",
                            "<tr><td>106</td><td>4</td></tr>",
                            "<tr><td>107</td><td>4</td></tr>",
                            "<tr><td>98</td><td>4</td></tr>",
                            "<tr><td>99</td><td>4</td></tr>",
                            "<tr><td>112</td><td>4</td></tr>",
                            "<tr><td>54</td><td>4</td></tr>",
                            "<tr><td>86</td><td>4</td></tr>",
                            "<tr><td>73</td><td>4</td></tr>",
                            "<tr><td>79</td><td>4</td></tr>",
                            "<tr><td>59</td><td>4</td></tr>",
                            "<tr><td>61</td><td>4</td></tr>",
                            "<tr><td>45</td><td>4</td></tr>",
                            "<tr><td>43</td><td>4</td></tr>",
                            "<tr><td>13</td><td>4</td></tr>",
                            "<tr><td>39</td><td>4</td></tr>",
                            "<tr><td>19</td><td>4</td></tr>",
                            "<tr><td>36</td><td>4</td></tr>",
                            "<tr><td>15</td><td>4</td></tr>",
                            "<tr><td>9</td><td>4</td></tr>",
                            "<tr><td>10</td><td>4</td></tr>",
                            "<tr><td>11</td><td>4</td></tr>",
                            "<tr><td>4</td><td>5</td></tr>",
                            "<tr><td>6</td><td>5</td></tr>",
                            "<tr><td>8</td><td>5</td></tr>",
                            "<tr><td>27</td><td>5</td></tr>",
                            "<tr><td>28</td><td>5</td></tr>",
                            "<tr><td>38</td><td>5</td></tr>",
                            "<tr><td>20</td><td>5</td></tr>",
                            "<tr><td>42</td><td>5</td></tr>",
                            "<tr><td>49</td><td>5</td></tr>",
                            "<tr><td>52</td><td>5</td></tr>",
                            "<tr><td>80</td><td>5</td></tr>",
                            "<tr><td>64</td><td>5</td></tr>",
                            "<tr><td>82</td><td>5</td></tr>",
                            "<tr><td>83</td><td>5</td></tr>",
                            "<tr><td>87</td><td>5</td></tr>",
                            "<tr><td>88</td><td>5</td></tr>",
                            "<tr><td>97</td><td>5</td></tr>",
                            "<tr><td>92</td><td>5</td></tr>",
                            "<tr><td>115</td><td>5</td></tr>",
                            "<tr><td>110</td><td>5</td></tr>",
                            "<tr><td>121</td><td>5</td></tr>",
                            "<tr><td>123</td><td>5</td></tr>",
                            "<tr><td>127</td><td>5</td></tr>",
                            "<tr><td>130</td><td>5</td></tr>",
                            "<tr><td>143</td><td>5</td></tr>",
                            "<tr><td>138</td><td>5</td></tr>",
                            "<tr><td>163</td><td>5</td></tr>",
                            "<tr><td>148</td><td>5</td></tr>",
                            "<tr><td>149</td><td>5</td></tr>",
                            "<tr><td>165</td><td>5</td></tr>",
                            "<tr><td>171</td><td>5</td></tr>",
                            "<tr><td>181</td><td>5</td></tr>",
                            "<tr><td>140</td><td>5</td></tr>",
                            "<tr><td>195</td><td>5</td></tr>",
                            "<tr><td>190</td><td>5</td></tr>",
                            "<tr><td>197</td><td>6</td></tr>",
                            "<tr><td>187</td><td>6</td></tr>",
                            "<tr><td>172</td><td>6</td></tr>",
                            "<tr><td>150</td><td>6</td></tr>",
                            "<tr><td>139</td><td>6</td></tr>",
                            "<tr><td>94</td><td>6</td></tr>",
                            "<tr><td>96</td><td>6</td></tr>",
                            "<tr><td>44</td><td>6</td></tr>",
                            "<tr><td>48</td><td>6</td></tr>",
                            "<tr><td>35</td><td>6</td></tr>",
                            "<tr><td>7</td><td>6</td></tr>",
                            "<tr><td>12</td><td>7</td></tr>",
                            "<tr><td>1</td><td>7</td></tr>",
                            "<tr><td>198</td><td>7</td></tr>",
                            "<tr><td>89</td><td>8</td></tr>",
                            "<tr><td>74</td><td>8</td></tr>",
                            "<tr><td>70</td><td>8</td></tr>",
                            "<tr><td>58</td><td>8</td></tr>",
                            "<tr><td>185</td><td>10</td></tr>",
                            "<tr><td>182</td><td>11</td></tr>",
                            "</table>"
                        ]
                    }
                }
            ],
            "execution_count": 12
        },
        {
            "cell_type": "code",
            "source": [
                "-- feladat 2\r\n",
                "\r\n",
                "\r\n",
                "SELECT sza.SZALLAS_NEV AS 'Szallás', IIF(sza.TIPUS = 'panzió', 'Igen', 'Nem') AS 'panzió e'\r\n",
                "FROM Szoba szo JOIN Foglalas f ON f.SZOBA_FK = szo.SZOBA_ID\r\n",
                "               JOIN Szallashely sza ON szo.SZALLAS_FK = sza.SZALLAS_ID\r\n",
                ""
            ],
            "metadata": {
                "azdata_cell_guid": "3a388bbd-79af-4831-9c6c-bf3fa0d0db4b",
                "language": "sql"
            },
            "outputs": [
                {
                    "output_type": "display_data",
                    "data": {
                        "text/html": "(1027 rows affected)"
                    },
                    "metadata": {}
                },
                {
                    "output_type": "display_data",
                    "data": {
                        "text/html": "Total execution time: 00:00:00.040"
                    },
                    "metadata": {}
                },
                {
                    "output_type": "execute_result",
                    "metadata": {},
                    "execution_count": 22,
                    "data": {
                        "application/vnd.dataresource+json": {
                            "schema": {
                                "fields": [
                                    {
                                        "name": "Szallás"
                                    },
                                    {
                                        "name": "panzió e"
                                    }
                                ]
                            },
                            "data": [
                                {
                                    "Szallás": "Szieszta Apartmanház",
                                    "panzió e": "Nem"
                                },
                                {
                                    "Szallás": "Jáde panzió",
                                    "panzió e": "Igen"
                                },
                                {
                                    "Szallás": "Sába-Ház",
                                    "panzió e": "Nem"
                                },
                                {
                                    "Szallás": "Fortuna Panzió",
                                    "panzió e": "Igen"
                                },
                                {
                                    "Szallás": "Sába-Ház",
                                    "panzió e": "Nem"
                                },
                                {
                                    "Szallás": "Kentaur Hotel",
                                    "panzió e": "Nem"
                                },
                                {
                                    "Szallás": "Sába-Ház",
                                    "panzió e": "Nem"
                                },
                                {
                                    "Szallás": "Lagúna Hotel",
                                    "panzió e": "Nem"
                                },
                                {
                                    "Szallás": "Fortuna Apartman",
                                    "panzió e": "Nem"
                                },
                                {
                                    "Szallás": "Gold Hotel",
                                    "panzió e": "Nem"
                                },
                                {
                                    "Szallás": "Kentaur Hotel",
                                    "panzió e": "Nem"
                                },
                                {
                                    "Szallás": "Sába-Ház",
                                    "panzió e": "Nem"
                                },
                                {
                                    "Szallás": "Partiszél Vendégház",
                                    "panzió e": "Nem"
                                },
                                {
                                    "Szallás": "Gold Hotel",
                                    "panzió e": "Nem"
                                },
                                {
                                    "Szallás": "Kentaur Hotel",
                                    "panzió e": "Nem"
                                },
                                {
                                    "Szallás": "Gold Hotel",
                                    "panzió e": "Nem"
                                },
                                {
                                    "Szallás": "Gold Hotel",
                                    "panzió e": "Nem"
                                },
                                {
                                    "Szallás": "Lagúna Hotel",
                                    "panzió e": "Nem"
                                },
                                {
                                    "Szallás": "Hotel Három Hattyú",
                                    "panzió e": "Nem"
                                },
                                {
                                    "Szallás": "Lagúna Hotel",
                                    "panzió e": "Nem"
                                },
                                {
                                    "Szallás": "Gold Hotel",
                                    "panzió e": "Nem"
                                },
                                {
                                    "Szallás": "Lagúna Hotel",
                                    "panzió e": "Nem"
                                },
                                {
                                    "Szallás": "Jáde panzió",
                                    "panzió e": "Igen"
                                },
                                {
                                    "Szallás": "Lagúna Hotel",
                                    "panzió e": "Nem"
                                },
                                {
                                    "Szallás": "Lagúna Hotel",
                                    "panzió e": "Nem"
                                },
                                {
                                    "Szallás": "Kentaur Hotel",
                                    "panzió e": "Nem"
                                },
                                {
                                    "Szallás": "Lagúna Hotel",
                                    "panzió e": "Nem"
                                },
                                {
                                    "Szallás": "Kentaur Hotel",
                                    "panzió e": "Nem"
                                },
                                {
                                    "Szallás": "Hotel Három Hattyú",
                                    "panzió e": "Nem"
                                },
                                {
                                    "Szallás": "Hotel Három Hattyú",
                                    "panzió e": "Nem"
                                },
                                {
                                    "Szallás": "Lagúna Hotel",
                                    "panzió e": "Nem"
                                },
                                {
                                    "Szallás": "Fortuna Panzió",
                                    "panzió e": "Igen"
                                },
                                {
                                    "Szallás": "Fortuna Panzió",
                                    "panzió e": "Igen"
                                },
                                {
                                    "Szallás": "Lagúna Hotel",
                                    "panzió e": "Nem"
                                },
                                {
                                    "Szallás": "Gold Hotel",
                                    "panzió e": "Nem"
                                },
                                {
                                    "Szallás": "Kentaur Hotel",
                                    "panzió e": "Nem"
                                },
                                {
                                    "Szallás": "Lagúna Hotel",
                                    "panzió e": "Nem"
                                },
                                {
                                    "Szallás": "Kentaur Hotel",
                                    "panzió e": "Nem"
                                },
                                {
                                    "Szallás": "Hotel Három Hattyú",
                                    "panzió e": "Nem"
                                },
                                {
                                    "Szallás": "Hotel Három Hattyú",
                                    "panzió e": "Nem"
                                },
                                {
                                    "Szallás": "Fortuna panzió",
                                    "panzió e": "Igen"
                                },
                                {
                                    "Szallás": "Partiszél Vendégház",
                                    "panzió e": "Nem"
                                },
                                {
                                    "Szallás": "Gold Hotel",
                                    "panzió e": "Nem"
                                },
                                {
                                    "Szallás": "Fortuna panzió",
                                    "panzió e": "Igen"
                                },
                                {
                                    "Szallás": "Fortuna Apartman",
                                    "panzió e": "Nem"
                                },
                                {
                                    "Szallás": "Fortuna Panzió",
                                    "panzió e": "Igen"
                                },
                                {
                                    "Szallás": "Fortuna panzió",
                                    "panzió e": "Igen"
                                },
                                {
                                    "Szallás": "Hotel Három Hattyú",
                                    "panzió e": "Nem"
                                },
                                {
                                    "Szallás": "Fortuna panzió",
                                    "panzió e": "Igen"
                                },
                                {
                                    "Szallás": "Hotel Három Hattyú",
                                    "panzió e": "Nem"
                                },
                                {
                                    "Szallás": "Gold Hotel",
                                    "panzió e": "Nem"
                                },
                                {
                                    "Szallás": "Sába-Ház",
                                    "panzió e": "Nem"
                                },
                                {
                                    "Szallás": "Hotel Három Hattyú",
                                    "panzió e": "Nem"
                                },
                                {
                                    "Szallás": "Fortuna panzió",
                                    "panzió e": "Igen"
                                },
                                {
                                    "Szallás": "Hotel Három Hattyú",
                                    "panzió e": "Nem"
                                },
                                {
                                    "Szallás": "Jáde panzió",
                                    "panzió e": "Igen"
                                },
                                {
                                    "Szallás": "Hotel Három Hattyú",
                                    "panzió e": "Nem"
                                },
                                {
                                    "Szallás": "Gold Hotel",
                                    "panzió e": "Nem"
                                },
                                {
                                    "Szallás": "Hotel Három Hattyú",
                                    "panzió e": "Nem"
                                },
                                {
                                    "Szallás": "Hotel Három Hattyú",
                                    "panzió e": "Nem"
                                },
                                {
                                    "Szallás": "Hotel Három Hattyú",
                                    "panzió e": "Nem"
                                },
                                {
                                    "Szallás": "Jáde panzió",
                                    "panzió e": "Igen"
                                },
                                {
                                    "Szallás": "Sába-Ház",
                                    "panzió e": "Nem"
                                },
                                {
                                    "Szallás": "Hotel Három Hattyú",
                                    "panzió e": "Nem"
                                },
                                {
                                    "Szallás": "Kentaur Hotel",
                                    "panzió e": "Nem"
                                },
                                {
                                    "Szallás": "Hotel Három Hattyú",
                                    "panzió e": "Nem"
                                },
                                {
                                    "Szallás": "Fortuna panzió",
                                    "panzió e": "Igen"
                                },
                                {
                                    "Szallás": "Kentaur Hotel",
                                    "panzió e": "Nem"
                                },
                                {
                                    "Szallás": "Fortuna Apartman",
                                    "panzió e": "Nem"
                                },
                                {
                                    "Szallás": "Fortuna panzió",
                                    "panzió e": "Igen"
                                },
                                {
                                    "Szallás": "Fortuna Panzió",
                                    "panzió e": "Igen"
                                },
                                {
                                    "Szallás": "Sába-Ház",
                                    "panzió e": "Nem"
                                },
                                {
                                    "Szallás": "Partiszél Vendégház",
                                    "panzió e": "Nem"
                                },
                                {
                                    "Szallás": "Hotel Három Hattyú",
                                    "panzió e": "Nem"
                                },
                                {
                                    "Szallás": "Hotel Három Hattyú",
                                    "panzió e": "Nem"
                                },
                                {
                                    "Szallás": "Gold Hotel",
                                    "panzió e": "Nem"
                                },
                                {
                                    "Szallás": "Gold Hotel",
                                    "panzió e": "Nem"
                                },
                                {
                                    "Szallás": "Hotel Három Hattyú",
                                    "panzió e": "Nem"
                                },
                                {
                                    "Szallás": "Hotel Három Hattyú",
                                    "panzió e": "Nem"
                                },
                                {
                                    "Szallás": "Hotel Három Hattyú",
                                    "panzió e": "Nem"
                                },
                                {
                                    "Szallás": "Kentaur Hotel",
                                    "panzió e": "Nem"
                                },
                                {
                                    "Szallás": "Partiszél Vendégház",
                                    "panzió e": "Nem"
                                },
                                {
                                    "Szallás": "Gold Hotel",
                                    "panzió e": "Nem"
                                },
                                {
                                    "Szallás": "Lagúna Hotel",
                                    "panzió e": "Nem"
                                },
                                {
                                    "Szallás": "Kentaur Hotel",
                                    "panzió e": "Nem"
                                },
                                {
                                    "Szallás": "Hotel Három Hattyú",
                                    "panzió e": "Nem"
                                },
                                {
                                    "Szallás": "Gold Hotel",
                                    "panzió e": "Nem"
                                },
                                {
                                    "Szallás": "Kentaur Hotel",
                                    "panzió e": "Nem"
                                },
                                {
                                    "Szallás": "Kentaur Hotel",
                                    "panzió e": "Nem"
                                },
                                {
                                    "Szallás": "Szieszta Apartmanház",
                                    "panzió e": "Nem"
                                },
                                {
                                    "Szallás": "Lagúna Hotel",
                                    "panzió e": "Nem"
                                },
                                {
                                    "Szallás": "Lagúna Hotel",
                                    "panzió e": "Nem"
                                },
                                {
                                    "Szallás": "Kentaur Hotel",
                                    "panzió e": "Nem"
                                },
                                {
                                    "Szallás": "Sába-Ház",
                                    "panzió e": "Nem"
                                },
                                {
                                    "Szallás": "Lagúna Hotel",
                                    "panzió e": "Nem"
                                },
                                {
                                    "Szallás": "Partiszél Vendégház",
                                    "panzió e": "Nem"
                                },
                                {
                                    "Szallás": "Hotel Három Hattyú",
                                    "panzió e": "Nem"
                                },
                                {
                                    "Szallás": "Jáde panzió",
                                    "panzió e": "Igen"
                                },
                                {
                                    "Szallás": "Hotel Három Hattyú",
                                    "panzió e": "Nem"
                                },
                                {
                                    "Szallás": "Lagúna Hotel",
                                    "panzió e": "Nem"
                                },
                                {
                                    "Szallás": "Fortuna Panzió",
                                    "panzió e": "Igen"
                                },
                                {
                                    "Szallás": "Gold Hotel",
                                    "panzió e": "Nem"
                                },
                                {
                                    "Szallás": "Fortuna Apartman",
                                    "panzió e": "Nem"
                                },
                                {
                                    "Szallás": "Lagúna Hotel",
                                    "panzió e": "Nem"
                                },
                                {
                                    "Szallás": "Gold Hotel",
                                    "panzió e": "Nem"
                                },
                                {
                                    "Szallás": "Családi Ház",
                                    "panzió e": "Nem"
                                },
                                {
                                    "Szallás": "Lagúna Hotel",
                                    "panzió e": "Nem"
                                },
                                {
                                    "Szallás": "Hotel Három Hattyú",
                                    "panzió e": "Nem"
                                },
                                {
                                    "Szallás": "Sába-Ház",
                                    "panzió e": "Nem"
                                },
                                {
                                    "Szallás": "Kentaur Hotel",
                                    "panzió e": "Nem"
                                },
                                {
                                    "Szallás": "Kentaur Hotel",
                                    "panzió e": "Nem"
                                },
                                {
                                    "Szallás": "Gold Hotel",
                                    "panzió e": "Nem"
                                },
                                {
                                    "Szallás": "Fortuna Panzió",
                                    "panzió e": "Igen"
                                },
                                {
                                    "Szallás": "Hotel Három Hattyú",
                                    "panzió e": "Nem"
                                },
                                {
                                    "Szallás": "Gold Hotel",
                                    "panzió e": "Nem"
                                },
                                {
                                    "Szallás": "Gold Hotel",
                                    "panzió e": "Nem"
                                },
                                {
                                    "Szallás": "Kentaur Hotel",
                                    "panzió e": "Nem"
                                },
                                {
                                    "Szallás": "Gold Hotel",
                                    "panzió e": "Nem"
                                },
                                {
                                    "Szallás": "Kentaur Hotel",
                                    "panzió e": "Nem"
                                },
                                {
                                    "Szallás": "Gold Hotel",
                                    "panzió e": "Nem"
                                },
                                {
                                    "Szallás": "Lagúna Hotel",
                                    "panzió e": "Nem"
                                },
                                {
                                    "Szallás": "Gold Hotel",
                                    "panzió e": "Nem"
                                },
                                {
                                    "Szallás": "Gold Hotel",
                                    "panzió e": "Nem"
                                },
                                {
                                    "Szallás": "Kentaur Hotel",
                                    "panzió e": "Nem"
                                },
                                {
                                    "Szallás": "Gold Hotel",
                                    "panzió e": "Nem"
                                },
                                {
                                    "Szallás": "Kentaur Hotel",
                                    "panzió e": "Nem"
                                },
                                {
                                    "Szallás": "Gold Hotel",
                                    "panzió e": "Nem"
                                },
                                {
                                    "Szallás": "Hotel Három Hattyú",
                                    "panzió e": "Nem"
                                },
                                {
                                    "Szallás": "Fortuna panzió",
                                    "panzió e": "Igen"
                                },
                                {
                                    "Szallás": "Családi Ház",
                                    "panzió e": "Nem"
                                },
                                {
                                    "Szallás": "Fortuna panzió",
                                    "panzió e": "Igen"
                                },
                                {
                                    "Szallás": "Hotel Három Hattyú",
                                    "panzió e": "Nem"
                                },
                                {
                                    "Szallás": "Gold Hotel",
                                    "panzió e": "Nem"
                                },
                                {
                                    "Szallás": "Hotel Három Hattyú",
                                    "panzió e": "Nem"
                                },
                                {
                                    "Szallás": "Lagúna Hotel",
                                    "panzió e": "Nem"
                                },
                                {
                                    "Szallás": "Gold Hotel",
                                    "panzió e": "Nem"
                                },
                                {
                                    "Szallás": "Sába-Ház",
                                    "panzió e": "Nem"
                                },
                                {
                                    "Szallás": "Gold Hotel",
                                    "panzió e": "Nem"
                                },
                                {
                                    "Szallás": "Fortuna Apartman",
                                    "panzió e": "Nem"
                                },
                                {
                                    "Szallás": "Sába-Ház",
                                    "panzió e": "Nem"
                                },
                                {
                                    "Szallás": "Kentaur Hotel",
                                    "panzió e": "Nem"
                                },
                                {
                                    "Szallás": "Gold Hotel",
                                    "panzió e": "Nem"
                                },
                                {
                                    "Szallás": "Kentaur Hotel",
                                    "panzió e": "Nem"
                                },
                                {
                                    "Szallás": "Kentaur Hotel",
                                    "panzió e": "Nem"
                                },
                                {
                                    "Szallás": "Kentaur Hotel",
                                    "panzió e": "Nem"
                                },
                                {
                                    "Szallás": "Lagúna Hotel",
                                    "panzió e": "Nem"
                                },
                                {
                                    "Szallás": "Kentaur Hotel",
                                    "panzió e": "Nem"
                                },
                                {
                                    "Szallás": "Fortuna panzió",
                                    "panzió e": "Igen"
                                },
                                {
                                    "Szallás": "Hotel Három Hattyú",
                                    "panzió e": "Nem"
                                },
                                {
                                    "Szallás": "Fortuna panzió",
                                    "panzió e": "Igen"
                                },
                                {
                                    "Szallás": "Hotel Három Hattyú",
                                    "panzió e": "Nem"
                                },
                                {
                                    "Szallás": "Gold Hotel",
                                    "panzió e": "Nem"
                                },
                                {
                                    "Szallás": "Gold Hotel",
                                    "panzió e": "Nem"
                                },
                                {
                                    "Szallás": "Gold Hotel",
                                    "panzió e": "Nem"
                                },
                                {
                                    "Szallás": "Kentaur Hotel",
                                    "panzió e": "Nem"
                                },
                                {
                                    "Szallás": "Fortuna Apartman",
                                    "panzió e": "Nem"
                                },
                                {
                                    "Szallás": "Kentaur Hotel",
                                    "panzió e": "Nem"
                                },
                                {
                                    "Szallás": "Hotel Három Hattyú",
                                    "panzió e": "Nem"
                                },
                                {
                                    "Szallás": "Hotel Három Hattyú",
                                    "panzió e": "Nem"
                                },
                                {
                                    "Szallás": "Hotel Három Hattyú",
                                    "panzió e": "Nem"
                                },
                                {
                                    "Szallás": "Hotel Három Hattyú",
                                    "panzió e": "Nem"
                                },
                                {
                                    "Szallás": "Kentaur Hotel",
                                    "panzió e": "Nem"
                                },
                                {
                                    "Szallás": "Partiszél Vendégház",
                                    "panzió e": "Nem"
                                },
                                {
                                    "Szallás": "Gold Hotel",
                                    "panzió e": "Nem"
                                },
                                {
                                    "Szallás": "Hotel Három Hattyú",
                                    "panzió e": "Nem"
                                },
                                {
                                    "Szallás": "Hotel Három Hattyú",
                                    "panzió e": "Nem"
                                },
                                {
                                    "Szallás": "Lagúna Hotel",
                                    "panzió e": "Nem"
                                },
                                {
                                    "Szallás": "Fortuna panzió",
                                    "panzió e": "Igen"
                                },
                                {
                                    "Szallás": "Hotel Három Hattyú",
                                    "panzió e": "Nem"
                                },
                                {
                                    "Szallás": "Hotel Három Hattyú",
                                    "panzió e": "Nem"
                                },
                                {
                                    "Szallás": "Fortuna panzió",
                                    "panzió e": "Igen"
                                },
                                {
                                    "Szallás": "Szieszta Apartmanház",
                                    "panzió e": "Nem"
                                },
                                {
                                    "Szallás": "Lagúna Hotel",
                                    "panzió e": "Nem"
                                },
                                {
                                    "Szallás": "Gold Hotel",
                                    "panzió e": "Nem"
                                },
                                {
                                    "Szallás": "Hotel Három Hattyú",
                                    "panzió e": "Nem"
                                },
                                {
                                    "Szallás": "Lagúna Hotel",
                                    "panzió e": "Nem"
                                },
                                {
                                    "Szallás": "Kentaur Hotel",
                                    "panzió e": "Nem"
                                },
                                {
                                    "Szallás": "Hotel Három Hattyú",
                                    "panzió e": "Nem"
                                },
                                {
                                    "Szallás": "Kentaur Hotel",
                                    "panzió e": "Nem"
                                },
                                {
                                    "Szallás": "Hotel Három Hattyú",
                                    "panzió e": "Nem"
                                },
                                {
                                    "Szallás": "Sába-Ház",
                                    "panzió e": "Nem"
                                },
                                {
                                    "Szallás": "Hotel Három Hattyú",
                                    "panzió e": "Nem"
                                },
                                {
                                    "Szallás": "Gold Hotel",
                                    "panzió e": "Nem"
                                },
                                {
                                    "Szallás": "Hotel Három Hattyú",
                                    "panzió e": "Nem"
                                },
                                {
                                    "Szallás": "Partiszél Vendégház",
                                    "panzió e": "Nem"
                                },
                                {
                                    "Szallás": "Gold Hotel",
                                    "panzió e": "Nem"
                                },
                                {
                                    "Szallás": "Fortuna Apartman",
                                    "panzió e": "Nem"
                                },
                                {
                                    "Szallás": "Lagúna Hotel",
                                    "panzió e": "Nem"
                                },
                                {
                                    "Szallás": "Gold Hotel",
                                    "panzió e": "Nem"
                                },
                                {
                                    "Szallás": "Gold Hotel",
                                    "panzió e": "Nem"
                                },
                                {
                                    "Szallás": "Fortuna panzió",
                                    "panzió e": "Igen"
                                },
                                {
                                    "Szallás": "Gold Hotel",
                                    "panzió e": "Nem"
                                },
                                {
                                    "Szallás": "Fortuna panzió",
                                    "panzió e": "Igen"
                                },
                                {
                                    "Szallás": "Lagúna Hotel",
                                    "panzió e": "Nem"
                                },
                                {
                                    "Szallás": "Fortuna Panzió",
                                    "panzió e": "Igen"
                                },
                                {
                                    "Szallás": "Gold Hotel",
                                    "panzió e": "Nem"
                                },
                                {
                                    "Szallás": "Hotel Három Hattyú",
                                    "panzió e": "Nem"
                                },
                                {
                                    "Szallás": "Fortuna Apartman",
                                    "panzió e": "Nem"
                                },
                                {
                                    "Szallás": "Kentaur Hotel",
                                    "panzió e": "Nem"
                                },
                                {
                                    "Szallás": "Szieszta Apartmanház",
                                    "panzió e": "Nem"
                                },
                                {
                                    "Szallás": "Fortuna panzió",
                                    "panzió e": "Igen"
                                },
                                {
                                    "Szallás": "Sába-Ház",
                                    "panzió e": "Nem"
                                },
                                {
                                    "Szallás": "Jáde panzió",
                                    "panzió e": "Igen"
                                },
                                {
                                    "Szallás": "Lagúna Hotel",
                                    "panzió e": "Nem"
                                },
                                {
                                    "Szallás": "Hotel Három Hattyú",
                                    "panzió e": "Nem"
                                },
                                {
                                    "Szallás": "Családi Ház",
                                    "panzió e": "Nem"
                                },
                                {
                                    "Szallás": "Gold Hotel",
                                    "panzió e": "Nem"
                                },
                                {
                                    "Szallás": "Lagúna Hotel",
                                    "panzió e": "Nem"
                                },
                                {
                                    "Szallás": "Gold Hotel",
                                    "panzió e": "Nem"
                                },
                                {
                                    "Szallás": "Fortuna Apartman",
                                    "panzió e": "Nem"
                                },
                                {
                                    "Szallás": "Lagúna Hotel",
                                    "panzió e": "Nem"
                                },
                                {
                                    "Szallás": "Kentaur Hotel",
                                    "panzió e": "Nem"
                                },
                                {
                                    "Szallás": "Fortuna Panzió",
                                    "panzió e": "Igen"
                                },
                                {
                                    "Szallás": "Lagúna Hotel",
                                    "panzió e": "Nem"
                                },
                                {
                                    "Szallás": "Sába-Ház",
                                    "panzió e": "Nem"
                                },
                                {
                                    "Szallás": "Kentaur Hotel",
                                    "panzió e": "Nem"
                                },
                                {
                                    "Szallás": "Gold Hotel",
                                    "panzió e": "Nem"
                                },
                                {
                                    "Szallás": "Sába-Ház",
                                    "panzió e": "Nem"
                                },
                                {
                                    "Szallás": "Hotel Három Hattyú",
                                    "panzió e": "Nem"
                                },
                                {
                                    "Szallás": "Fortuna panzió",
                                    "panzió e": "Igen"
                                },
                                {
                                    "Szallás": "Fortuna Apartman",
                                    "panzió e": "Nem"
                                },
                                {
                                    "Szallás": "Jáde panzió",
                                    "panzió e": "Igen"
                                },
                                {
                                    "Szallás": "Hotel Három Hattyú",
                                    "panzió e": "Nem"
                                },
                                {
                                    "Szallás": "Gold Hotel",
                                    "panzió e": "Nem"
                                },
                                {
                                    "Szallás": "Partiszél Vendégház",
                                    "panzió e": "Nem"
                                },
                                {
                                    "Szallás": "Lagúna Hotel",
                                    "panzió e": "Nem"
                                },
                                {
                                    "Szallás": "Lagúna Hotel",
                                    "panzió e": "Nem"
                                },
                                {
                                    "Szallás": "Gold Hotel",
                                    "panzió e": "Nem"
                                },
                                {
                                    "Szallás": "Hotel Három Hattyú",
                                    "panzió e": "Nem"
                                },
                                {
                                    "Szallás": "Kentaur Hotel",
                                    "panzió e": "Nem"
                                },
                                {
                                    "Szallás": "Sába-Ház",
                                    "panzió e": "Nem"
                                },
                                {
                                    "Szallás": "Lagúna Hotel",
                                    "panzió e": "Nem"
                                },
                                {
                                    "Szallás": "Sába-Ház",
                                    "panzió e": "Nem"
                                },
                                {
                                    "Szallás": "Családi Ház",
                                    "panzió e": "Nem"
                                },
                                {
                                    "Szallás": "Gold Hotel",
                                    "panzió e": "Nem"
                                },
                                {
                                    "Szallás": "Fortuna Panzió",
                                    "panzió e": "Igen"
                                },
                                {
                                    "Szallás": "Gold Hotel",
                                    "panzió e": "Nem"
                                },
                                {
                                    "Szallás": "Sába-Ház",
                                    "panzió e": "Nem"
                                },
                                {
                                    "Szallás": "Lagúna Hotel",
                                    "panzió e": "Nem"
                                },
                                {
                                    "Szallás": "Kentaur Hotel",
                                    "panzió e": "Nem"
                                },
                                {
                                    "Szallás": "Kentaur Hotel",
                                    "panzió e": "Nem"
                                },
                                {
                                    "Szallás": "Gold Hotel",
                                    "panzió e": "Nem"
                                },
                                {
                                    "Szallás": "Fortuna Panzió",
                                    "panzió e": "Igen"
                                },
                                {
                                    "Szallás": "Hotel Három Hattyú",
                                    "panzió e": "Nem"
                                },
                                {
                                    "Szallás": "Fortuna Panzió",
                                    "panzió e": "Igen"
                                },
                                {
                                    "Szallás": "Sába-Ház",
                                    "panzió e": "Nem"
                                },
                                {
                                    "Szallás": "Lagúna Hotel",
                                    "panzió e": "Nem"
                                },
                                {
                                    "Szallás": "Fortuna Apartman",
                                    "panzió e": "Nem"
                                },
                                {
                                    "Szallás": "Hotel Három Hattyú",
                                    "panzió e": "Nem"
                                },
                                {
                                    "Szallás": "Fortuna panzió",
                                    "panzió e": "Igen"
                                },
                                {
                                    "Szallás": "Lagúna Hotel",
                                    "panzió e": "Nem"
                                },
                                {
                                    "Szallás": "Hotel Három Hattyú",
                                    "panzió e": "Nem"
                                },
                                {
                                    "Szallás": "Hotel Három Hattyú",
                                    "panzió e": "Nem"
                                },
                                {
                                    "Szallás": "Kentaur Hotel",
                                    "panzió e": "Nem"
                                },
                                {
                                    "Szallás": "Lagúna Hotel",
                                    "panzió e": "Nem"
                                },
                                {
                                    "Szallás": "Családi Ház",
                                    "panzió e": "Nem"
                                },
                                {
                                    "Szallás": "Kentaur Hotel",
                                    "panzió e": "Nem"
                                },
                                {
                                    "Szallás": "Hotel Három Hattyú",
                                    "panzió e": "Nem"
                                },
                                {
                                    "Szallás": "Gold Hotel",
                                    "panzió e": "Nem"
                                },
                                {
                                    "Szallás": "Szieszta Apartmanház",
                                    "panzió e": "Nem"
                                },
                                {
                                    "Szallás": "Sába-Ház",
                                    "panzió e": "Nem"
                                },
                                {
                                    "Szallás": "Kentaur Hotel",
                                    "panzió e": "Nem"
                                },
                                {
                                    "Szallás": "Fortuna Apartman",
                                    "panzió e": "Nem"
                                },
                                {
                                    "Szallás": "Fortuna panzió",
                                    "panzió e": "Igen"
                                },
                                {
                                    "Szallás": "Kentaur Hotel",
                                    "panzió e": "Nem"
                                },
                                {
                                    "Szallás": "Fortuna Panzió",
                                    "panzió e": "Igen"
                                },
                                {
                                    "Szallás": "Fortuna Panzió",
                                    "panzió e": "Igen"
                                },
                                {
                                    "Szallás": "Lagúna Hotel",
                                    "panzió e": "Nem"
                                },
                                {
                                    "Szallás": "Fortuna Panzió",
                                    "panzió e": "Igen"
                                },
                                {
                                    "Szallás": "Hotel Három Hattyú",
                                    "panzió e": "Nem"
                                },
                                {
                                    "Szallás": "Sába-Ház",
                                    "panzió e": "Nem"
                                },
                                {
                                    "Szallás": "Fortuna panzió",
                                    "panzió e": "Igen"
                                },
                                {
                                    "Szallás": "Kentaur Hotel",
                                    "panzió e": "Nem"
                                },
                                {
                                    "Szallás": "Gold Hotel",
                                    "panzió e": "Nem"
                                },
                                {
                                    "Szallás": "Sába-Ház",
                                    "panzió e": "Nem"
                                },
                                {
                                    "Szallás": "Lagúna Hotel",
                                    "panzió e": "Nem"
                                },
                                {
                                    "Szallás": "Lagúna Hotel",
                                    "panzió e": "Nem"
                                },
                                {
                                    "Szallás": "Gold Hotel",
                                    "panzió e": "Nem"
                                },
                                {
                                    "Szallás": "Hotel Három Hattyú",
                                    "panzió e": "Nem"
                                },
                                {
                                    "Szallás": "Hotel Három Hattyú",
                                    "panzió e": "Nem"
                                },
                                {
                                    "Szallás": "Kentaur Hotel",
                                    "panzió e": "Nem"
                                },
                                {
                                    "Szallás": "Gold Hotel",
                                    "panzió e": "Nem"
                                },
                                {
                                    "Szallás": "Lagúna Hotel",
                                    "panzió e": "Nem"
                                },
                                {
                                    "Szallás": "Hotel Három Hattyú",
                                    "panzió e": "Nem"
                                },
                                {
                                    "Szallás": "Gold Hotel",
                                    "panzió e": "Nem"
                                },
                                {
                                    "Szallás": "Lagúna Hotel",
                                    "panzió e": "Nem"
                                },
                                {
                                    "Szallás": "Szieszta Apartmanház",
                                    "panzió e": "Nem"
                                },
                                {
                                    "Szallás": "Kentaur Hotel",
                                    "panzió e": "Nem"
                                },
                                {
                                    "Szallás": "Fortuna Panzió",
                                    "panzió e": "Igen"
                                },
                                {
                                    "Szallás": "Kentaur Hotel",
                                    "panzió e": "Nem"
                                },
                                {
                                    "Szallás": "Fortuna Apartman",
                                    "panzió e": "Nem"
                                },
                                {
                                    "Szallás": "Lagúna Hotel",
                                    "panzió e": "Nem"
                                },
                                {
                                    "Szallás": "Sába-Ház",
                                    "panzió e": "Nem"
                                },
                                {
                                    "Szallás": "Fortuna Panzió",
                                    "panzió e": "Igen"
                                },
                                {
                                    "Szallás": "Fortuna Apartman",
                                    "panzió e": "Nem"
                                },
                                {
                                    "Szallás": "Hotel Három Hattyú",
                                    "panzió e": "Nem"
                                },
                                {
                                    "Szallás": "Gold Hotel",
                                    "panzió e": "Nem"
                                },
                                {
                                    "Szallás": "Kentaur Hotel",
                                    "panzió e": "Nem"
                                },
                                {
                                    "Szallás": "Családi Ház",
                                    "panzió e": "Nem"
                                },
                                {
                                    "Szallás": "Gold Hotel",
                                    "panzió e": "Nem"
                                },
                                {
                                    "Szallás": "Hotel Három Hattyú",
                                    "panzió e": "Nem"
                                },
                                {
                                    "Szallás": "Szieszta Apartmanház",
                                    "panzió e": "Nem"
                                },
                                {
                                    "Szallás": "Kentaur Hotel",
                                    "panzió e": "Nem"
                                },
                                {
                                    "Szallás": "Hotel Három Hattyú",
                                    "panzió e": "Nem"
                                },
                                {
                                    "Szallás": "Kentaur Hotel",
                                    "panzió e": "Nem"
                                },
                                {
                                    "Szallás": "Gold Hotel",
                                    "panzió e": "Nem"
                                },
                                {
                                    "Szallás": "Hotel Három Hattyú",
                                    "panzió e": "Nem"
                                },
                                {
                                    "Szallás": "Kentaur Hotel",
                                    "panzió e": "Nem"
                                },
                                {
                                    "Szallás": "Szieszta Apartmanház",
                                    "panzió e": "Nem"
                                },
                                {
                                    "Szallás": "Gold Hotel",
                                    "panzió e": "Nem"
                                },
                                {
                                    "Szallás": "Gold Hotel",
                                    "panzió e": "Nem"
                                },
                                {
                                    "Szallás": "Kentaur Hotel",
                                    "panzió e": "Nem"
                                },
                                {
                                    "Szallás": "Fortuna panzió",
                                    "panzió e": "Igen"
                                },
                                {
                                    "Szallás": "Kentaur Hotel",
                                    "panzió e": "Nem"
                                },
                                {
                                    "Szallás": "Fortuna panzió",
                                    "panzió e": "Igen"
                                },
                                {
                                    "Szallás": "Sába-Ház",
                                    "panzió e": "Nem"
                                },
                                {
                                    "Szallás": "Kentaur Hotel",
                                    "panzió e": "Nem"
                                },
                                {
                                    "Szallás": "Kentaur Hotel",
                                    "panzió e": "Nem"
                                },
                                {
                                    "Szallás": "Sába-Ház",
                                    "panzió e": "Nem"
                                },
                                {
                                    "Szallás": "Kentaur Hotel",
                                    "panzió e": "Nem"
                                },
                                {
                                    "Szallás": "Kentaur Hotel",
                                    "panzió e": "Nem"
                                },
                                {
                                    "Szallás": "Hotel Három Hattyú",
                                    "panzió e": "Nem"
                                },
                                {
                                    "Szallás": "Gold Hotel",
                                    "panzió e": "Nem"
                                },
                                {
                                    "Szallás": "Jáde panzió",
                                    "panzió e": "Igen"
                                },
                                {
                                    "Szallás": "Sába-Ház",
                                    "panzió e": "Nem"
                                },
                                {
                                    "Szallás": "Kentaur Hotel",
                                    "panzió e": "Nem"
                                },
                                {
                                    "Szallás": "Hotel Három Hattyú",
                                    "panzió e": "Nem"
                                },
                                {
                                    "Szallás": "Kentaur Hotel",
                                    "panzió e": "Nem"
                                },
                                {
                                    "Szallás": "Fortuna panzió",
                                    "panzió e": "Igen"
                                },
                                {
                                    "Szallás": "Kentaur Hotel",
                                    "panzió e": "Nem"
                                },
                                {
                                    "Szallás": "Fortuna Panzió",
                                    "panzió e": "Igen"
                                },
                                {
                                    "Szallás": "Kentaur Hotel",
                                    "panzió e": "Nem"
                                },
                                {
                                    "Szallás": "Lagúna Hotel",
                                    "panzió e": "Nem"
                                },
                                {
                                    "Szallás": "Kentaur Hotel",
                                    "panzió e": "Nem"
                                },
                                {
                                    "Szallás": "Gold Hotel",
                                    "panzió e": "Nem"
                                },
                                {
                                    "Szallás": "Lagúna Hotel",
                                    "panzió e": "Nem"
                                },
                                {
                                    "Szallás": "Fortuna panzió",
                                    "panzió e": "Igen"
                                },
                                {
                                    "Szallás": "Fortuna panzió",
                                    "panzió e": "Igen"
                                },
                                {
                                    "Szallás": "Családi Ház",
                                    "panzió e": "Nem"
                                },
                                {
                                    "Szallás": "Gold Hotel",
                                    "panzió e": "Nem"
                                },
                                {
                                    "Szallás": "Gold Hotel",
                                    "panzió e": "Nem"
                                },
                                {
                                    "Szallás": "Fortuna panzió",
                                    "panzió e": "Igen"
                                },
                                {
                                    "Szallás": "Gold Hotel",
                                    "panzió e": "Nem"
                                },
                                {
                                    "Szallás": "Fortuna panzió",
                                    "panzió e": "Igen"
                                },
                                {
                                    "Szallás": "Kentaur Hotel",
                                    "panzió e": "Nem"
                                },
                                {
                                    "Szallás": "Gold Hotel",
                                    "panzió e": "Nem"
                                },
                                {
                                    "Szallás": "Fortuna panzió",
                                    "panzió e": "Igen"
                                },
                                {
                                    "Szallás": "Gold Hotel",
                                    "panzió e": "Nem"
                                },
                                {
                                    "Szallás": "Fortuna Apartman",
                                    "panzió e": "Nem"
                                },
                                {
                                    "Szallás": "Lagúna Hotel",
                                    "panzió e": "Nem"
                                },
                                {
                                    "Szallás": "Lagúna Hotel",
                                    "panzió e": "Nem"
                                },
                                {
                                    "Szallás": "Jáde panzió",
                                    "panzió e": "Igen"
                                },
                                {
                                    "Szallás": "Jáde panzió",
                                    "panzió e": "Igen"
                                },
                                {
                                    "Szallás": "Partiszél Vendégház",
                                    "panzió e": "Nem"
                                },
                                {
                                    "Szallás": "Gold Hotel",
                                    "panzió e": "Nem"
                                },
                                {
                                    "Szallás": "Gold Hotel",
                                    "panzió e": "Nem"
                                },
                                {
                                    "Szallás": "Fortuna Panzió",
                                    "panzió e": "Igen"
                                },
                                {
                                    "Szallás": "Lagúna Hotel",
                                    "panzió e": "Nem"
                                },
                                {
                                    "Szallás": "Fortuna Apartman",
                                    "panzió e": "Nem"
                                },
                                {
                                    "Szallás": "Gold Hotel",
                                    "panzió e": "Nem"
                                },
                                {
                                    "Szallás": "Sába-Ház",
                                    "panzió e": "Nem"
                                },
                                {
                                    "Szallás": "Fortuna panzió",
                                    "panzió e": "Igen"
                                },
                                {
                                    "Szallás": "Fortuna panzió",
                                    "panzió e": "Igen"
                                },
                                {
                                    "Szallás": "Hotel Három Hattyú",
                                    "panzió e": "Nem"
                                },
                                {
                                    "Szallás": "Partiszél Vendégház",
                                    "panzió e": "Nem"
                                },
                                {
                                    "Szallás": "Hotel Három Hattyú",
                                    "panzió e": "Nem"
                                },
                                {
                                    "Szallás": "Fortuna Panzió",
                                    "panzió e": "Igen"
                                },
                                {
                                    "Szallás": "Gold Hotel",
                                    "panzió e": "Nem"
                                },
                                {
                                    "Szallás": "Gold Hotel",
                                    "panzió e": "Nem"
                                },
                                {
                                    "Szallás": "Partiszél Vendégház",
                                    "panzió e": "Nem"
                                },
                                {
                                    "Szallás": "Gold Hotel",
                                    "panzió e": "Nem"
                                },
                                {
                                    "Szallás": "Kentaur Hotel",
                                    "panzió e": "Nem"
                                },
                                {
                                    "Szallás": "Gold Hotel",
                                    "panzió e": "Nem"
                                },
                                {
                                    "Szallás": "Hotel Három Hattyú",
                                    "panzió e": "Nem"
                                },
                                {
                                    "Szallás": "Fortuna Panzió",
                                    "panzió e": "Igen"
                                },
                                {
                                    "Szallás": "Partiszél Vendégház",
                                    "panzió e": "Nem"
                                },
                                {
                                    "Szallás": "Fortuna Apartman",
                                    "panzió e": "Nem"
                                },
                                {
                                    "Szallás": "Kentaur Hotel",
                                    "panzió e": "Nem"
                                },
                                {
                                    "Szallás": "Kentaur Hotel",
                                    "panzió e": "Nem"
                                },
                                {
                                    "Szallás": "Gold Hotel",
                                    "panzió e": "Nem"
                                },
                                {
                                    "Szallás": "Kentaur Hotel",
                                    "panzió e": "Nem"
                                },
                                {
                                    "Szallás": "Gold Hotel",
                                    "panzió e": "Nem"
                                },
                                {
                                    "Szallás": "Kentaur Hotel",
                                    "panzió e": "Nem"
                                },
                                {
                                    "Szallás": "Partiszél Vendégház",
                                    "panzió e": "Nem"
                                },
                                {
                                    "Szallás": "Hotel Három Hattyú",
                                    "panzió e": "Nem"
                                },
                                {
                                    "Szallás": "Hotel Három Hattyú",
                                    "panzió e": "Nem"
                                },
                                {
                                    "Szallás": "Gold Hotel",
                                    "panzió e": "Nem"
                                },
                                {
                                    "Szallás": "Fortuna Apartman",
                                    "panzió e": "Nem"
                                },
                                {
                                    "Szallás": "Sába-Ház",
                                    "panzió e": "Nem"
                                },
                                {
                                    "Szallás": "Sába-Ház",
                                    "panzió e": "Nem"
                                },
                                {
                                    "Szallás": "Fortuna Apartman",
                                    "panzió e": "Nem"
                                },
                                {
                                    "Szallás": "Sába-Ház",
                                    "panzió e": "Nem"
                                },
                                {
                                    "Szallás": "Kentaur Hotel",
                                    "panzió e": "Nem"
                                },
                                {
                                    "Szallás": "Sába-Ház",
                                    "panzió e": "Nem"
                                },
                                {
                                    "Szallás": "Gold Hotel",
                                    "panzió e": "Nem"
                                },
                                {
                                    "Szallás": "Hotel Három Hattyú",
                                    "panzió e": "Nem"
                                },
                                {
                                    "Szallás": "Kentaur Hotel",
                                    "panzió e": "Nem"
                                },
                                {
                                    "Szallás": "Fortuna Panzió",
                                    "panzió e": "Igen"
                                },
                                {
                                    "Szallás": "Lagúna Hotel",
                                    "panzió e": "Nem"
                                },
                                {
                                    "Szallás": "Gold Hotel",
                                    "panzió e": "Nem"
                                },
                                {
                                    "Szallás": "Gold Hotel",
                                    "panzió e": "Nem"
                                },
                                {
                                    "Szallás": "Hotel Három Hattyú",
                                    "panzió e": "Nem"
                                },
                                {
                                    "Szallás": "Fortuna Panzió",
                                    "panzió e": "Igen"
                                },
                                {
                                    "Szallás": "Kentaur Hotel",
                                    "panzió e": "Nem"
                                },
                                {
                                    "Szallás": "Hotel Három Hattyú",
                                    "panzió e": "Nem"
                                },
                                {
                                    "Szallás": "Kentaur Hotel",
                                    "panzió e": "Nem"
                                },
                                {
                                    "Szallás": "Hotel Három Hattyú",
                                    "panzió e": "Nem"
                                },
                                {
                                    "Szallás": "Sába-Ház",
                                    "panzió e": "Nem"
                                },
                                {
                                    "Szallás": "Hotel Három Hattyú",
                                    "panzió e": "Nem"
                                },
                                {
                                    "Szallás": "Hotel Három Hattyú",
                                    "panzió e": "Nem"
                                },
                                {
                                    "Szallás": "Lagúna Hotel",
                                    "panzió e": "Nem"
                                },
                                {
                                    "Szallás": "Lagúna Hotel",
                                    "panzió e": "Nem"
                                },
                                {
                                    "Szallás": "Sába-Ház",
                                    "panzió e": "Nem"
                                },
                                {
                                    "Szallás": "Fortuna panzió",
                                    "panzió e": "Igen"
                                },
                                {
                                    "Szallás": "Hotel Három Hattyú",
                                    "panzió e": "Nem"
                                },
                                {
                                    "Szallás": "Családi Ház",
                                    "panzió e": "Nem"
                                },
                                {
                                    "Szallás": "Gold Hotel",
                                    "panzió e": "Nem"
                                },
                                {
                                    "Szallás": "Hotel Három Hattyú",
                                    "panzió e": "Nem"
                                },
                                {
                                    "Szallás": "Kentaur Hotel",
                                    "panzió e": "Nem"
                                },
                                {
                                    "Szallás": "Gold Hotel",
                                    "panzió e": "Nem"
                                },
                                {
                                    "Szallás": "Gold Hotel",
                                    "panzió e": "Nem"
                                },
                                {
                                    "Szallás": "Fortuna panzió",
                                    "panzió e": "Igen"
                                },
                                {
                                    "Szallás": "Lagúna Hotel",
                                    "panzió e": "Nem"
                                },
                                {
                                    "Szallás": "Gold Hotel",
                                    "panzió e": "Nem"
                                },
                                {
                                    "Szallás": "Kentaur Hotel",
                                    "panzió e": "Nem"
                                },
                                {
                                    "Szallás": "Kentaur Hotel",
                                    "panzió e": "Nem"
                                },
                                {
                                    "Szallás": "Gold Hotel",
                                    "panzió e": "Nem"
                                },
                                {
                                    "Szallás": "Fortuna panzió",
                                    "panzió e": "Igen"
                                },
                                {
                                    "Szallás": "Fortuna Panzió",
                                    "panzió e": "Igen"
                                },
                                {
                                    "Szallás": "Kentaur Hotel",
                                    "panzió e": "Nem"
                                },
                                {
                                    "Szallás": "Jáde panzió",
                                    "panzió e": "Igen"
                                },
                                {
                                    "Szallás": "Gold Hotel",
                                    "panzió e": "Nem"
                                },
                                {
                                    "Szallás": "Sába-Ház",
                                    "panzió e": "Nem"
                                },
                                {
                                    "Szallás": "Gold Hotel",
                                    "panzió e": "Nem"
                                },
                                {
                                    "Szallás": "Hotel Három Hattyú",
                                    "panzió e": "Nem"
                                },
                                {
                                    "Szallás": "Gold Hotel",
                                    "panzió e": "Nem"
                                },
                                {
                                    "Szallás": "Hotel Három Hattyú",
                                    "panzió e": "Nem"
                                },
                                {
                                    "Szallás": "Kentaur Hotel",
                                    "panzió e": "Nem"
                                },
                                {
                                    "Szallás": "Hotel Három Hattyú",
                                    "panzió e": "Nem"
                                },
                                {
                                    "Szallás": "Kentaur Hotel",
                                    "panzió e": "Nem"
                                },
                                {
                                    "Szallás": "Hotel Három Hattyú",
                                    "panzió e": "Nem"
                                },
                                {
                                    "Szallás": "Jáde panzió",
                                    "panzió e": "Igen"
                                },
                                {
                                    "Szallás": "Kentaur Hotel",
                                    "panzió e": "Nem"
                                },
                                {
                                    "Szallás": "Sába-Ház",
                                    "panzió e": "Nem"
                                },
                                {
                                    "Szallás": "Hotel Három Hattyú",
                                    "panzió e": "Nem"
                                },
                                {
                                    "Szallás": "Fortuna panzió",
                                    "panzió e": "Igen"
                                },
                                {
                                    "Szallás": "Jáde panzió",
                                    "panzió e": "Igen"
                                },
                                {
                                    "Szallás": "Fortuna Apartman",
                                    "panzió e": "Nem"
                                },
                                {
                                    "Szallás": "Kentaur Hotel",
                                    "panzió e": "Nem"
                                },
                                {
                                    "Szallás": "Hotel Három Hattyú",
                                    "panzió e": "Nem"
                                },
                                {
                                    "Szallás": "Gold Hotel",
                                    "panzió e": "Nem"
                                },
                                {
                                    "Szallás": "Kentaur Hotel",
                                    "panzió e": "Nem"
                                },
                                {
                                    "Szallás": "Partiszél Vendégház",
                                    "panzió e": "Nem"
                                },
                                {
                                    "Szallás": "Gold Hotel",
                                    "panzió e": "Nem"
                                },
                                {
                                    "Szallás": "Fortuna panzió",
                                    "panzió e": "Igen"
                                },
                                {
                                    "Szallás": "Kentaur Hotel",
                                    "panzió e": "Nem"
                                },
                                {
                                    "Szallás": "Lagúna Hotel",
                                    "panzió e": "Nem"
                                },
                                {
                                    "Szallás": "Gold Hotel",
                                    "panzió e": "Nem"
                                },
                                {
                                    "Szallás": "Hotel Három Hattyú",
                                    "panzió e": "Nem"
                                },
                                {
                                    "Szallás": "Gold Hotel",
                                    "panzió e": "Nem"
                                },
                                {
                                    "Szallás": "Fortuna Panzió",
                                    "panzió e": "Igen"
                                },
                                {
                                    "Szallás": "Fortuna Panzió",
                                    "panzió e": "Igen"
                                },
                                {
                                    "Szallás": "Sába-Ház",
                                    "panzió e": "Nem"
                                },
                                {
                                    "Szallás": "Gold Hotel",
                                    "panzió e": "Nem"
                                },
                                {
                                    "Szallás": "Gold Hotel",
                                    "panzió e": "Nem"
                                },
                                {
                                    "Szallás": "Fortuna panzió",
                                    "panzió e": "Igen"
                                },
                                {
                                    "Szallás": "Jáde panzió",
                                    "panzió e": "Igen"
                                },
                                {
                                    "Szallás": "Lagúna Hotel",
                                    "panzió e": "Nem"
                                },
                                {
                                    "Szallás": "Hotel Három Hattyú",
                                    "panzió e": "Nem"
                                },
                                {
                                    "Szallás": "Kentaur Hotel",
                                    "panzió e": "Nem"
                                },
                                {
                                    "Szallás": "Családi Ház",
                                    "panzió e": "Nem"
                                },
                                {
                                    "Szallás": "Hotel Három Hattyú",
                                    "panzió e": "Nem"
                                },
                                {
                                    "Szallás": "Gold Hotel",
                                    "panzió e": "Nem"
                                },
                                {
                                    "Szallás": "Fortuna panzió",
                                    "panzió e": "Igen"
                                },
                                {
                                    "Szallás": "Lagúna Hotel",
                                    "panzió e": "Nem"
                                },
                                {
                                    "Szallás": "Fortuna panzió",
                                    "panzió e": "Igen"
                                },
                                {
                                    "Szallás": "Hotel Három Hattyú",
                                    "panzió e": "Nem"
                                },
                                {
                                    "Szallás": "Fortuna Apartman",
                                    "panzió e": "Nem"
                                },
                                {
                                    "Szallás": "Hotel Három Hattyú",
                                    "panzió e": "Nem"
                                },
                                {
                                    "Szallás": "Szieszta Apartmanház",
                                    "panzió e": "Nem"
                                },
                                {
                                    "Szallás": "Sába-Ház",
                                    "panzió e": "Nem"
                                },
                                {
                                    "Szallás": "Gold Hotel",
                                    "panzió e": "Nem"
                                },
                                {
                                    "Szallás": "Jáde panzió",
                                    "panzió e": "Igen"
                                },
                                {
                                    "Szallás": "Hotel Három Hattyú",
                                    "panzió e": "Nem"
                                },
                                {
                                    "Szallás": "Lagúna Hotel",
                                    "panzió e": "Nem"
                                },
                                {
                                    "Szallás": "Gold Hotel",
                                    "panzió e": "Nem"
                                },
                                {
                                    "Szallás": "Családi Ház",
                                    "panzió e": "Nem"
                                },
                                {
                                    "Szallás": "Jáde panzió",
                                    "panzió e": "Igen"
                                },
                                {
                                    "Szallás": "Lagúna Hotel",
                                    "panzió e": "Nem"
                                },
                                {
                                    "Szallás": "Lagúna Hotel",
                                    "panzió e": "Nem"
                                },
                                {
                                    "Szallás": "Hotel Három Hattyú",
                                    "panzió e": "Nem"
                                },
                                {
                                    "Szallás": "Hotel Három Hattyú",
                                    "panzió e": "Nem"
                                },
                                {
                                    "Szallás": "Hotel Három Hattyú",
                                    "panzió e": "Nem"
                                },
                                {
                                    "Szallás": "Sába-Ház",
                                    "panzió e": "Nem"
                                },
                                {
                                    "Szallás": "Fortuna panzió",
                                    "panzió e": "Igen"
                                },
                                {
                                    "Szallás": "Fortuna panzió",
                                    "panzió e": "Igen"
                                },
                                {
                                    "Szallás": "Kentaur Hotel",
                                    "panzió e": "Nem"
                                },
                                {
                                    "Szallás": "Kentaur Hotel",
                                    "panzió e": "Nem"
                                },
                                {
                                    "Szallás": "Fortuna Panzió",
                                    "panzió e": "Igen"
                                },
                                {
                                    "Szallás": "Szieszta Apartmanház",
                                    "panzió e": "Nem"
                                },
                                {
                                    "Szallás": "Lagúna Hotel",
                                    "panzió e": "Nem"
                                },
                                {
                                    "Szallás": "Szieszta Apartmanház",
                                    "panzió e": "Nem"
                                },
                                {
                                    "Szallás": "Fortuna panzió",
                                    "panzió e": "Igen"
                                },
                                {
                                    "Szallás": "Lagúna Hotel",
                                    "panzió e": "Nem"
                                },
                                {
                                    "Szallás": "Hotel Három Hattyú",
                                    "panzió e": "Nem"
                                },
                                {
                                    "Szallás": "Kentaur Hotel",
                                    "panzió e": "Nem"
                                },
                                {
                                    "Szallás": "Lagúna Hotel",
                                    "panzió e": "Nem"
                                },
                                {
                                    "Szallás": "Gold Hotel",
                                    "panzió e": "Nem"
                                },
                                {
                                    "Szallás": "Fortuna Panzió",
                                    "panzió e": "Igen"
                                },
                                {
                                    "Szallás": "Gold Hotel",
                                    "panzió e": "Nem"
                                },
                                {
                                    "Szallás": "Partiszél Vendégház",
                                    "panzió e": "Nem"
                                },
                                {
                                    "Szallás": "Sába-Ház",
                                    "panzió e": "Nem"
                                },
                                {
                                    "Szallás": "Fortuna Apartman",
                                    "panzió e": "Nem"
                                },
                                {
                                    "Szallás": "Kentaur Hotel",
                                    "panzió e": "Nem"
                                },
                                {
                                    "Szallás": "Hotel Három Hattyú",
                                    "panzió e": "Nem"
                                },
                                {
                                    "Szallás": "Sába-Ház",
                                    "panzió e": "Nem"
                                },
                                {
                                    "Szallás": "Gold Hotel",
                                    "panzió e": "Nem"
                                },
                                {
                                    "Szallás": "Partiszél Vendégház",
                                    "panzió e": "Nem"
                                },
                                {
                                    "Szallás": "Fortuna panzió",
                                    "panzió e": "Igen"
                                },
                                {
                                    "Szallás": "Lagúna Hotel",
                                    "panzió e": "Nem"
                                },
                                {
                                    "Szallás": "Fortuna panzió",
                                    "panzió e": "Igen"
                                },
                                {
                                    "Szallás": "Szieszta Apartmanház",
                                    "panzió e": "Nem"
                                },
                                {
                                    "Szallás": "Kentaur Hotel",
                                    "panzió e": "Nem"
                                },
                                {
                                    "Szallás": "Kentaur Hotel",
                                    "panzió e": "Nem"
                                },
                                {
                                    "Szallás": "Fortuna panzió",
                                    "panzió e": "Igen"
                                },
                                {
                                    "Szallás": "Hotel Három Hattyú",
                                    "panzió e": "Nem"
                                },
                                {
                                    "Szallás": "Kentaur Hotel",
                                    "panzió e": "Nem"
                                },
                                {
                                    "Szallás": "Hotel Három Hattyú",
                                    "panzió e": "Nem"
                                },
                                {
                                    "Szallás": "Kentaur Hotel",
                                    "panzió e": "Nem"
                                },
                                {
                                    "Szallás": "Lagúna Hotel",
                                    "panzió e": "Nem"
                                },
                                {
                                    "Szallás": "Fortuna Panzió",
                                    "panzió e": "Igen"
                                },
                                {
                                    "Szallás": "Hotel Három Hattyú",
                                    "panzió e": "Nem"
                                },
                                {
                                    "Szallás": "Jáde panzió",
                                    "panzió e": "Igen"
                                },
                                {
                                    "Szallás": "Gold Hotel",
                                    "panzió e": "Nem"
                                },
                                {
                                    "Szallás": "Kentaur Hotel",
                                    "panzió e": "Nem"
                                },
                                {
                                    "Szallás": "Kentaur Hotel",
                                    "panzió e": "Nem"
                                },
                                {
                                    "Szallás": "Gold Hotel",
                                    "panzió e": "Nem"
                                },
                                {
                                    "Szallás": "Gold Hotel",
                                    "panzió e": "Nem"
                                },
                                {
                                    "Szallás": "Kentaur Hotel",
                                    "panzió e": "Nem"
                                },
                                {
                                    "Szallás": "Hotel Három Hattyú",
                                    "panzió e": "Nem"
                                },
                                {
                                    "Szallás": "Lagúna Hotel",
                                    "panzió e": "Nem"
                                },
                                {
                                    "Szallás": "Sába-Ház",
                                    "panzió e": "Nem"
                                },
                                {
                                    "Szallás": "Lagúna Hotel",
                                    "panzió e": "Nem"
                                },
                                {
                                    "Szallás": "Szieszta Apartmanház",
                                    "panzió e": "Nem"
                                },
                                {
                                    "Szallás": "Hotel Három Hattyú",
                                    "panzió e": "Nem"
                                },
                                {
                                    "Szallás": "Szieszta Apartmanház",
                                    "panzió e": "Nem"
                                },
                                {
                                    "Szallás": "Kentaur Hotel",
                                    "panzió e": "Nem"
                                },
                                {
                                    "Szallás": "Lagúna Hotel",
                                    "panzió e": "Nem"
                                },
                                {
                                    "Szallás": "Fortuna Apartman",
                                    "panzió e": "Nem"
                                },
                                {
                                    "Szallás": "Partiszél Vendégház",
                                    "panzió e": "Nem"
                                },
                                {
                                    "Szallás": "Szieszta Apartmanház",
                                    "panzió e": "Nem"
                                },
                                {
                                    "Szallás": "Hotel Három Hattyú",
                                    "panzió e": "Nem"
                                },
                                {
                                    "Szallás": "Sába-Ház",
                                    "panzió e": "Nem"
                                },
                                {
                                    "Szallás": "Jáde panzió",
                                    "panzió e": "Igen"
                                },
                                {
                                    "Szallás": "Lagúna Hotel",
                                    "panzió e": "Nem"
                                },
                                {
                                    "Szallás": "Kentaur Hotel",
                                    "panzió e": "Nem"
                                },
                                {
                                    "Szallás": "Fortuna Apartman",
                                    "panzió e": "Nem"
                                },
                                {
                                    "Szallás": "Lagúna Hotel",
                                    "panzió e": "Nem"
                                },
                                {
                                    "Szallás": "Gold Hotel",
                                    "panzió e": "Nem"
                                },
                                {
                                    "Szallás": "Lagúna Hotel",
                                    "panzió e": "Nem"
                                },
                                {
                                    "Szallás": "Fortuna Panzió",
                                    "panzió e": "Igen"
                                },
                                {
                                    "Szallás": "Kentaur Hotel",
                                    "panzió e": "Nem"
                                },
                                {
                                    "Szallás": "Lagúna Hotel",
                                    "panzió e": "Nem"
                                },
                                {
                                    "Szallás": "Hotel Három Hattyú",
                                    "panzió e": "Nem"
                                },
                                {
                                    "Szallás": "Kentaur Hotel",
                                    "panzió e": "Nem"
                                },
                                {
                                    "Szallás": "Sába-Ház",
                                    "panzió e": "Nem"
                                },
                                {
                                    "Szallás": "Hotel Három Hattyú",
                                    "panzió e": "Nem"
                                },
                                {
                                    "Szallás": "Gold Hotel",
                                    "panzió e": "Nem"
                                },
                                {
                                    "Szallás": "Kentaur Hotel",
                                    "panzió e": "Nem"
                                },
                                {
                                    "Szallás": "Sába-Ház",
                                    "panzió e": "Nem"
                                },
                                {
                                    "Szallás": "Hotel Három Hattyú",
                                    "panzió e": "Nem"
                                },
                                {
                                    "Szallás": "Családi Ház",
                                    "panzió e": "Nem"
                                },
                                {
                                    "Szallás": "Fortuna Apartman",
                                    "panzió e": "Nem"
                                },
                                {
                                    "Szallás": "Sába-Ház",
                                    "panzió e": "Nem"
                                },
                                {
                                    "Szallás": "Sába-Ház",
                                    "panzió e": "Nem"
                                },
                                {
                                    "Szallás": "Gold Hotel",
                                    "panzió e": "Nem"
                                },
                                {
                                    "Szallás": "Hotel Három Hattyú",
                                    "panzió e": "Nem"
                                },
                                {
                                    "Szallás": "Fortuna Panzió",
                                    "panzió e": "Igen"
                                },
                                {
                                    "Szallás": "Fortuna panzió",
                                    "panzió e": "Igen"
                                },
                                {
                                    "Szallás": "Sába-Ház",
                                    "panzió e": "Nem"
                                },
                                {
                                    "Szallás": "Gold Hotel",
                                    "panzió e": "Nem"
                                },
                                {
                                    "Szallás": "Fortuna Apartman",
                                    "panzió e": "Nem"
                                },
                                {
                                    "Szallás": "Sába-Ház",
                                    "panzió e": "Nem"
                                },
                                {
                                    "Szallás": "Gold Hotel",
                                    "panzió e": "Nem"
                                },
                                {
                                    "Szallás": "Gold Hotel",
                                    "panzió e": "Nem"
                                },
                                {
                                    "Szallás": "Gold Hotel",
                                    "panzió e": "Nem"
                                },
                                {
                                    "Szallás": "Fortuna Panzió",
                                    "panzió e": "Igen"
                                },
                                {
                                    "Szallás": "Lagúna Hotel",
                                    "panzió e": "Nem"
                                },
                                {
                                    "Szallás": "Lagúna Hotel",
                                    "panzió e": "Nem"
                                },
                                {
                                    "Szallás": "Gold Hotel",
                                    "panzió e": "Nem"
                                },
                                {
                                    "Szallás": "Kentaur Hotel",
                                    "panzió e": "Nem"
                                },
                                {
                                    "Szallás": "Jáde panzió",
                                    "panzió e": "Igen"
                                },
                                {
                                    "Szallás": "Fortuna panzió",
                                    "panzió e": "Igen"
                                },
                                {
                                    "Szallás": "Sába-Ház",
                                    "panzió e": "Nem"
                                },
                                {
                                    "Szallás": "Sába-Ház",
                                    "panzió e": "Nem"
                                },
                                {
                                    "Szallás": "Gold Hotel",
                                    "panzió e": "Nem"
                                },
                                {
                                    "Szallás": "Hotel Három Hattyú",
                                    "panzió e": "Nem"
                                },
                                {
                                    "Szallás": "Lagúna Hotel",
                                    "panzió e": "Nem"
                                },
                                {
                                    "Szallás": "Lagúna Hotel",
                                    "panzió e": "Nem"
                                },
                                {
                                    "Szallás": "Sába-Ház",
                                    "panzió e": "Nem"
                                },
                                {
                                    "Szallás": "Fortuna panzió",
                                    "panzió e": "Igen"
                                },
                                {
                                    "Szallás": "Kentaur Hotel",
                                    "panzió e": "Nem"
                                },
                                {
                                    "Szallás": "Lagúna Hotel",
                                    "panzió e": "Nem"
                                },
                                {
                                    "Szallás": "Gold Hotel",
                                    "panzió e": "Nem"
                                },
                                {
                                    "Szallás": "Hotel Három Hattyú",
                                    "panzió e": "Nem"
                                },
                                {
                                    "Szallás": "Kentaur Hotel",
                                    "panzió e": "Nem"
                                },
                                {
                                    "Szallás": "Sába-Ház",
                                    "panzió e": "Nem"
                                },
                                {
                                    "Szallás": "Kentaur Hotel",
                                    "panzió e": "Nem"
                                },
                                {
                                    "Szallás": "Hotel Három Hattyú",
                                    "panzió e": "Nem"
                                },
                                {
                                    "Szallás": "Fortuna Apartman",
                                    "panzió e": "Nem"
                                },
                                {
                                    "Szallás": "Lagúna Hotel",
                                    "panzió e": "Nem"
                                },
                                {
                                    "Szallás": "Hotel Három Hattyú",
                                    "panzió e": "Nem"
                                },
                                {
                                    "Szallás": "Kentaur Hotel",
                                    "panzió e": "Nem"
                                },
                                {
                                    "Szallás": "Gold Hotel",
                                    "panzió e": "Nem"
                                },
                                {
                                    "Szallás": "Gold Hotel",
                                    "panzió e": "Nem"
                                },
                                {
                                    "Szallás": "Fortuna Apartman",
                                    "panzió e": "Nem"
                                },
                                {
                                    "Szallás": "Szieszta Apartmanház",
                                    "panzió e": "Nem"
                                },
                                {
                                    "Szallás": "Sába-Ház",
                                    "panzió e": "Nem"
                                },
                                {
                                    "Szallás": "Gold Hotel",
                                    "panzió e": "Nem"
                                },
                                {
                                    "Szallás": "Lagúna Hotel",
                                    "panzió e": "Nem"
                                },
                                {
                                    "Szallás": "Jáde panzió",
                                    "panzió e": "Igen"
                                },
                                {
                                    "Szallás": "Kentaur Hotel",
                                    "panzió e": "Nem"
                                },
                                {
                                    "Szallás": "Hotel Három Hattyú",
                                    "panzió e": "Nem"
                                },
                                {
                                    "Szallás": "Gold Hotel",
                                    "panzió e": "Nem"
                                },
                                {
                                    "Szallás": "Sába-Ház",
                                    "panzió e": "Nem"
                                },
                                {
                                    "Szallás": "Gold Hotel",
                                    "panzió e": "Nem"
                                },
                                {
                                    "Szallás": "Gold Hotel",
                                    "panzió e": "Nem"
                                },
                                {
                                    "Szallás": "Fortuna panzió",
                                    "panzió e": "Igen"
                                },
                                {
                                    "Szallás": "Kentaur Hotel",
                                    "panzió e": "Nem"
                                },
                                {
                                    "Szallás": "Fortuna Panzió",
                                    "panzió e": "Igen"
                                },
                                {
                                    "Szallás": "Gold Hotel",
                                    "panzió e": "Nem"
                                },
                                {
                                    "Szallás": "Szieszta Apartmanház",
                                    "panzió e": "Nem"
                                },
                                {
                                    "Szallás": "Partiszél Vendégház",
                                    "panzió e": "Nem"
                                },
                                {
                                    "Szallás": "Kentaur Hotel",
                                    "panzió e": "Nem"
                                },
                                {
                                    "Szallás": "Hotel Három Hattyú",
                                    "panzió e": "Nem"
                                },
                                {
                                    "Szallás": "Lagúna Hotel",
                                    "panzió e": "Nem"
                                },
                                {
                                    "Szallás": "Gold Hotel",
                                    "panzió e": "Nem"
                                },
                                {
                                    "Szallás": "Fortuna Apartman",
                                    "panzió e": "Nem"
                                },
                                {
                                    "Szallás": "Szieszta Apartmanház",
                                    "panzió e": "Nem"
                                },
                                {
                                    "Szallás": "Lagúna Hotel",
                                    "panzió e": "Nem"
                                },
                                {
                                    "Szallás": "Fortuna Apartman",
                                    "panzió e": "Nem"
                                },
                                {
                                    "Szallás": "Lagúna Hotel",
                                    "panzió e": "Nem"
                                },
                                {
                                    "Szallás": "Fortuna Panzió",
                                    "panzió e": "Igen"
                                },
                                {
                                    "Szallás": "Lagúna Hotel",
                                    "panzió e": "Nem"
                                },
                                {
                                    "Szallás": "Kentaur Hotel",
                                    "panzió e": "Nem"
                                },
                                {
                                    "Szallás": "Lagúna Hotel",
                                    "panzió e": "Nem"
                                },
                                {
                                    "Szallás": "Gold Hotel",
                                    "panzió e": "Nem"
                                },
                                {
                                    "Szallás": "Partiszél Vendégház",
                                    "panzió e": "Nem"
                                },
                                {
                                    "Szallás": "Fortuna Apartman",
                                    "panzió e": "Nem"
                                },
                                {
                                    "Szallás": "Fortuna Panzió",
                                    "panzió e": "Igen"
                                },
                                {
                                    "Szallás": "Kentaur Hotel",
                                    "panzió e": "Nem"
                                },
                                {
                                    "Szallás": "Hotel Három Hattyú",
                                    "panzió e": "Nem"
                                },
                                {
                                    "Szallás": "Hotel Három Hattyú",
                                    "panzió e": "Nem"
                                },
                                {
                                    "Szallás": "Gold Hotel",
                                    "panzió e": "Nem"
                                },
                                {
                                    "Szallás": "Fortuna Apartman",
                                    "panzió e": "Nem"
                                },
                                {
                                    "Szallás": "Hotel Három Hattyú",
                                    "panzió e": "Nem"
                                },
                                {
                                    "Szallás": "Fortuna panzió",
                                    "panzió e": "Igen"
                                },
                                {
                                    "Szallás": "Hotel Három Hattyú",
                                    "panzió e": "Nem"
                                },
                                {
                                    "Szallás": "Gold Hotel",
                                    "panzió e": "Nem"
                                },
                                {
                                    "Szallás": "Hotel Három Hattyú",
                                    "panzió e": "Nem"
                                },
                                {
                                    "Szallás": "Kentaur Hotel",
                                    "panzió e": "Nem"
                                },
                                {
                                    "Szallás": "Jáde panzió",
                                    "panzió e": "Igen"
                                },
                                {
                                    "Szallás": "Sába-Ház",
                                    "panzió e": "Nem"
                                },
                                {
                                    "Szallás": "Fortuna Panzió",
                                    "panzió e": "Igen"
                                },
                                {
                                    "Szallás": "Lagúna Hotel",
                                    "panzió e": "Nem"
                                },
                                {
                                    "Szallás": "Hotel Három Hattyú",
                                    "panzió e": "Nem"
                                },
                                {
                                    "Szallás": "Kentaur Hotel",
                                    "panzió e": "Nem"
                                },
                                {
                                    "Szallás": "Kentaur Hotel",
                                    "panzió e": "Nem"
                                },
                                {
                                    "Szallás": "Hotel Három Hattyú",
                                    "panzió e": "Nem"
                                },
                                {
                                    "Szallás": "Fortuna Panzió",
                                    "panzió e": "Igen"
                                },
                                {
                                    "Szallás": "Hotel Három Hattyú",
                                    "panzió e": "Nem"
                                },
                                {
                                    "Szallás": "Kentaur Hotel",
                                    "panzió e": "Nem"
                                },
                                {
                                    "Szallás": "Gold Hotel",
                                    "panzió e": "Nem"
                                },
                                {
                                    "Szallás": "Gold Hotel",
                                    "panzió e": "Nem"
                                },
                                {
                                    "Szallás": "Kentaur Hotel",
                                    "panzió e": "Nem"
                                },
                                {
                                    "Szallás": "Kentaur Hotel",
                                    "panzió e": "Nem"
                                },
                                {
                                    "Szallás": "Kentaur Hotel",
                                    "panzió e": "Nem"
                                },
                                {
                                    "Szallás": "Fortuna panzió",
                                    "panzió e": "Igen"
                                },
                                {
                                    "Szallás": "Sába-Ház",
                                    "panzió e": "Nem"
                                },
                                {
                                    "Szallás": "Fortuna Apartman",
                                    "panzió e": "Nem"
                                },
                                {
                                    "Szallás": "Gold Hotel",
                                    "panzió e": "Nem"
                                },
                                {
                                    "Szallás": "Kentaur Hotel",
                                    "panzió e": "Nem"
                                },
                                {
                                    "Szallás": "Lagúna Hotel",
                                    "panzió e": "Nem"
                                },
                                {
                                    "Szallás": "Hotel Három Hattyú",
                                    "panzió e": "Nem"
                                },
                                {
                                    "Szallás": "Gold Hotel",
                                    "panzió e": "Nem"
                                },
                                {
                                    "Szallás": "Fortuna Panzió",
                                    "panzió e": "Igen"
                                },
                                {
                                    "Szallás": "Családi Ház",
                                    "panzió e": "Nem"
                                },
                                {
                                    "Szallás": "Hotel Három Hattyú",
                                    "panzió e": "Nem"
                                },
                                {
                                    "Szallás": "Kentaur Hotel",
                                    "panzió e": "Nem"
                                },
                                {
                                    "Szallás": "Hotel Három Hattyú",
                                    "panzió e": "Nem"
                                },
                                {
                                    "Szallás": "Gold Hotel",
                                    "panzió e": "Nem"
                                },
                                {
                                    "Szallás": "Gold Hotel",
                                    "panzió e": "Nem"
                                },
                                {
                                    "Szallás": "Hotel Három Hattyú",
                                    "panzió e": "Nem"
                                },
                                {
                                    "Szallás": "Gold Hotel",
                                    "panzió e": "Nem"
                                },
                                {
                                    "Szallás": "Sába-Ház",
                                    "panzió e": "Nem"
                                },
                                {
                                    "Szallás": "Szieszta Apartmanház",
                                    "panzió e": "Nem"
                                },
                                {
                                    "Szallás": "Lagúna Hotel",
                                    "panzió e": "Nem"
                                },
                                {
                                    "Szallás": "Kentaur Hotel",
                                    "panzió e": "Nem"
                                },
                                {
                                    "Szallás": "Lagúna Hotel",
                                    "panzió e": "Nem"
                                },
                                {
                                    "Szallás": "Sába-Ház",
                                    "panzió e": "Nem"
                                },
                                {
                                    "Szallás": "Kentaur Hotel",
                                    "panzió e": "Nem"
                                },
                                {
                                    "Szallás": "Lagúna Hotel",
                                    "panzió e": "Nem"
                                },
                                {
                                    "Szallás": "Sába-Ház",
                                    "panzió e": "Nem"
                                },
                                {
                                    "Szallás": "Kentaur Hotel",
                                    "panzió e": "Nem"
                                },
                                {
                                    "Szallás": "Lagúna Hotel",
                                    "panzió e": "Nem"
                                },
                                {
                                    "Szallás": "Hotel Három Hattyú",
                                    "panzió e": "Nem"
                                },
                                {
                                    "Szallás": "Kentaur Hotel",
                                    "panzió e": "Nem"
                                },
                                {
                                    "Szallás": "Partiszél Vendégház",
                                    "panzió e": "Nem"
                                },
                                {
                                    "Szallás": "Gold Hotel",
                                    "panzió e": "Nem"
                                },
                                {
                                    "Szallás": "Gold Hotel",
                                    "panzió e": "Nem"
                                },
                                {
                                    "Szallás": "Kentaur Hotel",
                                    "panzió e": "Nem"
                                },
                                {
                                    "Szallás": "Szieszta Apartmanház",
                                    "panzió e": "Nem"
                                },
                                {
                                    "Szallás": "Fortuna Panzió",
                                    "panzió e": "Igen"
                                },
                                {
                                    "Szallás": "Hotel Három Hattyú",
                                    "panzió e": "Nem"
                                },
                                {
                                    "Szallás": "Kentaur Hotel",
                                    "panzió e": "Nem"
                                },
                                {
                                    "Szallás": "Szieszta Apartmanház",
                                    "panzió e": "Nem"
                                },
                                {
                                    "Szallás": "Sába-Ház",
                                    "panzió e": "Nem"
                                },
                                {
                                    "Szallás": "Fortuna panzió",
                                    "panzió e": "Igen"
                                },
                                {
                                    "Szallás": "Gold Hotel",
                                    "panzió e": "Nem"
                                },
                                {
                                    "Szallás": "Kentaur Hotel",
                                    "panzió e": "Nem"
                                },
                                {
                                    "Szallás": "Gold Hotel",
                                    "panzió e": "Nem"
                                },
                                {
                                    "Szallás": "Kentaur Hotel",
                                    "panzió e": "Nem"
                                },
                                {
                                    "Szallás": "Lagúna Hotel",
                                    "panzió e": "Nem"
                                },
                                {
                                    "Szallás": "Kentaur Hotel",
                                    "panzió e": "Nem"
                                },
                                {
                                    "Szallás": "Hotel Három Hattyú",
                                    "panzió e": "Nem"
                                },
                                {
                                    "Szallás": "Lagúna Hotel",
                                    "panzió e": "Nem"
                                },
                                {
                                    "Szallás": "Partiszél Vendégház",
                                    "panzió e": "Nem"
                                },
                                {
                                    "Szallás": "Kentaur Hotel",
                                    "panzió e": "Nem"
                                },
                                {
                                    "Szallás": "Hotel Három Hattyú",
                                    "panzió e": "Nem"
                                },
                                {
                                    "Szallás": "Fortuna Apartman",
                                    "panzió e": "Nem"
                                },
                                {
                                    "Szallás": "Kentaur Hotel",
                                    "panzió e": "Nem"
                                },
                                {
                                    "Szallás": "Lagúna Hotel",
                                    "panzió e": "Nem"
                                },
                                {
                                    "Szallás": "Hotel Három Hattyú",
                                    "panzió e": "Nem"
                                },
                                {
                                    "Szallás": "Fortuna Panzió",
                                    "panzió e": "Igen"
                                },
                                {
                                    "Szallás": "Partiszél Vendégház",
                                    "panzió e": "Nem"
                                },
                                {
                                    "Szallás": "Kentaur Hotel",
                                    "panzió e": "Nem"
                                },
                                {
                                    "Szallás": "Lagúna Hotel",
                                    "panzió e": "Nem"
                                },
                                {
                                    "Szallás": "Fortuna Panzió",
                                    "panzió e": "Igen"
                                },
                                {
                                    "Szallás": "Hotel Három Hattyú",
                                    "panzió e": "Nem"
                                },
                                {
                                    "Szallás": "Lagúna Hotel",
                                    "panzió e": "Nem"
                                },
                                {
                                    "Szallás": "Hotel Három Hattyú",
                                    "panzió e": "Nem"
                                },
                                {
                                    "Szallás": "Szieszta Apartmanház",
                                    "panzió e": "Nem"
                                },
                                {
                                    "Szallás": "Szieszta Apartmanház",
                                    "panzió e": "Nem"
                                },
                                {
                                    "Szallás": "Jáde panzió",
                                    "panzió e": "Igen"
                                },
                                {
                                    "Szallás": "Gold Hotel",
                                    "panzió e": "Nem"
                                },
                                {
                                    "Szallás": "Fortuna Panzió",
                                    "panzió e": "Igen"
                                },
                                {
                                    "Szallás": "Gold Hotel",
                                    "panzió e": "Nem"
                                },
                                {
                                    "Szallás": "Hotel Három Hattyú",
                                    "panzió e": "Nem"
                                },
                                {
                                    "Szallás": "Jáde panzió",
                                    "panzió e": "Igen"
                                },
                                {
                                    "Szallás": "Kentaur Hotel",
                                    "panzió e": "Nem"
                                },
                                {
                                    "Szallás": "Gold Hotel",
                                    "panzió e": "Nem"
                                },
                                {
                                    "Szallás": "Fortuna Panzió",
                                    "panzió e": "Igen"
                                },
                                {
                                    "Szallás": "Lagúna Hotel",
                                    "panzió e": "Nem"
                                },
                                {
                                    "Szallás": "Sába-Ház",
                                    "panzió e": "Nem"
                                },
                                {
                                    "Szallás": "Hotel Három Hattyú",
                                    "panzió e": "Nem"
                                },
                                {
                                    "Szallás": "Lagúna Hotel",
                                    "panzió e": "Nem"
                                },
                                {
                                    "Szallás": "Gold Hotel",
                                    "panzió e": "Nem"
                                },
                                {
                                    "Szallás": "Hotel Három Hattyú",
                                    "panzió e": "Nem"
                                },
                                {
                                    "Szallás": "Fortuna Apartman",
                                    "panzió e": "Nem"
                                },
                                {
                                    "Szallás": "Gold Hotel",
                                    "panzió e": "Nem"
                                },
                                {
                                    "Szallás": "Kentaur Hotel",
                                    "panzió e": "Nem"
                                },
                                {
                                    "Szallás": "Sába-Ház",
                                    "panzió e": "Nem"
                                },
                                {
                                    "Szallás": "Szieszta Apartmanház",
                                    "panzió e": "Nem"
                                },
                                {
                                    "Szallás": "Fortuna panzió",
                                    "panzió e": "Igen"
                                },
                                {
                                    "Szallás": "Kentaur Hotel",
                                    "panzió e": "Nem"
                                },
                                {
                                    "Szallás": "Gold Hotel",
                                    "panzió e": "Nem"
                                },
                                {
                                    "Szallás": "Kentaur Hotel",
                                    "panzió e": "Nem"
                                },
                                {
                                    "Szallás": "Kentaur Hotel",
                                    "panzió e": "Nem"
                                },
                                {
                                    "Szallás": "Gold Hotel",
                                    "panzió e": "Nem"
                                },
                                {
                                    "Szallás": "Kentaur Hotel",
                                    "panzió e": "Nem"
                                },
                                {
                                    "Szallás": "Kentaur Hotel",
                                    "panzió e": "Nem"
                                },
                                {
                                    "Szallás": "Gold Hotel",
                                    "panzió e": "Nem"
                                },
                                {
                                    "Szallás": "Hotel Három Hattyú",
                                    "panzió e": "Nem"
                                },
                                {
                                    "Szallás": "Kentaur Hotel",
                                    "panzió e": "Nem"
                                },
                                {
                                    "Szallás": "Hotel Három Hattyú",
                                    "panzió e": "Nem"
                                },
                                {
                                    "Szallás": "Kentaur Hotel",
                                    "panzió e": "Nem"
                                },
                                {
                                    "Szallás": "Sába-Ház",
                                    "panzió e": "Nem"
                                },
                                {
                                    "Szallás": "Fortuna panzió",
                                    "panzió e": "Igen"
                                },
                                {
                                    "Szallás": "Gold Hotel",
                                    "panzió e": "Nem"
                                },
                                {
                                    "Szallás": "Hotel Három Hattyú",
                                    "panzió e": "Nem"
                                },
                                {
                                    "Szallás": "Lagúna Hotel",
                                    "panzió e": "Nem"
                                },
                                {
                                    "Szallás": "Hotel Három Hattyú",
                                    "panzió e": "Nem"
                                },
                                {
                                    "Szallás": "Gold Hotel",
                                    "panzió e": "Nem"
                                },
                                {
                                    "Szallás": "Kentaur Hotel",
                                    "panzió e": "Nem"
                                },
                                {
                                    "Szallás": "Gold Hotel",
                                    "panzió e": "Nem"
                                },
                                {
                                    "Szallás": "Hotel Három Hattyú",
                                    "panzió e": "Nem"
                                },
                                {
                                    "Szallás": "Fortuna panzió",
                                    "panzió e": "Igen"
                                },
                                {
                                    "Szallás": "Kentaur Hotel",
                                    "panzió e": "Nem"
                                },
                                {
                                    "Szallás": "Gold Hotel",
                                    "panzió e": "Nem"
                                },
                                {
                                    "Szallás": "Családi Ház",
                                    "panzió e": "Nem"
                                },
                                {
                                    "Szallás": "Kentaur Hotel",
                                    "panzió e": "Nem"
                                },
                                {
                                    "Szallás": "Szieszta Apartmanház",
                                    "panzió e": "Nem"
                                },
                                {
                                    "Szallás": "Gold Hotel",
                                    "panzió e": "Nem"
                                },
                                {
                                    "Szallás": "Fortuna panzió",
                                    "panzió e": "Igen"
                                },
                                {
                                    "Szallás": "Hotel Három Hattyú",
                                    "panzió e": "Nem"
                                },
                                {
                                    "Szallás": "Hotel Három Hattyú",
                                    "panzió e": "Nem"
                                },
                                {
                                    "Szallás": "Hotel Három Hattyú",
                                    "panzió e": "Nem"
                                },
                                {
                                    "Szallás": "Hotel Három Hattyú",
                                    "panzió e": "Nem"
                                },
                                {
                                    "Szallás": "Gold Hotel",
                                    "panzió e": "Nem"
                                },
                                {
                                    "Szallás": "Lagúna Hotel",
                                    "panzió e": "Nem"
                                },
                                {
                                    "Szallás": "Lagúna Hotel",
                                    "panzió e": "Nem"
                                },
                                {
                                    "Szallás": "Szieszta Apartmanház",
                                    "panzió e": "Nem"
                                },
                                {
                                    "Szallás": "Hotel Három Hattyú",
                                    "panzió e": "Nem"
                                },
                                {
                                    "Szallás": "Lagúna Hotel",
                                    "panzió e": "Nem"
                                },
                                {
                                    "Szallás": "Fortuna panzió",
                                    "panzió e": "Igen"
                                },
                                {
                                    "Szallás": "Jáde panzió",
                                    "panzió e": "Igen"
                                },
                                {
                                    "Szallás": "Hotel Három Hattyú",
                                    "panzió e": "Nem"
                                },
                                {
                                    "Szallás": "Kentaur Hotel",
                                    "panzió e": "Nem"
                                },
                                {
                                    "Szallás": "Kentaur Hotel",
                                    "panzió e": "Nem"
                                },
                                {
                                    "Szallás": "Kentaur Hotel",
                                    "panzió e": "Nem"
                                },
                                {
                                    "Szallás": "Hotel Három Hattyú",
                                    "panzió e": "Nem"
                                },
                                {
                                    "Szallás": "Lagúna Hotel",
                                    "panzió e": "Nem"
                                },
                                {
                                    "Szallás": "Lagúna Hotel",
                                    "panzió e": "Nem"
                                },
                                {
                                    "Szallás": "Lagúna Hotel",
                                    "panzió e": "Nem"
                                },
                                {
                                    "Szallás": "Hotel Három Hattyú",
                                    "panzió e": "Nem"
                                },
                                {
                                    "Szallás": "Hotel Három Hattyú",
                                    "panzió e": "Nem"
                                },
                                {
                                    "Szallás": "Hotel Három Hattyú",
                                    "panzió e": "Nem"
                                },
                                {
                                    "Szallás": "Gold Hotel",
                                    "panzió e": "Nem"
                                },
                                {
                                    "Szallás": "Kentaur Hotel",
                                    "panzió e": "Nem"
                                },
                                {
                                    "Szallás": "Fortuna panzió",
                                    "panzió e": "Igen"
                                },
                                {
                                    "Szallás": "Hotel Három Hattyú",
                                    "panzió e": "Nem"
                                },
                                {
                                    "Szallás": "Kentaur Hotel",
                                    "panzió e": "Nem"
                                },
                                {
                                    "Szallás": "Fortuna panzió",
                                    "panzió e": "Igen"
                                },
                                {
                                    "Szallás": "Fortuna panzió",
                                    "panzió e": "Igen"
                                },
                                {
                                    "Szallás": "Kentaur Hotel",
                                    "panzió e": "Nem"
                                },
                                {
                                    "Szallás": "Gold Hotel",
                                    "panzió e": "Nem"
                                },
                                {
                                    "Szallás": "Kentaur Hotel",
                                    "panzió e": "Nem"
                                },
                                {
                                    "Szallás": "Hotel Három Hattyú",
                                    "panzió e": "Nem"
                                },
                                {
                                    "Szallás": "Kentaur Hotel",
                                    "panzió e": "Nem"
                                },
                                {
                                    "Szallás": "Gold Hotel",
                                    "panzió e": "Nem"
                                },
                                {
                                    "Szallás": "Fortuna panzió",
                                    "panzió e": "Igen"
                                },
                                {
                                    "Szallás": "Kentaur Hotel",
                                    "panzió e": "Nem"
                                },
                                {
                                    "Szallás": "Gold Hotel",
                                    "panzió e": "Nem"
                                },
                                {
                                    "Szallás": "Hotel Három Hattyú",
                                    "panzió e": "Nem"
                                },
                                {
                                    "Szallás": "Hotel Három Hattyú",
                                    "panzió e": "Nem"
                                },
                                {
                                    "Szallás": "Hotel Három Hattyú",
                                    "panzió e": "Nem"
                                },
                                {
                                    "Szallás": "Lagúna Hotel",
                                    "panzió e": "Nem"
                                },
                                {
                                    "Szallás": "Hotel Három Hattyú",
                                    "panzió e": "Nem"
                                },
                                {
                                    "Szallás": "Kentaur Hotel",
                                    "panzió e": "Nem"
                                },
                                {
                                    "Szallás": "Hotel Három Hattyú",
                                    "panzió e": "Nem"
                                },
                                {
                                    "Szallás": "Hotel Három Hattyú",
                                    "panzió e": "Nem"
                                },
                                {
                                    "Szallás": "Szieszta Apartmanház",
                                    "panzió e": "Nem"
                                },
                                {
                                    "Szallás": "Partiszél Vendégház",
                                    "panzió e": "Nem"
                                },
                                {
                                    "Szallás": "Lagúna Hotel",
                                    "panzió e": "Nem"
                                },
                                {
                                    "Szallás": "Hotel Három Hattyú",
                                    "panzió e": "Nem"
                                },
                                {
                                    "Szallás": "Hotel Három Hattyú",
                                    "panzió e": "Nem"
                                },
                                {
                                    "Szallás": "Gold Hotel",
                                    "panzió e": "Nem"
                                },
                                {
                                    "Szallás": "Szieszta Apartmanház",
                                    "panzió e": "Nem"
                                },
                                {
                                    "Szallás": "Kentaur Hotel",
                                    "panzió e": "Nem"
                                },
                                {
                                    "Szallás": "Gold Hotel",
                                    "panzió e": "Nem"
                                },
                                {
                                    "Szallás": "Hotel Három Hattyú",
                                    "panzió e": "Nem"
                                },
                                {
                                    "Szallás": "Jáde panzió",
                                    "panzió e": "Igen"
                                },
                                {
                                    "Szallás": "Gold Hotel",
                                    "panzió e": "Nem"
                                },
                                {
                                    "Szallás": "Fortuna panzió",
                                    "panzió e": "Igen"
                                },
                                {
                                    "Szallás": "Kentaur Hotel",
                                    "panzió e": "Nem"
                                },
                                {
                                    "Szallás": "Hotel Három Hattyú",
                                    "panzió e": "Nem"
                                },
                                {
                                    "Szallás": "Gold Hotel",
                                    "panzió e": "Nem"
                                },
                                {
                                    "Szallás": "Fortuna Apartman",
                                    "panzió e": "Nem"
                                },
                                {
                                    "Szallás": "Fortuna panzió",
                                    "panzió e": "Igen"
                                },
                                {
                                    "Szallás": "Hotel Három Hattyú",
                                    "panzió e": "Nem"
                                },
                                {
                                    "Szallás": "Családi Ház",
                                    "panzió e": "Nem"
                                },
                                {
                                    "Szallás": "Hotel Három Hattyú",
                                    "panzió e": "Nem"
                                },
                                {
                                    "Szallás": "Gold Hotel",
                                    "panzió e": "Nem"
                                },
                                {
                                    "Szallás": "Gold Hotel",
                                    "panzió e": "Nem"
                                },
                                {
                                    "Szallás": "Gold Hotel",
                                    "panzió e": "Nem"
                                },
                                {
                                    "Szallás": "Sába-Ház",
                                    "panzió e": "Nem"
                                },
                                {
                                    "Szallás": "Hotel Három Hattyú",
                                    "panzió e": "Nem"
                                },
                                {
                                    "Szallás": "Fortuna Panzió",
                                    "panzió e": "Igen"
                                },
                                {
                                    "Szallás": "Kentaur Hotel",
                                    "panzió e": "Nem"
                                },
                                {
                                    "Szallás": "Gold Hotel",
                                    "panzió e": "Nem"
                                },
                                {
                                    "Szallás": "Hotel Három Hattyú",
                                    "panzió e": "Nem"
                                },
                                {
                                    "Szallás": "Gold Hotel",
                                    "panzió e": "Nem"
                                },
                                {
                                    "Szallás": "Sába-Ház",
                                    "panzió e": "Nem"
                                },
                                {
                                    "Szallás": "Kentaur Hotel",
                                    "panzió e": "Nem"
                                },
                                {
                                    "Szallás": "Lagúna Hotel",
                                    "panzió e": "Nem"
                                },
                                {
                                    "Szallás": "Lagúna Hotel",
                                    "panzió e": "Nem"
                                },
                                {
                                    "Szallás": "Sába-Ház",
                                    "panzió e": "Nem"
                                },
                                {
                                    "Szallás": "Fortuna panzió",
                                    "panzió e": "Igen"
                                },
                                {
                                    "Szallás": "Fortuna panzió",
                                    "panzió e": "Igen"
                                },
                                {
                                    "Szallás": "Gold Hotel",
                                    "panzió e": "Nem"
                                },
                                {
                                    "Szallás": "Hotel Három Hattyú",
                                    "panzió e": "Nem"
                                },
                                {
                                    "Szallás": "Kentaur Hotel",
                                    "panzió e": "Nem"
                                },
                                {
                                    "Szallás": "Hotel Három Hattyú",
                                    "panzió e": "Nem"
                                },
                                {
                                    "Szallás": "Gold Hotel",
                                    "panzió e": "Nem"
                                },
                                {
                                    "Szallás": "Családi Ház",
                                    "panzió e": "Nem"
                                },
                                {
                                    "Szallás": "Kentaur Hotel",
                                    "panzió e": "Nem"
                                },
                                {
                                    "Szallás": "Fortuna Panzió",
                                    "panzió e": "Igen"
                                },
                                {
                                    "Szallás": "Hotel Három Hattyú",
                                    "panzió e": "Nem"
                                },
                                {
                                    "Szallás": "Kentaur Hotel",
                                    "panzió e": "Nem"
                                },
                                {
                                    "Szallás": "Kentaur Hotel",
                                    "panzió e": "Nem"
                                },
                                {
                                    "Szallás": "Lagúna Hotel",
                                    "panzió e": "Nem"
                                },
                                {
                                    "Szallás": "Gold Hotel",
                                    "panzió e": "Nem"
                                },
                                {
                                    "Szallás": "Lagúna Hotel",
                                    "panzió e": "Nem"
                                },
                                {
                                    "Szallás": "Kentaur Hotel",
                                    "panzió e": "Nem"
                                },
                                {
                                    "Szallás": "Hotel Három Hattyú",
                                    "panzió e": "Nem"
                                },
                                {
                                    "Szallás": "Szieszta Apartmanház",
                                    "panzió e": "Nem"
                                },
                                {
                                    "Szallás": "Fortuna panzió",
                                    "panzió e": "Igen"
                                },
                                {
                                    "Szallás": "Hotel Három Hattyú",
                                    "panzió e": "Nem"
                                },
                                {
                                    "Szallás": "Szieszta Apartmanház",
                                    "panzió e": "Nem"
                                },
                                {
                                    "Szallás": "Kentaur Hotel",
                                    "panzió e": "Nem"
                                },
                                {
                                    "Szallás": "Kentaur Hotel",
                                    "panzió e": "Nem"
                                },
                                {
                                    "Szallás": "Fortuna panzió",
                                    "panzió e": "Igen"
                                },
                                {
                                    "Szallás": "Lagúna Hotel",
                                    "panzió e": "Nem"
                                },
                                {
                                    "Szallás": "Kentaur Hotel",
                                    "panzió e": "Nem"
                                },
                                {
                                    "Szallás": "Lagúna Hotel",
                                    "panzió e": "Nem"
                                },
                                {
                                    "Szallás": "Gold Hotel",
                                    "panzió e": "Nem"
                                },
                                {
                                    "Szallás": "Kentaur Hotel",
                                    "panzió e": "Nem"
                                },
                                {
                                    "Szallás": "Kentaur Hotel",
                                    "panzió e": "Nem"
                                },
                                {
                                    "Szallás": "Kentaur Hotel",
                                    "panzió e": "Nem"
                                },
                                {
                                    "Szallás": "Gold Hotel",
                                    "panzió e": "Nem"
                                },
                                {
                                    "Szallás": "Hotel Három Hattyú",
                                    "panzió e": "Nem"
                                },
                                {
                                    "Szallás": "Családi Ház",
                                    "panzió e": "Nem"
                                },
                                {
                                    "Szallás": "Lagúna Hotel",
                                    "panzió e": "Nem"
                                },
                                {
                                    "Szallás": "Lagúna Hotel",
                                    "panzió e": "Nem"
                                },
                                {
                                    "Szallás": "Hotel Három Hattyú",
                                    "panzió e": "Nem"
                                },
                                {
                                    "Szallás": "Gold Hotel",
                                    "panzió e": "Nem"
                                },
                                {
                                    "Szallás": "Jáde panzió",
                                    "panzió e": "Igen"
                                },
                                {
                                    "Szallás": "Jáde panzió",
                                    "panzió e": "Igen"
                                },
                                {
                                    "Szallás": "Fortuna panzió",
                                    "panzió e": "Igen"
                                },
                                {
                                    "Szallás": "Kentaur Hotel",
                                    "panzió e": "Nem"
                                },
                                {
                                    "Szallás": "Fortuna panzió",
                                    "panzió e": "Igen"
                                },
                                {
                                    "Szallás": "Lagúna Hotel",
                                    "panzió e": "Nem"
                                },
                                {
                                    "Szallás": "Fortuna panzió",
                                    "panzió e": "Igen"
                                },
                                {
                                    "Szallás": "Hotel Három Hattyú",
                                    "panzió e": "Nem"
                                },
                                {
                                    "Szallás": "Hotel Három Hattyú",
                                    "panzió e": "Nem"
                                },
                                {
                                    "Szallás": "Hotel Három Hattyú",
                                    "panzió e": "Nem"
                                },
                                {
                                    "Szallás": "Gold Hotel",
                                    "panzió e": "Nem"
                                },
                                {
                                    "Szallás": "Hotel Három Hattyú",
                                    "panzió e": "Nem"
                                },
                                {
                                    "Szallás": "Hotel Három Hattyú",
                                    "panzió e": "Nem"
                                },
                                {
                                    "Szallás": "Partiszél Vendégház",
                                    "panzió e": "Nem"
                                },
                                {
                                    "Szallás": "Hotel Három Hattyú",
                                    "panzió e": "Nem"
                                },
                                {
                                    "Szallás": "Hotel Három Hattyú",
                                    "panzió e": "Nem"
                                },
                                {
                                    "Szallás": "Lagúna Hotel",
                                    "panzió e": "Nem"
                                },
                                {
                                    "Szallás": "Gold Hotel",
                                    "panzió e": "Nem"
                                },
                                {
                                    "Szallás": "Sába-Ház",
                                    "panzió e": "Nem"
                                },
                                {
                                    "Szallás": "Hotel Három Hattyú",
                                    "panzió e": "Nem"
                                },
                                {
                                    "Szallás": "Hotel Három Hattyú",
                                    "panzió e": "Nem"
                                },
                                {
                                    "Szallás": "Hotel Három Hattyú",
                                    "panzió e": "Nem"
                                },
                                {
                                    "Szallás": "Kentaur Hotel",
                                    "panzió e": "Nem"
                                },
                                {
                                    "Szallás": "Gold Hotel",
                                    "panzió e": "Nem"
                                },
                                {
                                    "Szallás": "Családi Ház",
                                    "panzió e": "Nem"
                                },
                                {
                                    "Szallás": "Hotel Három Hattyú",
                                    "panzió e": "Nem"
                                },
                                {
                                    "Szallás": "Hotel Három Hattyú",
                                    "panzió e": "Nem"
                                },
                                {
                                    "Szallás": "Hotel Három Hattyú",
                                    "panzió e": "Nem"
                                },
                                {
                                    "Szallás": "Gold Hotel",
                                    "panzió e": "Nem"
                                },
                                {
                                    "Szallás": "Gold Hotel",
                                    "panzió e": "Nem"
                                },
                                {
                                    "Szallás": "Kentaur Hotel",
                                    "panzió e": "Nem"
                                },
                                {
                                    "Szallás": "Fortuna Apartman",
                                    "panzió e": "Nem"
                                },
                                {
                                    "Szallás": "Kentaur Hotel",
                                    "panzió e": "Nem"
                                },
                                {
                                    "Szallás": "Lagúna Hotel",
                                    "panzió e": "Nem"
                                },
                                {
                                    "Szallás": "Gold Hotel",
                                    "panzió e": "Nem"
                                },
                                {
                                    "Szallás": "Hotel Három Hattyú",
                                    "panzió e": "Nem"
                                },
                                {
                                    "Szallás": "Hotel Három Hattyú",
                                    "panzió e": "Nem"
                                },
                                {
                                    "Szallás": "Gold Hotel",
                                    "panzió e": "Nem"
                                },
                                {
                                    "Szallás": "Kentaur Hotel",
                                    "panzió e": "Nem"
                                },
                                {
                                    "Szallás": "Szieszta Apartmanház",
                                    "panzió e": "Nem"
                                },
                                {
                                    "Szallás": "Lagúna Hotel",
                                    "panzió e": "Nem"
                                },
                                {
                                    "Szallás": "Fortuna Panzió",
                                    "panzió e": "Igen"
                                },
                                {
                                    "Szallás": "Hotel Három Hattyú",
                                    "panzió e": "Nem"
                                },
                                {
                                    "Szallás": "Gold Hotel",
                                    "panzió e": "Nem"
                                },
                                {
                                    "Szallás": "Hotel Három Hattyú",
                                    "panzió e": "Nem"
                                },
                                {
                                    "Szallás": "Jáde panzió",
                                    "panzió e": "Igen"
                                },
                                {
                                    "Szallás": "Kentaur Hotel",
                                    "panzió e": "Nem"
                                },
                                {
                                    "Szallás": "Szieszta Apartmanház",
                                    "panzió e": "Nem"
                                },
                                {
                                    "Szallás": "Hotel Három Hattyú",
                                    "panzió e": "Nem"
                                },
                                {
                                    "Szallás": "Sába-Ház",
                                    "panzió e": "Nem"
                                },
                                {
                                    "Szallás": "Fortuna Panzió",
                                    "panzió e": "Igen"
                                },
                                {
                                    "Szallás": "Hotel Három Hattyú",
                                    "panzió e": "Nem"
                                },
                                {
                                    "Szallás": "Gold Hotel",
                                    "panzió e": "Nem"
                                },
                                {
                                    "Szallás": "Hotel Három Hattyú",
                                    "panzió e": "Nem"
                                },
                                {
                                    "Szallás": "Hotel Három Hattyú",
                                    "panzió e": "Nem"
                                },
                                {
                                    "Szallás": "Fortuna panzió",
                                    "panzió e": "Igen"
                                },
                                {
                                    "Szallás": "Hotel Három Hattyú",
                                    "panzió e": "Nem"
                                },
                                {
                                    "Szallás": "Hotel Három Hattyú",
                                    "panzió e": "Nem"
                                },
                                {
                                    "Szallás": "Hotel Három Hattyú",
                                    "panzió e": "Nem"
                                },
                                {
                                    "Szallás": "Fortuna Apartman",
                                    "panzió e": "Nem"
                                },
                                {
                                    "Szallás": "Kentaur Hotel",
                                    "panzió e": "Nem"
                                },
                                {
                                    "Szallás": "Jáde panzió",
                                    "panzió e": "Igen"
                                },
                                {
                                    "Szallás": "Fortuna Panzió",
                                    "panzió e": "Igen"
                                },
                                {
                                    "Szallás": "Sába-Ház",
                                    "panzió e": "Nem"
                                },
                                {
                                    "Szallás": "Fortuna panzió",
                                    "panzió e": "Igen"
                                },
                                {
                                    "Szallás": "Lagúna Hotel",
                                    "panzió e": "Nem"
                                },
                                {
                                    "Szallás": "Hotel Három Hattyú",
                                    "panzió e": "Nem"
                                },
                                {
                                    "Szallás": "Lagúna Hotel",
                                    "panzió e": "Nem"
                                },
                                {
                                    "Szallás": "Családi Ház",
                                    "panzió e": "Nem"
                                },
                                {
                                    "Szallás": "Hotel Három Hattyú",
                                    "panzió e": "Nem"
                                },
                                {
                                    "Szallás": "Sába-Ház",
                                    "panzió e": "Nem"
                                },
                                {
                                    "Szallás": "Lagúna Hotel",
                                    "panzió e": "Nem"
                                },
                                {
                                    "Szallás": "Fortuna Panzió",
                                    "panzió e": "Igen"
                                },
                                {
                                    "Szallás": "Fortuna Panzió",
                                    "panzió e": "Igen"
                                },
                                {
                                    "Szallás": "Szieszta Apartmanház",
                                    "panzió e": "Nem"
                                },
                                {
                                    "Szallás": "Fortuna Apartman",
                                    "panzió e": "Nem"
                                },
                                {
                                    "Szallás": "Kentaur Hotel",
                                    "panzió e": "Nem"
                                },
                                {
                                    "Szallás": "Lagúna Hotel",
                                    "panzió e": "Nem"
                                },
                                {
                                    "Szallás": "Fortuna Panzió",
                                    "panzió e": "Igen"
                                },
                                {
                                    "Szallás": "Fortuna Panzió",
                                    "panzió e": "Igen"
                                },
                                {
                                    "Szallás": "Hotel Három Hattyú",
                                    "panzió e": "Nem"
                                },
                                {
                                    "Szallás": "Hotel Három Hattyú",
                                    "panzió e": "Nem"
                                },
                                {
                                    "Szallás": "Fortuna panzió",
                                    "panzió e": "Igen"
                                },
                                {
                                    "Szallás": "Kentaur Hotel",
                                    "panzió e": "Nem"
                                },
                                {
                                    "Szallás": "Lagúna Hotel",
                                    "panzió e": "Nem"
                                },
                                {
                                    "Szallás": "Gold Hotel",
                                    "panzió e": "Nem"
                                },
                                {
                                    "Szallás": "Hotel Három Hattyú",
                                    "panzió e": "Nem"
                                },
                                {
                                    "Szallás": "Lagúna Hotel",
                                    "panzió e": "Nem"
                                },
                                {
                                    "Szallás": "Kentaur Hotel",
                                    "panzió e": "Nem"
                                },
                                {
                                    "Szallás": "Gold Hotel",
                                    "panzió e": "Nem"
                                },
                                {
                                    "Szallás": "Hotel Három Hattyú",
                                    "panzió e": "Nem"
                                },
                                {
                                    "Szallás": "Partiszél Vendégház",
                                    "panzió e": "Nem"
                                },
                                {
                                    "Szallás": "Hotel Három Hattyú",
                                    "panzió e": "Nem"
                                },
                                {
                                    "Szallás": "Gold Hotel",
                                    "panzió e": "Nem"
                                },
                                {
                                    "Szallás": "Fortuna panzió",
                                    "panzió e": "Igen"
                                },
                                {
                                    "Szallás": "Hotel Három Hattyú",
                                    "panzió e": "Nem"
                                },
                                {
                                    "Szallás": "Gold Hotel",
                                    "panzió e": "Nem"
                                },
                                {
                                    "Szallás": "Partiszél Vendégház",
                                    "panzió e": "Nem"
                                },
                                {
                                    "Szallás": "Lagúna Hotel",
                                    "panzió e": "Nem"
                                },
                                {
                                    "Szallás": "Kentaur Hotel",
                                    "panzió e": "Nem"
                                },
                                {
                                    "Szallás": "Hotel Három Hattyú",
                                    "panzió e": "Nem"
                                },
                                {
                                    "Szallás": "Szieszta Apartmanház",
                                    "panzió e": "Nem"
                                },
                                {
                                    "Szallás": "Gold Hotel",
                                    "panzió e": "Nem"
                                },
                                {
                                    "Szallás": "Kentaur Hotel",
                                    "panzió e": "Nem"
                                },
                                {
                                    "Szallás": "Lagúna Hotel",
                                    "panzió e": "Nem"
                                },
                                {
                                    "Szallás": "Hotel Három Hattyú",
                                    "panzió e": "Nem"
                                },
                                {
                                    "Szallás": "Kentaur Hotel",
                                    "panzió e": "Nem"
                                },
                                {
                                    "Szallás": "Fortuna Panzió",
                                    "panzió e": "Igen"
                                },
                                {
                                    "Szallás": "Kentaur Hotel",
                                    "panzió e": "Nem"
                                },
                                {
                                    "Szallás": "Hotel Három Hattyú",
                                    "panzió e": "Nem"
                                },
                                {
                                    "Szallás": "Kentaur Hotel",
                                    "panzió e": "Nem"
                                }
                            ]
                        },
                        "text/html": [
                            "<table>",
                            "<tr><th>Szallás</th><th>panzió e</th></tr>",
                            "<tr><td>Szieszta Apartmanház</td><td>Nem</td></tr>",
                            "<tr><td>Jáde panzió</td><td>Igen</td></tr>",
                            "<tr><td>Sába-Ház</td><td>Nem</td></tr>",
                            "<tr><td>Fortuna Panzió</td><td>Igen</td></tr>",
                            "<tr><td>Sába-Ház</td><td>Nem</td></tr>",
                            "<tr><td>Kentaur Hotel</td><td>Nem</td></tr>",
                            "<tr><td>Sába-Ház</td><td>Nem</td></tr>",
                            "<tr><td>Lagúna Hotel</td><td>Nem</td></tr>",
                            "<tr><td>Fortuna Apartman</td><td>Nem</td></tr>",
                            "<tr><td>Gold Hotel</td><td>Nem</td></tr>",
                            "<tr><td>Kentaur Hotel</td><td>Nem</td></tr>",
                            "<tr><td>Sába-Ház</td><td>Nem</td></tr>",
                            "<tr><td>Partiszél Vendégház</td><td>Nem</td></tr>",
                            "<tr><td>Gold Hotel</td><td>Nem</td></tr>",
                            "<tr><td>Kentaur Hotel</td><td>Nem</td></tr>",
                            "<tr><td>Gold Hotel</td><td>Nem</td></tr>",
                            "<tr><td>Gold Hotel</td><td>Nem</td></tr>",
                            "<tr><td>Lagúna Hotel</td><td>Nem</td></tr>",
                            "<tr><td>Hotel Három Hattyú</td><td>Nem</td></tr>",
                            "<tr><td>Lagúna Hotel</td><td>Nem</td></tr>",
                            "<tr><td>Gold Hotel</td><td>Nem</td></tr>",
                            "<tr><td>Lagúna Hotel</td><td>Nem</td></tr>",
                            "<tr><td>Jáde panzió</td><td>Igen</td></tr>",
                            "<tr><td>Lagúna Hotel</td><td>Nem</td></tr>",
                            "<tr><td>Lagúna Hotel</td><td>Nem</td></tr>",
                            "<tr><td>Kentaur Hotel</td><td>Nem</td></tr>",
                            "<tr><td>Lagúna Hotel</td><td>Nem</td></tr>",
                            "<tr><td>Kentaur Hotel</td><td>Nem</td></tr>",
                            "<tr><td>Hotel Három Hattyú</td><td>Nem</td></tr>",
                            "<tr><td>Hotel Három Hattyú</td><td>Nem</td></tr>",
                            "<tr><td>Lagúna Hotel</td><td>Nem</td></tr>",
                            "<tr><td>Fortuna Panzió</td><td>Igen</td></tr>",
                            "<tr><td>Fortuna Panzió</td><td>Igen</td></tr>",
                            "<tr><td>Lagúna Hotel</td><td>Nem</td></tr>",
                            "<tr><td>Gold Hotel</td><td>Nem</td></tr>",
                            "<tr><td>Kentaur Hotel</td><td>Nem</td></tr>",
                            "<tr><td>Lagúna Hotel</td><td>Nem</td></tr>",
                            "<tr><td>Kentaur Hotel</td><td>Nem</td></tr>",
                            "<tr><td>Hotel Három Hattyú</td><td>Nem</td></tr>",
                            "<tr><td>Hotel Három Hattyú</td><td>Nem</td></tr>",
                            "<tr><td>Fortuna panzió</td><td>Igen</td></tr>",
                            "<tr><td>Partiszél Vendégház</td><td>Nem</td></tr>",
                            "<tr><td>Gold Hotel</td><td>Nem</td></tr>",
                            "<tr><td>Fortuna panzió</td><td>Igen</td></tr>",
                            "<tr><td>Fortuna Apartman</td><td>Nem</td></tr>",
                            "<tr><td>Fortuna Panzió</td><td>Igen</td></tr>",
                            "<tr><td>Fortuna panzió</td><td>Igen</td></tr>",
                            "<tr><td>Hotel Három Hattyú</td><td>Nem</td></tr>",
                            "<tr><td>Fortuna panzió</td><td>Igen</td></tr>",
                            "<tr><td>Hotel Három Hattyú</td><td>Nem</td></tr>",
                            "<tr><td>Gold Hotel</td><td>Nem</td></tr>",
                            "<tr><td>Sába-Ház</td><td>Nem</td></tr>",
                            "<tr><td>Hotel Három Hattyú</td><td>Nem</td></tr>",
                            "<tr><td>Fortuna panzió</td><td>Igen</td></tr>",
                            "<tr><td>Hotel Három Hattyú</td><td>Nem</td></tr>",
                            "<tr><td>Jáde panzió</td><td>Igen</td></tr>",
                            "<tr><td>Hotel Három Hattyú</td><td>Nem</td></tr>",
                            "<tr><td>Gold Hotel</td><td>Nem</td></tr>",
                            "<tr><td>Hotel Három Hattyú</td><td>Nem</td></tr>",
                            "<tr><td>Hotel Három Hattyú</td><td>Nem</td></tr>",
                            "<tr><td>Hotel Három Hattyú</td><td>Nem</td></tr>",
                            "<tr><td>Jáde panzió</td><td>Igen</td></tr>",
                            "<tr><td>Sába-Ház</td><td>Nem</td></tr>",
                            "<tr><td>Hotel Három Hattyú</td><td>Nem</td></tr>",
                            "<tr><td>Kentaur Hotel</td><td>Nem</td></tr>",
                            "<tr><td>Hotel Három Hattyú</td><td>Nem</td></tr>",
                            "<tr><td>Fortuna panzió</td><td>Igen</td></tr>",
                            "<tr><td>Kentaur Hotel</td><td>Nem</td></tr>",
                            "<tr><td>Fortuna Apartman</td><td>Nem</td></tr>",
                            "<tr><td>Fortuna panzió</td><td>Igen</td></tr>",
                            "<tr><td>Fortuna Panzió</td><td>Igen</td></tr>",
                            "<tr><td>Sába-Ház</td><td>Nem</td></tr>",
                            "<tr><td>Partiszél Vendégház</td><td>Nem</td></tr>",
                            "<tr><td>Hotel Három Hattyú</td><td>Nem</td></tr>",
                            "<tr><td>Hotel Három Hattyú</td><td>Nem</td></tr>",
                            "<tr><td>Gold Hotel</td><td>Nem</td></tr>",
                            "<tr><td>Gold Hotel</td><td>Nem</td></tr>",
                            "<tr><td>Hotel Három Hattyú</td><td>Nem</td></tr>",
                            "<tr><td>Hotel Három Hattyú</td><td>Nem</td></tr>",
                            "<tr><td>Hotel Három Hattyú</td><td>Nem</td></tr>",
                            "<tr><td>Kentaur Hotel</td><td>Nem</td></tr>",
                            "<tr><td>Partiszél Vendégház</td><td>Nem</td></tr>",
                            "<tr><td>Gold Hotel</td><td>Nem</td></tr>",
                            "<tr><td>Lagúna Hotel</td><td>Nem</td></tr>",
                            "<tr><td>Kentaur Hotel</td><td>Nem</td></tr>",
                            "<tr><td>Hotel Három Hattyú</td><td>Nem</td></tr>",
                            "<tr><td>Gold Hotel</td><td>Nem</td></tr>",
                            "<tr><td>Kentaur Hotel</td><td>Nem</td></tr>",
                            "<tr><td>Kentaur Hotel</td><td>Nem</td></tr>",
                            "<tr><td>Szieszta Apartmanház</td><td>Nem</td></tr>",
                            "<tr><td>Lagúna Hotel</td><td>Nem</td></tr>",
                            "<tr><td>Lagúna Hotel</td><td>Nem</td></tr>",
                            "<tr><td>Kentaur Hotel</td><td>Nem</td></tr>",
                            "<tr><td>Sába-Ház</td><td>Nem</td></tr>",
                            "<tr><td>Lagúna Hotel</td><td>Nem</td></tr>",
                            "<tr><td>Partiszél Vendégház</td><td>Nem</td></tr>",
                            "<tr><td>Hotel Három Hattyú</td><td>Nem</td></tr>",
                            "<tr><td>Jáde panzió</td><td>Igen</td></tr>",
                            "<tr><td>Hotel Három Hattyú</td><td>Nem</td></tr>",
                            "<tr><td>Lagúna Hotel</td><td>Nem</td></tr>",
                            "<tr><td>Fortuna Panzió</td><td>Igen</td></tr>",
                            "<tr><td>Gold Hotel</td><td>Nem</td></tr>",
                            "<tr><td>Fortuna Apartman</td><td>Nem</td></tr>",
                            "<tr><td>Lagúna Hotel</td><td>Nem</td></tr>",
                            "<tr><td>Gold Hotel</td><td>Nem</td></tr>",
                            "<tr><td>Családi Ház</td><td>Nem</td></tr>",
                            "<tr><td>Lagúna Hotel</td><td>Nem</td></tr>",
                            "<tr><td>Hotel Három Hattyú</td><td>Nem</td></tr>",
                            "<tr><td>Sába-Ház</td><td>Nem</td></tr>",
                            "<tr><td>Kentaur Hotel</td><td>Nem</td></tr>",
                            "<tr><td>Kentaur Hotel</td><td>Nem</td></tr>",
                            "<tr><td>Gold Hotel</td><td>Nem</td></tr>",
                            "<tr><td>Fortuna Panzió</td><td>Igen</td></tr>",
                            "<tr><td>Hotel Három Hattyú</td><td>Nem</td></tr>",
                            "<tr><td>Gold Hotel</td><td>Nem</td></tr>",
                            "<tr><td>Gold Hotel</td><td>Nem</td></tr>",
                            "<tr><td>Kentaur Hotel</td><td>Nem</td></tr>",
                            "<tr><td>Gold Hotel</td><td>Nem</td></tr>",
                            "<tr><td>Kentaur Hotel</td><td>Nem</td></tr>",
                            "<tr><td>Gold Hotel</td><td>Nem</td></tr>",
                            "<tr><td>Lagúna Hotel</td><td>Nem</td></tr>",
                            "<tr><td>Gold Hotel</td><td>Nem</td></tr>",
                            "<tr><td>Gold Hotel</td><td>Nem</td></tr>",
                            "<tr><td>Kentaur Hotel</td><td>Nem</td></tr>",
                            "<tr><td>Gold Hotel</td><td>Nem</td></tr>",
                            "<tr><td>Kentaur Hotel</td><td>Nem</td></tr>",
                            "<tr><td>Gold Hotel</td><td>Nem</td></tr>",
                            "<tr><td>Hotel Három Hattyú</td><td>Nem</td></tr>",
                            "<tr><td>Fortuna panzió</td><td>Igen</td></tr>",
                            "<tr><td>Családi Ház</td><td>Nem</td></tr>",
                            "<tr><td>Fortuna panzió</td><td>Igen</td></tr>",
                            "<tr><td>Hotel Három Hattyú</td><td>Nem</td></tr>",
                            "<tr><td>Gold Hotel</td><td>Nem</td></tr>",
                            "<tr><td>Hotel Három Hattyú</td><td>Nem</td></tr>",
                            "<tr><td>Lagúna Hotel</td><td>Nem</td></tr>",
                            "<tr><td>Gold Hotel</td><td>Nem</td></tr>",
                            "<tr><td>Sába-Ház</td><td>Nem</td></tr>",
                            "<tr><td>Gold Hotel</td><td>Nem</td></tr>",
                            "<tr><td>Fortuna Apartman</td><td>Nem</td></tr>",
                            "<tr><td>Sába-Ház</td><td>Nem</td></tr>",
                            "<tr><td>Kentaur Hotel</td><td>Nem</td></tr>",
                            "<tr><td>Gold Hotel</td><td>Nem</td></tr>",
                            "<tr><td>Kentaur Hotel</td><td>Nem</td></tr>",
                            "<tr><td>Kentaur Hotel</td><td>Nem</td></tr>",
                            "<tr><td>Kentaur Hotel</td><td>Nem</td></tr>",
                            "<tr><td>Lagúna Hotel</td><td>Nem</td></tr>",
                            "<tr><td>Kentaur Hotel</td><td>Nem</td></tr>",
                            "<tr><td>Fortuna panzió</td><td>Igen</td></tr>",
                            "<tr><td>Hotel Három Hattyú</td><td>Nem</td></tr>",
                            "<tr><td>Fortuna panzió</td><td>Igen</td></tr>",
                            "<tr><td>Hotel Három Hattyú</td><td>Nem</td></tr>",
                            "<tr><td>Gold Hotel</td><td>Nem</td></tr>",
                            "<tr><td>Gold Hotel</td><td>Nem</td></tr>",
                            "<tr><td>Gold Hotel</td><td>Nem</td></tr>",
                            "<tr><td>Kentaur Hotel</td><td>Nem</td></tr>",
                            "<tr><td>Fortuna Apartman</td><td>Nem</td></tr>",
                            "<tr><td>Kentaur Hotel</td><td>Nem</td></tr>",
                            "<tr><td>Hotel Három Hattyú</td><td>Nem</td></tr>",
                            "<tr><td>Hotel Három Hattyú</td><td>Nem</td></tr>",
                            "<tr><td>Hotel Három Hattyú</td><td>Nem</td></tr>",
                            "<tr><td>Hotel Három Hattyú</td><td>Nem</td></tr>",
                            "<tr><td>Kentaur Hotel</td><td>Nem</td></tr>",
                            "<tr><td>Partiszél Vendégház</td><td>Nem</td></tr>",
                            "<tr><td>Gold Hotel</td><td>Nem</td></tr>",
                            "<tr><td>Hotel Három Hattyú</td><td>Nem</td></tr>",
                            "<tr><td>Hotel Három Hattyú</td><td>Nem</td></tr>",
                            "<tr><td>Lagúna Hotel</td><td>Nem</td></tr>",
                            "<tr><td>Fortuna panzió</td><td>Igen</td></tr>",
                            "<tr><td>Hotel Három Hattyú</td><td>Nem</td></tr>",
                            "<tr><td>Hotel Három Hattyú</td><td>Nem</td></tr>",
                            "<tr><td>Fortuna panzió</td><td>Igen</td></tr>",
                            "<tr><td>Szieszta Apartmanház</td><td>Nem</td></tr>",
                            "<tr><td>Lagúna Hotel</td><td>Nem</td></tr>",
                            "<tr><td>Gold Hotel</td><td>Nem</td></tr>",
                            "<tr><td>Hotel Három Hattyú</td><td>Nem</td></tr>",
                            "<tr><td>Lagúna Hotel</td><td>Nem</td></tr>",
                            "<tr><td>Kentaur Hotel</td><td>Nem</td></tr>",
                            "<tr><td>Hotel Három Hattyú</td><td>Nem</td></tr>",
                            "<tr><td>Kentaur Hotel</td><td>Nem</td></tr>",
                            "<tr><td>Hotel Három Hattyú</td><td>Nem</td></tr>",
                            "<tr><td>Sába-Ház</td><td>Nem</td></tr>",
                            "<tr><td>Hotel Három Hattyú</td><td>Nem</td></tr>",
                            "<tr><td>Gold Hotel</td><td>Nem</td></tr>",
                            "<tr><td>Hotel Három Hattyú</td><td>Nem</td></tr>",
                            "<tr><td>Partiszél Vendégház</td><td>Nem</td></tr>",
                            "<tr><td>Gold Hotel</td><td>Nem</td></tr>",
                            "<tr><td>Fortuna Apartman</td><td>Nem</td></tr>",
                            "<tr><td>Lagúna Hotel</td><td>Nem</td></tr>",
                            "<tr><td>Gold Hotel</td><td>Nem</td></tr>",
                            "<tr><td>Gold Hotel</td><td>Nem</td></tr>",
                            "<tr><td>Fortuna panzió</td><td>Igen</td></tr>",
                            "<tr><td>Gold Hotel</td><td>Nem</td></tr>",
                            "<tr><td>Fortuna panzió</td><td>Igen</td></tr>",
                            "<tr><td>Lagúna Hotel</td><td>Nem</td></tr>",
                            "<tr><td>Fortuna Panzió</td><td>Igen</td></tr>",
                            "<tr><td>Gold Hotel</td><td>Nem</td></tr>",
                            "<tr><td>Hotel Három Hattyú</td><td>Nem</td></tr>",
                            "<tr><td>Fortuna Apartman</td><td>Nem</td></tr>",
                            "<tr><td>Kentaur Hotel</td><td>Nem</td></tr>",
                            "<tr><td>Szieszta Apartmanház</td><td>Nem</td></tr>",
                            "<tr><td>Fortuna panzió</td><td>Igen</td></tr>",
                            "<tr><td>Sába-Ház</td><td>Nem</td></tr>",
                            "<tr><td>Jáde panzió</td><td>Igen</td></tr>",
                            "<tr><td>Lagúna Hotel</td><td>Nem</td></tr>",
                            "<tr><td>Hotel Három Hattyú</td><td>Nem</td></tr>",
                            "<tr><td>Családi Ház</td><td>Nem</td></tr>",
                            "<tr><td>Gold Hotel</td><td>Nem</td></tr>",
                            "<tr><td>Lagúna Hotel</td><td>Nem</td></tr>",
                            "<tr><td>Gold Hotel</td><td>Nem</td></tr>",
                            "<tr><td>Fortuna Apartman</td><td>Nem</td></tr>",
                            "<tr><td>Lagúna Hotel</td><td>Nem</td></tr>",
                            "<tr><td>Kentaur Hotel</td><td>Nem</td></tr>",
                            "<tr><td>Fortuna Panzió</td><td>Igen</td></tr>",
                            "<tr><td>Lagúna Hotel</td><td>Nem</td></tr>",
                            "<tr><td>Sába-Ház</td><td>Nem</td></tr>",
                            "<tr><td>Kentaur Hotel</td><td>Nem</td></tr>",
                            "<tr><td>Gold Hotel</td><td>Nem</td></tr>",
                            "<tr><td>Sába-Ház</td><td>Nem</td></tr>",
                            "<tr><td>Hotel Három Hattyú</td><td>Nem</td></tr>",
                            "<tr><td>Fortuna panzió</td><td>Igen</td></tr>",
                            "<tr><td>Fortuna Apartman</td><td>Nem</td></tr>",
                            "<tr><td>Jáde panzió</td><td>Igen</td></tr>",
                            "<tr><td>Hotel Három Hattyú</td><td>Nem</td></tr>",
                            "<tr><td>Gold Hotel</td><td>Nem</td></tr>",
                            "<tr><td>Partiszél Vendégház</td><td>Nem</td></tr>",
                            "<tr><td>Lagúna Hotel</td><td>Nem</td></tr>",
                            "<tr><td>Lagúna Hotel</td><td>Nem</td></tr>",
                            "<tr><td>Gold Hotel</td><td>Nem</td></tr>",
                            "<tr><td>Hotel Három Hattyú</td><td>Nem</td></tr>",
                            "<tr><td>Kentaur Hotel</td><td>Nem</td></tr>",
                            "<tr><td>Sába-Ház</td><td>Nem</td></tr>",
                            "<tr><td>Lagúna Hotel</td><td>Nem</td></tr>",
                            "<tr><td>Sába-Ház</td><td>Nem</td></tr>",
                            "<tr><td>Családi Ház</td><td>Nem</td></tr>",
                            "<tr><td>Gold Hotel</td><td>Nem</td></tr>",
                            "<tr><td>Fortuna Panzió</td><td>Igen</td></tr>",
                            "<tr><td>Gold Hotel</td><td>Nem</td></tr>",
                            "<tr><td>Sába-Ház</td><td>Nem</td></tr>",
                            "<tr><td>Lagúna Hotel</td><td>Nem</td></tr>",
                            "<tr><td>Kentaur Hotel</td><td>Nem</td></tr>",
                            "<tr><td>Kentaur Hotel</td><td>Nem</td></tr>",
                            "<tr><td>Gold Hotel</td><td>Nem</td></tr>",
                            "<tr><td>Fortuna Panzió</td><td>Igen</td></tr>",
                            "<tr><td>Hotel Három Hattyú</td><td>Nem</td></tr>",
                            "<tr><td>Fortuna Panzió</td><td>Igen</td></tr>",
                            "<tr><td>Sába-Ház</td><td>Nem</td></tr>",
                            "<tr><td>Lagúna Hotel</td><td>Nem</td></tr>",
                            "<tr><td>Fortuna Apartman</td><td>Nem</td></tr>",
                            "<tr><td>Hotel Három Hattyú</td><td>Nem</td></tr>",
                            "<tr><td>Fortuna panzió</td><td>Igen</td></tr>",
                            "<tr><td>Lagúna Hotel</td><td>Nem</td></tr>",
                            "<tr><td>Hotel Három Hattyú</td><td>Nem</td></tr>",
                            "<tr><td>Hotel Három Hattyú</td><td>Nem</td></tr>",
                            "<tr><td>Kentaur Hotel</td><td>Nem</td></tr>",
                            "<tr><td>Lagúna Hotel</td><td>Nem</td></tr>",
                            "<tr><td>Családi Ház</td><td>Nem</td></tr>",
                            "<tr><td>Kentaur Hotel</td><td>Nem</td></tr>",
                            "<tr><td>Hotel Három Hattyú</td><td>Nem</td></tr>",
                            "<tr><td>Gold Hotel</td><td>Nem</td></tr>",
                            "<tr><td>Szieszta Apartmanház</td><td>Nem</td></tr>",
                            "<tr><td>Sába-Ház</td><td>Nem</td></tr>",
                            "<tr><td>Kentaur Hotel</td><td>Nem</td></tr>",
                            "<tr><td>Fortuna Apartman</td><td>Nem</td></tr>",
                            "<tr><td>Fortuna panzió</td><td>Igen</td></tr>",
                            "<tr><td>Kentaur Hotel</td><td>Nem</td></tr>",
                            "<tr><td>Fortuna Panzió</td><td>Igen</td></tr>",
                            "<tr><td>Fortuna Panzió</td><td>Igen</td></tr>",
                            "<tr><td>Lagúna Hotel</td><td>Nem</td></tr>",
                            "<tr><td>Fortuna Panzió</td><td>Igen</td></tr>",
                            "<tr><td>Hotel Három Hattyú</td><td>Nem</td></tr>",
                            "<tr><td>Sába-Ház</td><td>Nem</td></tr>",
                            "<tr><td>Fortuna panzió</td><td>Igen</td></tr>",
                            "<tr><td>Kentaur Hotel</td><td>Nem</td></tr>",
                            "<tr><td>Gold Hotel</td><td>Nem</td></tr>",
                            "<tr><td>Sába-Ház</td><td>Nem</td></tr>",
                            "<tr><td>Lagúna Hotel</td><td>Nem</td></tr>",
                            "<tr><td>Lagúna Hotel</td><td>Nem</td></tr>",
                            "<tr><td>Gold Hotel</td><td>Nem</td></tr>",
                            "<tr><td>Hotel Három Hattyú</td><td>Nem</td></tr>",
                            "<tr><td>Hotel Három Hattyú</td><td>Nem</td></tr>",
                            "<tr><td>Kentaur Hotel</td><td>Nem</td></tr>",
                            "<tr><td>Gold Hotel</td><td>Nem</td></tr>",
                            "<tr><td>Lagúna Hotel</td><td>Nem</td></tr>",
                            "<tr><td>Hotel Három Hattyú</td><td>Nem</td></tr>",
                            "<tr><td>Gold Hotel</td><td>Nem</td></tr>",
                            "<tr><td>Lagúna Hotel</td><td>Nem</td></tr>",
                            "<tr><td>Szieszta Apartmanház</td><td>Nem</td></tr>",
                            "<tr><td>Kentaur Hotel</td><td>Nem</td></tr>",
                            "<tr><td>Fortuna Panzió</td><td>Igen</td></tr>",
                            "<tr><td>Kentaur Hotel</td><td>Nem</td></tr>",
                            "<tr><td>Fortuna Apartman</td><td>Nem</td></tr>",
                            "<tr><td>Lagúna Hotel</td><td>Nem</td></tr>",
                            "<tr><td>Sába-Ház</td><td>Nem</td></tr>",
                            "<tr><td>Fortuna Panzió</td><td>Igen</td></tr>",
                            "<tr><td>Fortuna Apartman</td><td>Nem</td></tr>",
                            "<tr><td>Hotel Három Hattyú</td><td>Nem</td></tr>",
                            "<tr><td>Gold Hotel</td><td>Nem</td></tr>",
                            "<tr><td>Kentaur Hotel</td><td>Nem</td></tr>",
                            "<tr><td>Családi Ház</td><td>Nem</td></tr>",
                            "<tr><td>Gold Hotel</td><td>Nem</td></tr>",
                            "<tr><td>Hotel Három Hattyú</td><td>Nem</td></tr>",
                            "<tr><td>Szieszta Apartmanház</td><td>Nem</td></tr>",
                            "<tr><td>Kentaur Hotel</td><td>Nem</td></tr>",
                            "<tr><td>Hotel Három Hattyú</td><td>Nem</td></tr>",
                            "<tr><td>Kentaur Hotel</td><td>Nem</td></tr>",
                            "<tr><td>Gold Hotel</td><td>Nem</td></tr>",
                            "<tr><td>Hotel Három Hattyú</td><td>Nem</td></tr>",
                            "<tr><td>Kentaur Hotel</td><td>Nem</td></tr>",
                            "<tr><td>Szieszta Apartmanház</td><td>Nem</td></tr>",
                            "<tr><td>Gold Hotel</td><td>Nem</td></tr>",
                            "<tr><td>Gold Hotel</td><td>Nem</td></tr>",
                            "<tr><td>Kentaur Hotel</td><td>Nem</td></tr>",
                            "<tr><td>Fortuna panzió</td><td>Igen</td></tr>",
                            "<tr><td>Kentaur Hotel</td><td>Nem</td></tr>",
                            "<tr><td>Fortuna panzió</td><td>Igen</td></tr>",
                            "<tr><td>Sába-Ház</td><td>Nem</td></tr>",
                            "<tr><td>Kentaur Hotel</td><td>Nem</td></tr>",
                            "<tr><td>Kentaur Hotel</td><td>Nem</td></tr>",
                            "<tr><td>Sába-Ház</td><td>Nem</td></tr>",
                            "<tr><td>Kentaur Hotel</td><td>Nem</td></tr>",
                            "<tr><td>Kentaur Hotel</td><td>Nem</td></tr>",
                            "<tr><td>Hotel Három Hattyú</td><td>Nem</td></tr>",
                            "<tr><td>Gold Hotel</td><td>Nem</td></tr>",
                            "<tr><td>Jáde panzió</td><td>Igen</td></tr>",
                            "<tr><td>Sába-Ház</td><td>Nem</td></tr>",
                            "<tr><td>Kentaur Hotel</td><td>Nem</td></tr>",
                            "<tr><td>Hotel Három Hattyú</td><td>Nem</td></tr>",
                            "<tr><td>Kentaur Hotel</td><td>Nem</td></tr>",
                            "<tr><td>Fortuna panzió</td><td>Igen</td></tr>",
                            "<tr><td>Kentaur Hotel</td><td>Nem</td></tr>",
                            "<tr><td>Fortuna Panzió</td><td>Igen</td></tr>",
                            "<tr><td>Kentaur Hotel</td><td>Nem</td></tr>",
                            "<tr><td>Lagúna Hotel</td><td>Nem</td></tr>",
                            "<tr><td>Kentaur Hotel</td><td>Nem</td></tr>",
                            "<tr><td>Gold Hotel</td><td>Nem</td></tr>",
                            "<tr><td>Lagúna Hotel</td><td>Nem</td></tr>",
                            "<tr><td>Fortuna panzió</td><td>Igen</td></tr>",
                            "<tr><td>Fortuna panzió</td><td>Igen</td></tr>",
                            "<tr><td>Családi Ház</td><td>Nem</td></tr>",
                            "<tr><td>Gold Hotel</td><td>Nem</td></tr>",
                            "<tr><td>Gold Hotel</td><td>Nem</td></tr>",
                            "<tr><td>Fortuna panzió</td><td>Igen</td></tr>",
                            "<tr><td>Gold Hotel</td><td>Nem</td></tr>",
                            "<tr><td>Fortuna panzió</td><td>Igen</td></tr>",
                            "<tr><td>Kentaur Hotel</td><td>Nem</td></tr>",
                            "<tr><td>Gold Hotel</td><td>Nem</td></tr>",
                            "<tr><td>Fortuna panzió</td><td>Igen</td></tr>",
                            "<tr><td>Gold Hotel</td><td>Nem</td></tr>",
                            "<tr><td>Fortuna Apartman</td><td>Nem</td></tr>",
                            "<tr><td>Lagúna Hotel</td><td>Nem</td></tr>",
                            "<tr><td>Lagúna Hotel</td><td>Nem</td></tr>",
                            "<tr><td>Jáde panzió</td><td>Igen</td></tr>",
                            "<tr><td>Jáde panzió</td><td>Igen</td></tr>",
                            "<tr><td>Partiszél Vendégház</td><td>Nem</td></tr>",
                            "<tr><td>Gold Hotel</td><td>Nem</td></tr>",
                            "<tr><td>Gold Hotel</td><td>Nem</td></tr>",
                            "<tr><td>Fortuna Panzió</td><td>Igen</td></tr>",
                            "<tr><td>Lagúna Hotel</td><td>Nem</td></tr>",
                            "<tr><td>Fortuna Apartman</td><td>Nem</td></tr>",
                            "<tr><td>Gold Hotel</td><td>Nem</td></tr>",
                            "<tr><td>Sába-Ház</td><td>Nem</td></tr>",
                            "<tr><td>Fortuna panzió</td><td>Igen</td></tr>",
                            "<tr><td>Fortuna panzió</td><td>Igen</td></tr>",
                            "<tr><td>Hotel Három Hattyú</td><td>Nem</td></tr>",
                            "<tr><td>Partiszél Vendégház</td><td>Nem</td></tr>",
                            "<tr><td>Hotel Három Hattyú</td><td>Nem</td></tr>",
                            "<tr><td>Fortuna Panzió</td><td>Igen</td></tr>",
                            "<tr><td>Gold Hotel</td><td>Nem</td></tr>",
                            "<tr><td>Gold Hotel</td><td>Nem</td></tr>",
                            "<tr><td>Partiszél Vendégház</td><td>Nem</td></tr>",
                            "<tr><td>Gold Hotel</td><td>Nem</td></tr>",
                            "<tr><td>Kentaur Hotel</td><td>Nem</td></tr>",
                            "<tr><td>Gold Hotel</td><td>Nem</td></tr>",
                            "<tr><td>Hotel Három Hattyú</td><td>Nem</td></tr>",
                            "<tr><td>Fortuna Panzió</td><td>Igen</td></tr>",
                            "<tr><td>Partiszél Vendégház</td><td>Nem</td></tr>",
                            "<tr><td>Fortuna Apartman</td><td>Nem</td></tr>",
                            "<tr><td>Kentaur Hotel</td><td>Nem</td></tr>",
                            "<tr><td>Kentaur Hotel</td><td>Nem</td></tr>",
                            "<tr><td>Gold Hotel</td><td>Nem</td></tr>",
                            "<tr><td>Kentaur Hotel</td><td>Nem</td></tr>",
                            "<tr><td>Gold Hotel</td><td>Nem</td></tr>",
                            "<tr><td>Kentaur Hotel</td><td>Nem</td></tr>",
                            "<tr><td>Partiszél Vendégház</td><td>Nem</td></tr>",
                            "<tr><td>Hotel Három Hattyú</td><td>Nem</td></tr>",
                            "<tr><td>Hotel Három Hattyú</td><td>Nem</td></tr>",
                            "<tr><td>Gold Hotel</td><td>Nem</td></tr>",
                            "<tr><td>Fortuna Apartman</td><td>Nem</td></tr>",
                            "<tr><td>Sába-Ház</td><td>Nem</td></tr>",
                            "<tr><td>Sába-Ház</td><td>Nem</td></tr>",
                            "<tr><td>Fortuna Apartman</td><td>Nem</td></tr>",
                            "<tr><td>Sába-Ház</td><td>Nem</td></tr>",
                            "<tr><td>Kentaur Hotel</td><td>Nem</td></tr>",
                            "<tr><td>Sába-Ház</td><td>Nem</td></tr>",
                            "<tr><td>Gold Hotel</td><td>Nem</td></tr>",
                            "<tr><td>Hotel Három Hattyú</td><td>Nem</td></tr>",
                            "<tr><td>Kentaur Hotel</td><td>Nem</td></tr>",
                            "<tr><td>Fortuna Panzió</td><td>Igen</td></tr>",
                            "<tr><td>Lagúna Hotel</td><td>Nem</td></tr>",
                            "<tr><td>Gold Hotel</td><td>Nem</td></tr>",
                            "<tr><td>Gold Hotel</td><td>Nem</td></tr>",
                            "<tr><td>Hotel Három Hattyú</td><td>Nem</td></tr>",
                            "<tr><td>Fortuna Panzió</td><td>Igen</td></tr>",
                            "<tr><td>Kentaur Hotel</td><td>Nem</td></tr>",
                            "<tr><td>Hotel Három Hattyú</td><td>Nem</td></tr>",
                            "<tr><td>Kentaur Hotel</td><td>Nem</td></tr>",
                            "<tr><td>Hotel Három Hattyú</td><td>Nem</td></tr>",
                            "<tr><td>Sába-Ház</td><td>Nem</td></tr>",
                            "<tr><td>Hotel Három Hattyú</td><td>Nem</td></tr>",
                            "<tr><td>Hotel Három Hattyú</td><td>Nem</td></tr>",
                            "<tr><td>Lagúna Hotel</td><td>Nem</td></tr>",
                            "<tr><td>Lagúna Hotel</td><td>Nem</td></tr>",
                            "<tr><td>Sába-Ház</td><td>Nem</td></tr>",
                            "<tr><td>Fortuna panzió</td><td>Igen</td></tr>",
                            "<tr><td>Hotel Három Hattyú</td><td>Nem</td></tr>",
                            "<tr><td>Családi Ház</td><td>Nem</td></tr>",
                            "<tr><td>Gold Hotel</td><td>Nem</td></tr>",
                            "<tr><td>Hotel Három Hattyú</td><td>Nem</td></tr>",
                            "<tr><td>Kentaur Hotel</td><td>Nem</td></tr>",
                            "<tr><td>Gold Hotel</td><td>Nem</td></tr>",
                            "<tr><td>Gold Hotel</td><td>Nem</td></tr>",
                            "<tr><td>Fortuna panzió</td><td>Igen</td></tr>",
                            "<tr><td>Lagúna Hotel</td><td>Nem</td></tr>",
                            "<tr><td>Gold Hotel</td><td>Nem</td></tr>",
                            "<tr><td>Kentaur Hotel</td><td>Nem</td></tr>",
                            "<tr><td>Kentaur Hotel</td><td>Nem</td></tr>",
                            "<tr><td>Gold Hotel</td><td>Nem</td></tr>",
                            "<tr><td>Fortuna panzió</td><td>Igen</td></tr>",
                            "<tr><td>Fortuna Panzió</td><td>Igen</td></tr>",
                            "<tr><td>Kentaur Hotel</td><td>Nem</td></tr>",
                            "<tr><td>Jáde panzió</td><td>Igen</td></tr>",
                            "<tr><td>Gold Hotel</td><td>Nem</td></tr>",
                            "<tr><td>Sába-Ház</td><td>Nem</td></tr>",
                            "<tr><td>Gold Hotel</td><td>Nem</td></tr>",
                            "<tr><td>Hotel Három Hattyú</td><td>Nem</td></tr>",
                            "<tr><td>Gold Hotel</td><td>Nem</td></tr>",
                            "<tr><td>Hotel Három Hattyú</td><td>Nem</td></tr>",
                            "<tr><td>Kentaur Hotel</td><td>Nem</td></tr>",
                            "<tr><td>Hotel Három Hattyú</td><td>Nem</td></tr>",
                            "<tr><td>Kentaur Hotel</td><td>Nem</td></tr>",
                            "<tr><td>Hotel Három Hattyú</td><td>Nem</td></tr>",
                            "<tr><td>Jáde panzió</td><td>Igen</td></tr>",
                            "<tr><td>Kentaur Hotel</td><td>Nem</td></tr>",
                            "<tr><td>Sába-Ház</td><td>Nem</td></tr>",
                            "<tr><td>Hotel Három Hattyú</td><td>Nem</td></tr>",
                            "<tr><td>Fortuna panzió</td><td>Igen</td></tr>",
                            "<tr><td>Jáde panzió</td><td>Igen</td></tr>",
                            "<tr><td>Fortuna Apartman</td><td>Nem</td></tr>",
                            "<tr><td>Kentaur Hotel</td><td>Nem</td></tr>",
                            "<tr><td>Hotel Három Hattyú</td><td>Nem</td></tr>",
                            "<tr><td>Gold Hotel</td><td>Nem</td></tr>",
                            "<tr><td>Kentaur Hotel</td><td>Nem</td></tr>",
                            "<tr><td>Partiszél Vendégház</td><td>Nem</td></tr>",
                            "<tr><td>Gold Hotel</td><td>Nem</td></tr>",
                            "<tr><td>Fortuna panzió</td><td>Igen</td></tr>",
                            "<tr><td>Kentaur Hotel</td><td>Nem</td></tr>",
                            "<tr><td>Lagúna Hotel</td><td>Nem</td></tr>",
                            "<tr><td>Gold Hotel</td><td>Nem</td></tr>",
                            "<tr><td>Hotel Három Hattyú</td><td>Nem</td></tr>",
                            "<tr><td>Gold Hotel</td><td>Nem</td></tr>",
                            "<tr><td>Fortuna Panzió</td><td>Igen</td></tr>",
                            "<tr><td>Fortuna Panzió</td><td>Igen</td></tr>",
                            "<tr><td>Sába-Ház</td><td>Nem</td></tr>",
                            "<tr><td>Gold Hotel</td><td>Nem</td></tr>",
                            "<tr><td>Gold Hotel</td><td>Nem</td></tr>",
                            "<tr><td>Fortuna panzió</td><td>Igen</td></tr>",
                            "<tr><td>Jáde panzió</td><td>Igen</td></tr>",
                            "<tr><td>Lagúna Hotel</td><td>Nem</td></tr>",
                            "<tr><td>Hotel Három Hattyú</td><td>Nem</td></tr>",
                            "<tr><td>Kentaur Hotel</td><td>Nem</td></tr>",
                            "<tr><td>Családi Ház</td><td>Nem</td></tr>",
                            "<tr><td>Hotel Három Hattyú</td><td>Nem</td></tr>",
                            "<tr><td>Gold Hotel</td><td>Nem</td></tr>",
                            "<tr><td>Fortuna panzió</td><td>Igen</td></tr>",
                            "<tr><td>Lagúna Hotel</td><td>Nem</td></tr>",
                            "<tr><td>Fortuna panzió</td><td>Igen</td></tr>",
                            "<tr><td>Hotel Három Hattyú</td><td>Nem</td></tr>",
                            "<tr><td>Fortuna Apartman</td><td>Nem</td></tr>",
                            "<tr><td>Hotel Három Hattyú</td><td>Nem</td></tr>",
                            "<tr><td>Szieszta Apartmanház</td><td>Nem</td></tr>",
                            "<tr><td>Sába-Ház</td><td>Nem</td></tr>",
                            "<tr><td>Gold Hotel</td><td>Nem</td></tr>",
                            "<tr><td>Jáde panzió</td><td>Igen</td></tr>",
                            "<tr><td>Hotel Három Hattyú</td><td>Nem</td></tr>",
                            "<tr><td>Lagúna Hotel</td><td>Nem</td></tr>",
                            "<tr><td>Gold Hotel</td><td>Nem</td></tr>",
                            "<tr><td>Családi Ház</td><td>Nem</td></tr>",
                            "<tr><td>Jáde panzió</td><td>Igen</td></tr>",
                            "<tr><td>Lagúna Hotel</td><td>Nem</td></tr>",
                            "<tr><td>Lagúna Hotel</td><td>Nem</td></tr>",
                            "<tr><td>Hotel Három Hattyú</td><td>Nem</td></tr>",
                            "<tr><td>Hotel Három Hattyú</td><td>Nem</td></tr>",
                            "<tr><td>Hotel Három Hattyú</td><td>Nem</td></tr>",
                            "<tr><td>Sába-Ház</td><td>Nem</td></tr>",
                            "<tr><td>Fortuna panzió</td><td>Igen</td></tr>",
                            "<tr><td>Fortuna panzió</td><td>Igen</td></tr>",
                            "<tr><td>Kentaur Hotel</td><td>Nem</td></tr>",
                            "<tr><td>Kentaur Hotel</td><td>Nem</td></tr>",
                            "<tr><td>Fortuna Panzió</td><td>Igen</td></tr>",
                            "<tr><td>Szieszta Apartmanház</td><td>Nem</td></tr>",
                            "<tr><td>Lagúna Hotel</td><td>Nem</td></tr>",
                            "<tr><td>Szieszta Apartmanház</td><td>Nem</td></tr>",
                            "<tr><td>Fortuna panzió</td><td>Igen</td></tr>",
                            "<tr><td>Lagúna Hotel</td><td>Nem</td></tr>",
                            "<tr><td>Hotel Három Hattyú</td><td>Nem</td></tr>",
                            "<tr><td>Kentaur Hotel</td><td>Nem</td></tr>",
                            "<tr><td>Lagúna Hotel</td><td>Nem</td></tr>",
                            "<tr><td>Gold Hotel</td><td>Nem</td></tr>",
                            "<tr><td>Fortuna Panzió</td><td>Igen</td></tr>",
                            "<tr><td>Gold Hotel</td><td>Nem</td></tr>",
                            "<tr><td>Partiszél Vendégház</td><td>Nem</td></tr>",
                            "<tr><td>Sába-Ház</td><td>Nem</td></tr>",
                            "<tr><td>Fortuna Apartman</td><td>Nem</td></tr>",
                            "<tr><td>Kentaur Hotel</td><td>Nem</td></tr>",
                            "<tr><td>Hotel Három Hattyú</td><td>Nem</td></tr>",
                            "<tr><td>Sába-Ház</td><td>Nem</td></tr>",
                            "<tr><td>Gold Hotel</td><td>Nem</td></tr>",
                            "<tr><td>Partiszél Vendégház</td><td>Nem</td></tr>",
                            "<tr><td>Fortuna panzió</td><td>Igen</td></tr>",
                            "<tr><td>Lagúna Hotel</td><td>Nem</td></tr>",
                            "<tr><td>Fortuna panzió</td><td>Igen</td></tr>",
                            "<tr><td>Szieszta Apartmanház</td><td>Nem</td></tr>",
                            "<tr><td>Kentaur Hotel</td><td>Nem</td></tr>",
                            "<tr><td>Kentaur Hotel</td><td>Nem</td></tr>",
                            "<tr><td>Fortuna panzió</td><td>Igen</td></tr>",
                            "<tr><td>Hotel Három Hattyú</td><td>Nem</td></tr>",
                            "<tr><td>Kentaur Hotel</td><td>Nem</td></tr>",
                            "<tr><td>Hotel Három Hattyú</td><td>Nem</td></tr>",
                            "<tr><td>Kentaur Hotel</td><td>Nem</td></tr>",
                            "<tr><td>Lagúna Hotel</td><td>Nem</td></tr>",
                            "<tr><td>Fortuna Panzió</td><td>Igen</td></tr>",
                            "<tr><td>Hotel Három Hattyú</td><td>Nem</td></tr>",
                            "<tr><td>Jáde panzió</td><td>Igen</td></tr>",
                            "<tr><td>Gold Hotel</td><td>Nem</td></tr>",
                            "<tr><td>Kentaur Hotel</td><td>Nem</td></tr>",
                            "<tr><td>Kentaur Hotel</td><td>Nem</td></tr>",
                            "<tr><td>Gold Hotel</td><td>Nem</td></tr>",
                            "<tr><td>Gold Hotel</td><td>Nem</td></tr>",
                            "<tr><td>Kentaur Hotel</td><td>Nem</td></tr>",
                            "<tr><td>Hotel Három Hattyú</td><td>Nem</td></tr>",
                            "<tr><td>Lagúna Hotel</td><td>Nem</td></tr>",
                            "<tr><td>Sába-Ház</td><td>Nem</td></tr>",
                            "<tr><td>Lagúna Hotel</td><td>Nem</td></tr>",
                            "<tr><td>Szieszta Apartmanház</td><td>Nem</td></tr>",
                            "<tr><td>Hotel Három Hattyú</td><td>Nem</td></tr>",
                            "<tr><td>Szieszta Apartmanház</td><td>Nem</td></tr>",
                            "<tr><td>Kentaur Hotel</td><td>Nem</td></tr>",
                            "<tr><td>Lagúna Hotel</td><td>Nem</td></tr>",
                            "<tr><td>Fortuna Apartman</td><td>Nem</td></tr>",
                            "<tr><td>Partiszél Vendégház</td><td>Nem</td></tr>",
                            "<tr><td>Szieszta Apartmanház</td><td>Nem</td></tr>",
                            "<tr><td>Hotel Három Hattyú</td><td>Nem</td></tr>",
                            "<tr><td>Sába-Ház</td><td>Nem</td></tr>",
                            "<tr><td>Jáde panzió</td><td>Igen</td></tr>",
                            "<tr><td>Lagúna Hotel</td><td>Nem</td></tr>",
                            "<tr><td>Kentaur Hotel</td><td>Nem</td></tr>",
                            "<tr><td>Fortuna Apartman</td><td>Nem</td></tr>",
                            "<tr><td>Lagúna Hotel</td><td>Nem</td></tr>",
                            "<tr><td>Gold Hotel</td><td>Nem</td></tr>",
                            "<tr><td>Lagúna Hotel</td><td>Nem</td></tr>",
                            "<tr><td>Fortuna Panzió</td><td>Igen</td></tr>",
                            "<tr><td>Kentaur Hotel</td><td>Nem</td></tr>",
                            "<tr><td>Lagúna Hotel</td><td>Nem</td></tr>",
                            "<tr><td>Hotel Három Hattyú</td><td>Nem</td></tr>",
                            "<tr><td>Kentaur Hotel</td><td>Nem</td></tr>",
                            "<tr><td>Sába-Ház</td><td>Nem</td></tr>",
                            "<tr><td>Hotel Három Hattyú</td><td>Nem</td></tr>",
                            "<tr><td>Gold Hotel</td><td>Nem</td></tr>",
                            "<tr><td>Kentaur Hotel</td><td>Nem</td></tr>",
                            "<tr><td>Sába-Ház</td><td>Nem</td></tr>",
                            "<tr><td>Hotel Három Hattyú</td><td>Nem</td></tr>",
                            "<tr><td>Családi Ház</td><td>Nem</td></tr>",
                            "<tr><td>Fortuna Apartman</td><td>Nem</td></tr>",
                            "<tr><td>Sába-Ház</td><td>Nem</td></tr>",
                            "<tr><td>Sába-Ház</td><td>Nem</td></tr>",
                            "<tr><td>Gold Hotel</td><td>Nem</td></tr>",
                            "<tr><td>Hotel Három Hattyú</td><td>Nem</td></tr>",
                            "<tr><td>Fortuna Panzió</td><td>Igen</td></tr>",
                            "<tr><td>Fortuna panzió</td><td>Igen</td></tr>",
                            "<tr><td>Sába-Ház</td><td>Nem</td></tr>",
                            "<tr><td>Gold Hotel</td><td>Nem</td></tr>",
                            "<tr><td>Fortuna Apartman</td><td>Nem</td></tr>",
                            "<tr><td>Sába-Ház</td><td>Nem</td></tr>",
                            "<tr><td>Gold Hotel</td><td>Nem</td></tr>",
                            "<tr><td>Gold Hotel</td><td>Nem</td></tr>",
                            "<tr><td>Gold Hotel</td><td>Nem</td></tr>",
                            "<tr><td>Fortuna Panzió</td><td>Igen</td></tr>",
                            "<tr><td>Lagúna Hotel</td><td>Nem</td></tr>",
                            "<tr><td>Lagúna Hotel</td><td>Nem</td></tr>",
                            "<tr><td>Gold Hotel</td><td>Nem</td></tr>",
                            "<tr><td>Kentaur Hotel</td><td>Nem</td></tr>",
                            "<tr><td>Jáde panzió</td><td>Igen</td></tr>",
                            "<tr><td>Fortuna panzió</td><td>Igen</td></tr>",
                            "<tr><td>Sába-Ház</td><td>Nem</td></tr>",
                            "<tr><td>Sába-Ház</td><td>Nem</td></tr>",
                            "<tr><td>Gold Hotel</td><td>Nem</td></tr>",
                            "<tr><td>Hotel Három Hattyú</td><td>Nem</td></tr>",
                            "<tr><td>Lagúna Hotel</td><td>Nem</td></tr>",
                            "<tr><td>Lagúna Hotel</td><td>Nem</td></tr>",
                            "<tr><td>Sába-Ház</td><td>Nem</td></tr>",
                            "<tr><td>Fortuna panzió</td><td>Igen</td></tr>",
                            "<tr><td>Kentaur Hotel</td><td>Nem</td></tr>",
                            "<tr><td>Lagúna Hotel</td><td>Nem</td></tr>",
                            "<tr><td>Gold Hotel</td><td>Nem</td></tr>",
                            "<tr><td>Hotel Három Hattyú</td><td>Nem</td></tr>",
                            "<tr><td>Kentaur Hotel</td><td>Nem</td></tr>",
                            "<tr><td>Sába-Ház</td><td>Nem</td></tr>",
                            "<tr><td>Kentaur Hotel</td><td>Nem</td></tr>",
                            "<tr><td>Hotel Három Hattyú</td><td>Nem</td></tr>",
                            "<tr><td>Fortuna Apartman</td><td>Nem</td></tr>",
                            "<tr><td>Lagúna Hotel</td><td>Nem</td></tr>",
                            "<tr><td>Hotel Három Hattyú</td><td>Nem</td></tr>",
                            "<tr><td>Kentaur Hotel</td><td>Nem</td></tr>",
                            "<tr><td>Gold Hotel</td><td>Nem</td></tr>",
                            "<tr><td>Gold Hotel</td><td>Nem</td></tr>",
                            "<tr><td>Fortuna Apartman</td><td>Nem</td></tr>",
                            "<tr><td>Szieszta Apartmanház</td><td>Nem</td></tr>",
                            "<tr><td>Sába-Ház</td><td>Nem</td></tr>",
                            "<tr><td>Gold Hotel</td><td>Nem</td></tr>",
                            "<tr><td>Lagúna Hotel</td><td>Nem</td></tr>",
                            "<tr><td>Jáde panzió</td><td>Igen</td></tr>",
                            "<tr><td>Kentaur Hotel</td><td>Nem</td></tr>",
                            "<tr><td>Hotel Három Hattyú</td><td>Nem</td></tr>",
                            "<tr><td>Gold Hotel</td><td>Nem</td></tr>",
                            "<tr><td>Sába-Ház</td><td>Nem</td></tr>",
                            "<tr><td>Gold Hotel</td><td>Nem</td></tr>",
                            "<tr><td>Gold Hotel</td><td>Nem</td></tr>",
                            "<tr><td>Fortuna panzió</td><td>Igen</td></tr>",
                            "<tr><td>Kentaur Hotel</td><td>Nem</td></tr>",
                            "<tr><td>Fortuna Panzió</td><td>Igen</td></tr>",
                            "<tr><td>Gold Hotel</td><td>Nem</td></tr>",
                            "<tr><td>Szieszta Apartmanház</td><td>Nem</td></tr>",
                            "<tr><td>Partiszél Vendégház</td><td>Nem</td></tr>",
                            "<tr><td>Kentaur Hotel</td><td>Nem</td></tr>",
                            "<tr><td>Hotel Három Hattyú</td><td>Nem</td></tr>",
                            "<tr><td>Lagúna Hotel</td><td>Nem</td></tr>",
                            "<tr><td>Gold Hotel</td><td>Nem</td></tr>",
                            "<tr><td>Fortuna Apartman</td><td>Nem</td></tr>",
                            "<tr><td>Szieszta Apartmanház</td><td>Nem</td></tr>",
                            "<tr><td>Lagúna Hotel</td><td>Nem</td></tr>",
                            "<tr><td>Fortuna Apartman</td><td>Nem</td></tr>",
                            "<tr><td>Lagúna Hotel</td><td>Nem</td></tr>",
                            "<tr><td>Fortuna Panzió</td><td>Igen</td></tr>",
                            "<tr><td>Lagúna Hotel</td><td>Nem</td></tr>",
                            "<tr><td>Kentaur Hotel</td><td>Nem</td></tr>",
                            "<tr><td>Lagúna Hotel</td><td>Nem</td></tr>",
                            "<tr><td>Gold Hotel</td><td>Nem</td></tr>",
                            "<tr><td>Partiszél Vendégház</td><td>Nem</td></tr>",
                            "<tr><td>Fortuna Apartman</td><td>Nem</td></tr>",
                            "<tr><td>Fortuna Panzió</td><td>Igen</td></tr>",
                            "<tr><td>Kentaur Hotel</td><td>Nem</td></tr>",
                            "<tr><td>Hotel Három Hattyú</td><td>Nem</td></tr>",
                            "<tr><td>Hotel Három Hattyú</td><td>Nem</td></tr>",
                            "<tr><td>Gold Hotel</td><td>Nem</td></tr>",
                            "<tr><td>Fortuna Apartman</td><td>Nem</td></tr>",
                            "<tr><td>Hotel Három Hattyú</td><td>Nem</td></tr>",
                            "<tr><td>Fortuna panzió</td><td>Igen</td></tr>",
                            "<tr><td>Hotel Három Hattyú</td><td>Nem</td></tr>",
                            "<tr><td>Gold Hotel</td><td>Nem</td></tr>",
                            "<tr><td>Hotel Három Hattyú</td><td>Nem</td></tr>",
                            "<tr><td>Kentaur Hotel</td><td>Nem</td></tr>",
                            "<tr><td>Jáde panzió</td><td>Igen</td></tr>",
                            "<tr><td>Sába-Ház</td><td>Nem</td></tr>",
                            "<tr><td>Fortuna Panzió</td><td>Igen</td></tr>",
                            "<tr><td>Lagúna Hotel</td><td>Nem</td></tr>",
                            "<tr><td>Hotel Három Hattyú</td><td>Nem</td></tr>",
                            "<tr><td>Kentaur Hotel</td><td>Nem</td></tr>",
                            "<tr><td>Kentaur Hotel</td><td>Nem</td></tr>",
                            "<tr><td>Hotel Három Hattyú</td><td>Nem</td></tr>",
                            "<tr><td>Fortuna Panzió</td><td>Igen</td></tr>",
                            "<tr><td>Hotel Három Hattyú</td><td>Nem</td></tr>",
                            "<tr><td>Kentaur Hotel</td><td>Nem</td></tr>",
                            "<tr><td>Gold Hotel</td><td>Nem</td></tr>",
                            "<tr><td>Gold Hotel</td><td>Nem</td></tr>",
                            "<tr><td>Kentaur Hotel</td><td>Nem</td></tr>",
                            "<tr><td>Kentaur Hotel</td><td>Nem</td></tr>",
                            "<tr><td>Kentaur Hotel</td><td>Nem</td></tr>",
                            "<tr><td>Fortuna panzió</td><td>Igen</td></tr>",
                            "<tr><td>Sába-Ház</td><td>Nem</td></tr>",
                            "<tr><td>Fortuna Apartman</td><td>Nem</td></tr>",
                            "<tr><td>Gold Hotel</td><td>Nem</td></tr>",
                            "<tr><td>Kentaur Hotel</td><td>Nem</td></tr>",
                            "<tr><td>Lagúna Hotel</td><td>Nem</td></tr>",
                            "<tr><td>Hotel Három Hattyú</td><td>Nem</td></tr>",
                            "<tr><td>Gold Hotel</td><td>Nem</td></tr>",
                            "<tr><td>Fortuna Panzió</td><td>Igen</td></tr>",
                            "<tr><td>Családi Ház</td><td>Nem</td></tr>",
                            "<tr><td>Hotel Három Hattyú</td><td>Nem</td></tr>",
                            "<tr><td>Kentaur Hotel</td><td>Nem</td></tr>",
                            "<tr><td>Hotel Három Hattyú</td><td>Nem</td></tr>",
                            "<tr><td>Gold Hotel</td><td>Nem</td></tr>",
                            "<tr><td>Gold Hotel</td><td>Nem</td></tr>",
                            "<tr><td>Hotel Három Hattyú</td><td>Nem</td></tr>",
                            "<tr><td>Gold Hotel</td><td>Nem</td></tr>",
                            "<tr><td>Sába-Ház</td><td>Nem</td></tr>",
                            "<tr><td>Szieszta Apartmanház</td><td>Nem</td></tr>",
                            "<tr><td>Lagúna Hotel</td><td>Nem</td></tr>",
                            "<tr><td>Kentaur Hotel</td><td>Nem</td></tr>",
                            "<tr><td>Lagúna Hotel</td><td>Nem</td></tr>",
                            "<tr><td>Sába-Ház</td><td>Nem</td></tr>",
                            "<tr><td>Kentaur Hotel</td><td>Nem</td></tr>",
                            "<tr><td>Lagúna Hotel</td><td>Nem</td></tr>",
                            "<tr><td>Sába-Ház</td><td>Nem</td></tr>",
                            "<tr><td>Kentaur Hotel</td><td>Nem</td></tr>",
                            "<tr><td>Lagúna Hotel</td><td>Nem</td></tr>",
                            "<tr><td>Hotel Három Hattyú</td><td>Nem</td></tr>",
                            "<tr><td>Kentaur Hotel</td><td>Nem</td></tr>",
                            "<tr><td>Partiszél Vendégház</td><td>Nem</td></tr>",
                            "<tr><td>Gold Hotel</td><td>Nem</td></tr>",
                            "<tr><td>Gold Hotel</td><td>Nem</td></tr>",
                            "<tr><td>Kentaur Hotel</td><td>Nem</td></tr>",
                            "<tr><td>Szieszta Apartmanház</td><td>Nem</td></tr>",
                            "<tr><td>Fortuna Panzió</td><td>Igen</td></tr>",
                            "<tr><td>Hotel Három Hattyú</td><td>Nem</td></tr>",
                            "<tr><td>Kentaur Hotel</td><td>Nem</td></tr>",
                            "<tr><td>Szieszta Apartmanház</td><td>Nem</td></tr>",
                            "<tr><td>Sába-Ház</td><td>Nem</td></tr>",
                            "<tr><td>Fortuna panzió</td><td>Igen</td></tr>",
                            "<tr><td>Gold Hotel</td><td>Nem</td></tr>",
                            "<tr><td>Kentaur Hotel</td><td>Nem</td></tr>",
                            "<tr><td>Gold Hotel</td><td>Nem</td></tr>",
                            "<tr><td>Kentaur Hotel</td><td>Nem</td></tr>",
                            "<tr><td>Lagúna Hotel</td><td>Nem</td></tr>",
                            "<tr><td>Kentaur Hotel</td><td>Nem</td></tr>",
                            "<tr><td>Hotel Három Hattyú</td><td>Nem</td></tr>",
                            "<tr><td>Lagúna Hotel</td><td>Nem</td></tr>",
                            "<tr><td>Partiszél Vendégház</td><td>Nem</td></tr>",
                            "<tr><td>Kentaur Hotel</td><td>Nem</td></tr>",
                            "<tr><td>Hotel Három Hattyú</td><td>Nem</td></tr>",
                            "<tr><td>Fortuna Apartman</td><td>Nem</td></tr>",
                            "<tr><td>Kentaur Hotel</td><td>Nem</td></tr>",
                            "<tr><td>Lagúna Hotel</td><td>Nem</td></tr>",
                            "<tr><td>Hotel Három Hattyú</td><td>Nem</td></tr>",
                            "<tr><td>Fortuna Panzió</td><td>Igen</td></tr>",
                            "<tr><td>Partiszél Vendégház</td><td>Nem</td></tr>",
                            "<tr><td>Kentaur Hotel</td><td>Nem</td></tr>",
                            "<tr><td>Lagúna Hotel</td><td>Nem</td></tr>",
                            "<tr><td>Fortuna Panzió</td><td>Igen</td></tr>",
                            "<tr><td>Hotel Három Hattyú</td><td>Nem</td></tr>",
                            "<tr><td>Lagúna Hotel</td><td>Nem</td></tr>",
                            "<tr><td>Hotel Három Hattyú</td><td>Nem</td></tr>",
                            "<tr><td>Szieszta Apartmanház</td><td>Nem</td></tr>",
                            "<tr><td>Szieszta Apartmanház</td><td>Nem</td></tr>",
                            "<tr><td>Jáde panzió</td><td>Igen</td></tr>",
                            "<tr><td>Gold Hotel</td><td>Nem</td></tr>",
                            "<tr><td>Fortuna Panzió</td><td>Igen</td></tr>",
                            "<tr><td>Gold Hotel</td><td>Nem</td></tr>",
                            "<tr><td>Hotel Három Hattyú</td><td>Nem</td></tr>",
                            "<tr><td>Jáde panzió</td><td>Igen</td></tr>",
                            "<tr><td>Kentaur Hotel</td><td>Nem</td></tr>",
                            "<tr><td>Gold Hotel</td><td>Nem</td></tr>",
                            "<tr><td>Fortuna Panzió</td><td>Igen</td></tr>",
                            "<tr><td>Lagúna Hotel</td><td>Nem</td></tr>",
                            "<tr><td>Sába-Ház</td><td>Nem</td></tr>",
                            "<tr><td>Hotel Három Hattyú</td><td>Nem</td></tr>",
                            "<tr><td>Lagúna Hotel</td><td>Nem</td></tr>",
                            "<tr><td>Gold Hotel</td><td>Nem</td></tr>",
                            "<tr><td>Hotel Három Hattyú</td><td>Nem</td></tr>",
                            "<tr><td>Fortuna Apartman</td><td>Nem</td></tr>",
                            "<tr><td>Gold Hotel</td><td>Nem</td></tr>",
                            "<tr><td>Kentaur Hotel</td><td>Nem</td></tr>",
                            "<tr><td>Sába-Ház</td><td>Nem</td></tr>",
                            "<tr><td>Szieszta Apartmanház</td><td>Nem</td></tr>",
                            "<tr><td>Fortuna panzió</td><td>Igen</td></tr>",
                            "<tr><td>Kentaur Hotel</td><td>Nem</td></tr>",
                            "<tr><td>Gold Hotel</td><td>Nem</td></tr>",
                            "<tr><td>Kentaur Hotel</td><td>Nem</td></tr>",
                            "<tr><td>Kentaur Hotel</td><td>Nem</td></tr>",
                            "<tr><td>Gold Hotel</td><td>Nem</td></tr>",
                            "<tr><td>Kentaur Hotel</td><td>Nem</td></tr>",
                            "<tr><td>Kentaur Hotel</td><td>Nem</td></tr>",
                            "<tr><td>Gold Hotel</td><td>Nem</td></tr>",
                            "<tr><td>Hotel Három Hattyú</td><td>Nem</td></tr>",
                            "<tr><td>Kentaur Hotel</td><td>Nem</td></tr>",
                            "<tr><td>Hotel Három Hattyú</td><td>Nem</td></tr>",
                            "<tr><td>Kentaur Hotel</td><td>Nem</td></tr>",
                            "<tr><td>Sába-Ház</td><td>Nem</td></tr>",
                            "<tr><td>Fortuna panzió</td><td>Igen</td></tr>",
                            "<tr><td>Gold Hotel</td><td>Nem</td></tr>",
                            "<tr><td>Hotel Három Hattyú</td><td>Nem</td></tr>",
                            "<tr><td>Lagúna Hotel</td><td>Nem</td></tr>",
                            "<tr><td>Hotel Három Hattyú</td><td>Nem</td></tr>",
                            "<tr><td>Gold Hotel</td><td>Nem</td></tr>",
                            "<tr><td>Kentaur Hotel</td><td>Nem</td></tr>",
                            "<tr><td>Gold Hotel</td><td>Nem</td></tr>",
                            "<tr><td>Hotel Három Hattyú</td><td>Nem</td></tr>",
                            "<tr><td>Fortuna panzió</td><td>Igen</td></tr>",
                            "<tr><td>Kentaur Hotel</td><td>Nem</td></tr>",
                            "<tr><td>Gold Hotel</td><td>Nem</td></tr>",
                            "<tr><td>Családi Ház</td><td>Nem</td></tr>",
                            "<tr><td>Kentaur Hotel</td><td>Nem</td></tr>",
                            "<tr><td>Szieszta Apartmanház</td><td>Nem</td></tr>",
                            "<tr><td>Gold Hotel</td><td>Nem</td></tr>",
                            "<tr><td>Fortuna panzió</td><td>Igen</td></tr>",
                            "<tr><td>Hotel Három Hattyú</td><td>Nem</td></tr>",
                            "<tr><td>Hotel Három Hattyú</td><td>Nem</td></tr>",
                            "<tr><td>Hotel Három Hattyú</td><td>Nem</td></tr>",
                            "<tr><td>Hotel Három Hattyú</td><td>Nem</td></tr>",
                            "<tr><td>Gold Hotel</td><td>Nem</td></tr>",
                            "<tr><td>Lagúna Hotel</td><td>Nem</td></tr>",
                            "<tr><td>Lagúna Hotel</td><td>Nem</td></tr>",
                            "<tr><td>Szieszta Apartmanház</td><td>Nem</td></tr>",
                            "<tr><td>Hotel Három Hattyú</td><td>Nem</td></tr>",
                            "<tr><td>Lagúna Hotel</td><td>Nem</td></tr>",
                            "<tr><td>Fortuna panzió</td><td>Igen</td></tr>",
                            "<tr><td>Jáde panzió</td><td>Igen</td></tr>",
                            "<tr><td>Hotel Három Hattyú</td><td>Nem</td></tr>",
                            "<tr><td>Kentaur Hotel</td><td>Nem</td></tr>",
                            "<tr><td>Kentaur Hotel</td><td>Nem</td></tr>",
                            "<tr><td>Kentaur Hotel</td><td>Nem</td></tr>",
                            "<tr><td>Hotel Három Hattyú</td><td>Nem</td></tr>",
                            "<tr><td>Lagúna Hotel</td><td>Nem</td></tr>",
                            "<tr><td>Lagúna Hotel</td><td>Nem</td></tr>",
                            "<tr><td>Lagúna Hotel</td><td>Nem</td></tr>",
                            "<tr><td>Hotel Három Hattyú</td><td>Nem</td></tr>",
                            "<tr><td>Hotel Három Hattyú</td><td>Nem</td></tr>",
                            "<tr><td>Hotel Három Hattyú</td><td>Nem</td></tr>",
                            "<tr><td>Gold Hotel</td><td>Nem</td></tr>",
                            "<tr><td>Kentaur Hotel</td><td>Nem</td></tr>",
                            "<tr><td>Fortuna panzió</td><td>Igen</td></tr>",
                            "<tr><td>Hotel Három Hattyú</td><td>Nem</td></tr>",
                            "<tr><td>Kentaur Hotel</td><td>Nem</td></tr>",
                            "<tr><td>Fortuna panzió</td><td>Igen</td></tr>",
                            "<tr><td>Fortuna panzió</td><td>Igen</td></tr>",
                            "<tr><td>Kentaur Hotel</td><td>Nem</td></tr>",
                            "<tr><td>Gold Hotel</td><td>Nem</td></tr>",
                            "<tr><td>Kentaur Hotel</td><td>Nem</td></tr>",
                            "<tr><td>Hotel Három Hattyú</td><td>Nem</td></tr>",
                            "<tr><td>Kentaur Hotel</td><td>Nem</td></tr>",
                            "<tr><td>Gold Hotel</td><td>Nem</td></tr>",
                            "<tr><td>Fortuna panzió</td><td>Igen</td></tr>",
                            "<tr><td>Kentaur Hotel</td><td>Nem</td></tr>",
                            "<tr><td>Gold Hotel</td><td>Nem</td></tr>",
                            "<tr><td>Hotel Három Hattyú</td><td>Nem</td></tr>",
                            "<tr><td>Hotel Három Hattyú</td><td>Nem</td></tr>",
                            "<tr><td>Hotel Három Hattyú</td><td>Nem</td></tr>",
                            "<tr><td>Lagúna Hotel</td><td>Nem</td></tr>",
                            "<tr><td>Hotel Három Hattyú</td><td>Nem</td></tr>",
                            "<tr><td>Kentaur Hotel</td><td>Nem</td></tr>",
                            "<tr><td>Hotel Három Hattyú</td><td>Nem</td></tr>",
                            "<tr><td>Hotel Három Hattyú</td><td>Nem</td></tr>",
                            "<tr><td>Szieszta Apartmanház</td><td>Nem</td></tr>",
                            "<tr><td>Partiszél Vendégház</td><td>Nem</td></tr>",
                            "<tr><td>Lagúna Hotel</td><td>Nem</td></tr>",
                            "<tr><td>Hotel Három Hattyú</td><td>Nem</td></tr>",
                            "<tr><td>Hotel Három Hattyú</td><td>Nem</td></tr>",
                            "<tr><td>Gold Hotel</td><td>Nem</td></tr>",
                            "<tr><td>Szieszta Apartmanház</td><td>Nem</td></tr>",
                            "<tr><td>Kentaur Hotel</td><td>Nem</td></tr>",
                            "<tr><td>Gold Hotel</td><td>Nem</td></tr>",
                            "<tr><td>Hotel Három Hattyú</td><td>Nem</td></tr>",
                            "<tr><td>Jáde panzió</td><td>Igen</td></tr>",
                            "<tr><td>Gold Hotel</td><td>Nem</td></tr>",
                            "<tr><td>Fortuna panzió</td><td>Igen</td></tr>",
                            "<tr><td>Kentaur Hotel</td><td>Nem</td></tr>",
                            "<tr><td>Hotel Három Hattyú</td><td>Nem</td></tr>",
                            "<tr><td>Gold Hotel</td><td>Nem</td></tr>",
                            "<tr><td>Fortuna Apartman</td><td>Nem</td></tr>",
                            "<tr><td>Fortuna panzió</td><td>Igen</td></tr>",
                            "<tr><td>Hotel Három Hattyú</td><td>Nem</td></tr>",
                            "<tr><td>Családi Ház</td><td>Nem</td></tr>",
                            "<tr><td>Hotel Három Hattyú</td><td>Nem</td></tr>",
                            "<tr><td>Gold Hotel</td><td>Nem</td></tr>",
                            "<tr><td>Gold Hotel</td><td>Nem</td></tr>",
                            "<tr><td>Gold Hotel</td><td>Nem</td></tr>",
                            "<tr><td>Sába-Ház</td><td>Nem</td></tr>",
                            "<tr><td>Hotel Három Hattyú</td><td>Nem</td></tr>",
                            "<tr><td>Fortuna Panzió</td><td>Igen</td></tr>",
                            "<tr><td>Kentaur Hotel</td><td>Nem</td></tr>",
                            "<tr><td>Gold Hotel</td><td>Nem</td></tr>",
                            "<tr><td>Hotel Három Hattyú</td><td>Nem</td></tr>",
                            "<tr><td>Gold Hotel</td><td>Nem</td></tr>",
                            "<tr><td>Sába-Ház</td><td>Nem</td></tr>",
                            "<tr><td>Kentaur Hotel</td><td>Nem</td></tr>",
                            "<tr><td>Lagúna Hotel</td><td>Nem</td></tr>",
                            "<tr><td>Lagúna Hotel</td><td>Nem</td></tr>",
                            "<tr><td>Sába-Ház</td><td>Nem</td></tr>",
                            "<tr><td>Fortuna panzió</td><td>Igen</td></tr>",
                            "<tr><td>Fortuna panzió</td><td>Igen</td></tr>",
                            "<tr><td>Gold Hotel</td><td>Nem</td></tr>",
                            "<tr><td>Hotel Három Hattyú</td><td>Nem</td></tr>",
                            "<tr><td>Kentaur Hotel</td><td>Nem</td></tr>",
                            "<tr><td>Hotel Három Hattyú</td><td>Nem</td></tr>",
                            "<tr><td>Gold Hotel</td><td>Nem</td></tr>",
                            "<tr><td>Családi Ház</td><td>Nem</td></tr>",
                            "<tr><td>Kentaur Hotel</td><td>Nem</td></tr>",
                            "<tr><td>Fortuna Panzió</td><td>Igen</td></tr>",
                            "<tr><td>Hotel Három Hattyú</td><td>Nem</td></tr>",
                            "<tr><td>Kentaur Hotel</td><td>Nem</td></tr>",
                            "<tr><td>Kentaur Hotel</td><td>Nem</td></tr>",
                            "<tr><td>Lagúna Hotel</td><td>Nem</td></tr>",
                            "<tr><td>Gold Hotel</td><td>Nem</td></tr>",
                            "<tr><td>Lagúna Hotel</td><td>Nem</td></tr>",
                            "<tr><td>Kentaur Hotel</td><td>Nem</td></tr>",
                            "<tr><td>Hotel Három Hattyú</td><td>Nem</td></tr>",
                            "<tr><td>Szieszta Apartmanház</td><td>Nem</td></tr>",
                            "<tr><td>Fortuna panzió</td><td>Igen</td></tr>",
                            "<tr><td>Hotel Három Hattyú</td><td>Nem</td></tr>",
                            "<tr><td>Szieszta Apartmanház</td><td>Nem</td></tr>",
                            "<tr><td>Kentaur Hotel</td><td>Nem</td></tr>",
                            "<tr><td>Kentaur Hotel</td><td>Nem</td></tr>",
                            "<tr><td>Fortuna panzió</td><td>Igen</td></tr>",
                            "<tr><td>Lagúna Hotel</td><td>Nem</td></tr>",
                            "<tr><td>Kentaur Hotel</td><td>Nem</td></tr>",
                            "<tr><td>Lagúna Hotel</td><td>Nem</td></tr>",
                            "<tr><td>Gold Hotel</td><td>Nem</td></tr>",
                            "<tr><td>Kentaur Hotel</td><td>Nem</td></tr>",
                            "<tr><td>Kentaur Hotel</td><td>Nem</td></tr>",
                            "<tr><td>Kentaur Hotel</td><td>Nem</td></tr>",
                            "<tr><td>Gold Hotel</td><td>Nem</td></tr>",
                            "<tr><td>Hotel Három Hattyú</td><td>Nem</td></tr>",
                            "<tr><td>Családi Ház</td><td>Nem</td></tr>",
                            "<tr><td>Lagúna Hotel</td><td>Nem</td></tr>",
                            "<tr><td>Lagúna Hotel</td><td>Nem</td></tr>",
                            "<tr><td>Hotel Három Hattyú</td><td>Nem</td></tr>",
                            "<tr><td>Gold Hotel</td><td>Nem</td></tr>",
                            "<tr><td>Jáde panzió</td><td>Igen</td></tr>",
                            "<tr><td>Jáde panzió</td><td>Igen</td></tr>",
                            "<tr><td>Fortuna panzió</td><td>Igen</td></tr>",
                            "<tr><td>Kentaur Hotel</td><td>Nem</td></tr>",
                            "<tr><td>Fortuna panzió</td><td>Igen</td></tr>",
                            "<tr><td>Lagúna Hotel</td><td>Nem</td></tr>",
                            "<tr><td>Fortuna panzió</td><td>Igen</td></tr>",
                            "<tr><td>Hotel Három Hattyú</td><td>Nem</td></tr>",
                            "<tr><td>Hotel Három Hattyú</td><td>Nem</td></tr>",
                            "<tr><td>Hotel Három Hattyú</td><td>Nem</td></tr>",
                            "<tr><td>Gold Hotel</td><td>Nem</td></tr>",
                            "<tr><td>Hotel Három Hattyú</td><td>Nem</td></tr>",
                            "<tr><td>Hotel Három Hattyú</td><td>Nem</td></tr>",
                            "<tr><td>Partiszél Vendégház</td><td>Nem</td></tr>",
                            "<tr><td>Hotel Három Hattyú</td><td>Nem</td></tr>",
                            "<tr><td>Hotel Három Hattyú</td><td>Nem</td></tr>",
                            "<tr><td>Lagúna Hotel</td><td>Nem</td></tr>",
                            "<tr><td>Gold Hotel</td><td>Nem</td></tr>",
                            "<tr><td>Sába-Ház</td><td>Nem</td></tr>",
                            "<tr><td>Hotel Három Hattyú</td><td>Nem</td></tr>",
                            "<tr><td>Hotel Három Hattyú</td><td>Nem</td></tr>",
                            "<tr><td>Hotel Három Hattyú</td><td>Nem</td></tr>",
                            "<tr><td>Kentaur Hotel</td><td>Nem</td></tr>",
                            "<tr><td>Gold Hotel</td><td>Nem</td></tr>",
                            "<tr><td>Családi Ház</td><td>Nem</td></tr>",
                            "<tr><td>Hotel Három Hattyú</td><td>Nem</td></tr>",
                            "<tr><td>Hotel Három Hattyú</td><td>Nem</td></tr>",
                            "<tr><td>Hotel Három Hattyú</td><td>Nem</td></tr>",
                            "<tr><td>Gold Hotel</td><td>Nem</td></tr>",
                            "<tr><td>Gold Hotel</td><td>Nem</td></tr>",
                            "<tr><td>Kentaur Hotel</td><td>Nem</td></tr>",
                            "<tr><td>Fortuna Apartman</td><td>Nem</td></tr>",
                            "<tr><td>Kentaur Hotel</td><td>Nem</td></tr>",
                            "<tr><td>Lagúna Hotel</td><td>Nem</td></tr>",
                            "<tr><td>Gold Hotel</td><td>Nem</td></tr>",
                            "<tr><td>Hotel Három Hattyú</td><td>Nem</td></tr>",
                            "<tr><td>Hotel Három Hattyú</td><td>Nem</td></tr>",
                            "<tr><td>Gold Hotel</td><td>Nem</td></tr>",
                            "<tr><td>Kentaur Hotel</td><td>Nem</td></tr>",
                            "<tr><td>Szieszta Apartmanház</td><td>Nem</td></tr>",
                            "<tr><td>Lagúna Hotel</td><td>Nem</td></tr>",
                            "<tr><td>Fortuna Panzió</td><td>Igen</td></tr>",
                            "<tr><td>Hotel Három Hattyú</td><td>Nem</td></tr>",
                            "<tr><td>Gold Hotel</td><td>Nem</td></tr>",
                            "<tr><td>Hotel Három Hattyú</td><td>Nem</td></tr>",
                            "<tr><td>Jáde panzió</td><td>Igen</td></tr>",
                            "<tr><td>Kentaur Hotel</td><td>Nem</td></tr>",
                            "<tr><td>Szieszta Apartmanház</td><td>Nem</td></tr>",
                            "<tr><td>Hotel Három Hattyú</td><td>Nem</td></tr>",
                            "<tr><td>Sába-Ház</td><td>Nem</td></tr>",
                            "<tr><td>Fortuna Panzió</td><td>Igen</td></tr>",
                            "<tr><td>Hotel Három Hattyú</td><td>Nem</td></tr>",
                            "<tr><td>Gold Hotel</td><td>Nem</td></tr>",
                            "<tr><td>Hotel Három Hattyú</td><td>Nem</td></tr>",
                            "<tr><td>Hotel Három Hattyú</td><td>Nem</td></tr>",
                            "<tr><td>Fortuna panzió</td><td>Igen</td></tr>",
                            "<tr><td>Hotel Három Hattyú</td><td>Nem</td></tr>",
                            "<tr><td>Hotel Három Hattyú</td><td>Nem</td></tr>",
                            "<tr><td>Hotel Három Hattyú</td><td>Nem</td></tr>",
                            "<tr><td>Fortuna Apartman</td><td>Nem</td></tr>",
                            "<tr><td>Kentaur Hotel</td><td>Nem</td></tr>",
                            "<tr><td>Jáde panzió</td><td>Igen</td></tr>",
                            "<tr><td>Fortuna Panzió</td><td>Igen</td></tr>",
                            "<tr><td>Sába-Ház</td><td>Nem</td></tr>",
                            "<tr><td>Fortuna panzió</td><td>Igen</td></tr>",
                            "<tr><td>Lagúna Hotel</td><td>Nem</td></tr>",
                            "<tr><td>Hotel Három Hattyú</td><td>Nem</td></tr>",
                            "<tr><td>Lagúna Hotel</td><td>Nem</td></tr>",
                            "<tr><td>Családi Ház</td><td>Nem</td></tr>",
                            "<tr><td>Hotel Három Hattyú</td><td>Nem</td></tr>",
                            "<tr><td>Sába-Ház</td><td>Nem</td></tr>",
                            "<tr><td>Lagúna Hotel</td><td>Nem</td></tr>",
                            "<tr><td>Fortuna Panzió</td><td>Igen</td></tr>",
                            "<tr><td>Fortuna Panzió</td><td>Igen</td></tr>",
                            "<tr><td>Szieszta Apartmanház</td><td>Nem</td></tr>",
                            "<tr><td>Fortuna Apartman</td><td>Nem</td></tr>",
                            "<tr><td>Kentaur Hotel</td><td>Nem</td></tr>",
                            "<tr><td>Lagúna Hotel</td><td>Nem</td></tr>",
                            "<tr><td>Fortuna Panzió</td><td>Igen</td></tr>",
                            "<tr><td>Fortuna Panzió</td><td>Igen</td></tr>",
                            "<tr><td>Hotel Három Hattyú</td><td>Nem</td></tr>",
                            "<tr><td>Hotel Három Hattyú</td><td>Nem</td></tr>",
                            "<tr><td>Fortuna panzió</td><td>Igen</td></tr>",
                            "<tr><td>Kentaur Hotel</td><td>Nem</td></tr>",
                            "<tr><td>Lagúna Hotel</td><td>Nem</td></tr>",
                            "<tr><td>Gold Hotel</td><td>Nem</td></tr>",
                            "<tr><td>Hotel Három Hattyú</td><td>Nem</td></tr>",
                            "<tr><td>Lagúna Hotel</td><td>Nem</td></tr>",
                            "<tr><td>Kentaur Hotel</td><td>Nem</td></tr>",
                            "<tr><td>Gold Hotel</td><td>Nem</td></tr>",
                            "<tr><td>Hotel Három Hattyú</td><td>Nem</td></tr>",
                            "<tr><td>Partiszél Vendégház</td><td>Nem</td></tr>",
                            "<tr><td>Hotel Három Hattyú</td><td>Nem</td></tr>",
                            "<tr><td>Gold Hotel</td><td>Nem</td></tr>",
                            "<tr><td>Fortuna panzió</td><td>Igen</td></tr>",
                            "<tr><td>Hotel Három Hattyú</td><td>Nem</td></tr>",
                            "<tr><td>Gold Hotel</td><td>Nem</td></tr>",
                            "<tr><td>Partiszél Vendégház</td><td>Nem</td></tr>",
                            "<tr><td>Lagúna Hotel</td><td>Nem</td></tr>",
                            "<tr><td>Kentaur Hotel</td><td>Nem</td></tr>",
                            "<tr><td>Hotel Három Hattyú</td><td>Nem</td></tr>",
                            "<tr><td>Szieszta Apartmanház</td><td>Nem</td></tr>",
                            "<tr><td>Gold Hotel</td><td>Nem</td></tr>",
                            "<tr><td>Kentaur Hotel</td><td>Nem</td></tr>",
                            "<tr><td>Lagúna Hotel</td><td>Nem</td></tr>",
                            "<tr><td>Hotel Három Hattyú</td><td>Nem</td></tr>",
                            "<tr><td>Kentaur Hotel</td><td>Nem</td></tr>",
                            "<tr><td>Fortuna Panzió</td><td>Igen</td></tr>",
                            "<tr><td>Kentaur Hotel</td><td>Nem</td></tr>",
                            "<tr><td>Hotel Három Hattyú</td><td>Nem</td></tr>",
                            "<tr><td>Kentaur Hotel</td><td>Nem</td></tr>",
                            "</table>"
                        ]
                    }
                }
            ],
            "execution_count": 22
        }
    ]
}
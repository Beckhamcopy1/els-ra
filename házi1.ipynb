{
    "metadata": {
        "kernelspec": {
            "name": "SQL",
            "display_name": "SQL",
            "language": "sql"
        },
        "language_info": {
            "name": "sql",
            "version": ""
        }
    },
    "nbformat_minor": 2,
    "nbformat": 4,
    "cells": [
        {
            "cell_type": "code",
            "source": [
                "SELECT *\r\n",
                "FROM rendeles"
            ],
            "metadata": {
                "azdata_cell_guid": "b6300f94-5a2b-4179-ae66-5284f6247de9",
                "language": "sql",
                "tags": []
            },
            "outputs": [],
            "execution_count": null
        },
        {
            "cell_type": "code",
            "source": [
                "-- Hány sor van összesen?\r\n",
                "\r\n",
                "SELECT COUNT(*) AS \"Összes rekordok száma\"\r\n",
                "FROM Rendeles"
            ],
            "metadata": {
                "azdata_cell_guid": "17313abc-fb52-44c3-8c72-147a11d5fcc1",
                "language": "sql"
            },
            "outputs": [],
            "execution_count": null
        },
        {
            "cell_type": "code",
            "source": [
                "-- Hány NULL érték van a SZALL_CIM oszlopban?\r\n",
                "\r\n",
                "SELECT COUNT(*) AS \"Hiányzó Szállítási címek száma\"\r\n",
                "FROM Rendeles\r\n",
                "WHERE SZALL_CIM IS NULL;"
            ],
            "metadata": {
                "azdata_cell_guid": "941566fc-37c3-4fd3-ba88-b64cf2419862",
                "language": "sql"
            },
            "outputs": [],
            "execution_count": null
        },
        {
            "cell_type": "code",
            "source": [
                "-- Mennyi az átlagos kiszállítási idő?\r\n",
                "\r\n",
                "SELECT AVG(DATEDIFF(DAY, REND_DATUM, SZALL_DATUM)) AS \"Átlagos kiszállítási idő\"\r\n",
                "FROM Rendeles\r\n",
                "WHERE SZALL_DATUM IS NOT NULL AND REND_DATUM IS NOT NULL;"
            ],
            "metadata": {
                "azdata_cell_guid": "438815b7-2fd3-4319-bbb0-1bb758481033",
                "language": "sql",
                "tags": []
            },
            "outputs": [],
            "execution_count": null
        },
        {
            "cell_type": "code",
            "source": [
                "-- Eggyes szállítási módok használatának száma\r\n",
                "\r\n",
                "SELECT SZALL_MOD, COUNT(*)\r\n",
                "FROM Rendeles\r\n",
                "GROUP BY SZALL_MOD\r\n",
                "ORDER BY COUNT(*) DESC"
            ],
            "metadata": {
                "azdata_cell_guid": "d6574d21-ed0e-46fc-8618-3998c31c453f",
                "language": "sql",
                "tags": []
            },
            "outputs": [],
            "execution_count": null
        },
        {
            "cell_type": "code",
            "source": [
                "-- Eggyes fizetési módok használatának száma\r\n",
                "\r\n",
                "SELECT FIZ_MOD, COUNT(*)\r\n",
                "FROM Rendeles\r\n",
                "GROUP BY FIZ_MOD\r\n",
                "ORDER BY COUNT(*) DESC"
            ],
            "metadata": {
                "azdata_cell_guid": "eff3885d-36d3-4d6d-85e3-a5a6cf995d73",
                "language": "sql"
            },
            "outputs": [],
            "execution_count": null
        },
        {
            "cell_type": "code",
            "source": [
                "-- Akiknél NINCS számlázási cím\r\n",
                "\r\n",
                "SELECT COUNT(*) AS \"Akiknél NINCS számlázási cím\"\r\n",
                "FROM Rendeles\r\n",
                "WHERE SZAMLA_CIM IS NULL\r\n",
                ""
            ],
            "metadata": {
                "azdata_cell_guid": "42be5c6f-94ea-440b-932b-1adf52546a70",
                "language": "sql",
                "tags": []
            },
            "outputs": [],
            "execution_count": null
        },
        {
            "cell_type": "code",
            "source": [
                "-- egy-egy személy összesen hányszor rendelt, és venni szeretném az összes összegnek az átlagát\r\n",
                "\r\n",
                "SELECT AVG(login_számláló) AS \"személyenkénti átlag\"\r\n",
                "FROM (\r\n",
                "    SELECT COUNT([LOGIN]) AS \"login_számláló\"\r\n",
                "    FROM Rendeles\r\n",
                "    GROUP BY [LOGIN]\r\n",
                ") AS \"Rendelések száma személyenként\";"
            ],
            "metadata": {
                "azdata_cell_guid": "2c77fa9b-daae-442b-b60e-9ee87f9e891c",
                "language": "sql",
                "tags": []
            },
            "outputs": [],
            "execution_count": null
        }
    ]
}
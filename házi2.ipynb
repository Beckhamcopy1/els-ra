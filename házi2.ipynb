{
    "metadata": {
        "kernelspec": {
            "name": "SQL",
            "display_name": "SQL",
            "language": "sql"
        },
        "language_info": {
            "name": "sql",
            "version": ""
        }
    },
    "nbformat_minor": 2,
    "nbformat": 4,
    "cells": [
        {
            "cell_type": "code",
            "source": [
                "--Házi feladat\r\n",
                "\r\n",
                "-- Új tábla létrehozása dinamikus adatmaszkolással\r\n",
                "CREATE TABLE tabla_masolat1\r\n",
                "(\r\n",
                "    email varchar(100) MASKED WITH (FUNCTION = 'email()'),\r\n",
                "    szulev date MASKED WITH (FUNCTION = 'default()'),\r\n",
                "    nem int MASKED WITH (FUNCTION = 'random(1, 2)'),\r\n",
                "    nev varchar(100) MASKED WITH (FUNCTION = 'partial(3, \"XXX\", 3)'),\r\n",
                "    [login] varchar(100),\r\n",
                "    cim varchar(100)\r\n",
                ");\r\n",
                "\r\n",
                "INSERT INTO tabla_masolat1 (email, szulev, nem, nev, [login], cim)\r\n",
                "SELECT email, szulev, nem, nev, [login], cim\r\n",
                "FROM ugyfel;\r\n",
                "\r\n",
                "CREATE USER MaskUser WITHOUT LOGIN;\r\n",
                "\r\n",
                "GRANT SELECT ON tabla_masolat1 TO MaskUser;\r\n",
                "\r\n",
                "EXECUTE AS USER = 'MaskUser';\r\n",
                "SELECT * FROM tabla_masolat1;\r\n",
                "REVERT;\r\n",
                ""
            ],
            "metadata": {
                "azdata_cell_guid": "07fcbeb6-1d32-4cf6-9eaf-d958eaed69a8",
                "language": "sql"
            },
            "outputs": [
                {
                    "output_type": "error",
                    "evalue": "Msg 262, Level 14, State 1, Line 4\r\nCREATE TABLE permission denied in database 'webshop'.",
                    "ename": "",
                    "traceback": []
                },
                {
                    "output_type": "display_data",
                    "data": {
                        "text/html": "Total execution time: 00:00:00.025"
                    },
                    "metadata": {}
                }
            ],
            "execution_count": 1
        }
    ]
}